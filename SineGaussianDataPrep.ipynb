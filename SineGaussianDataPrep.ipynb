{
  "nbformat": 4,
  "nbformat_minor": 0,
  "metadata": {
    "colab": {
      "name": "SineGaussianDataPrep.ipynb",
      "provenance": [],
      "collapsed_sections": [],
      "include_colab_link": true
    },
    "kernelspec": {
      "name": "python3",
      "display_name": "Python 3"
    }
  },
  "cells": [
    {
      "cell_type": "markdown",
      "metadata": {
        "id": "view-in-github",
        "colab_type": "text"
      },
      "source": [
        "<a href=\"https://colab.research.google.com/github/SGRGit/gwOsc/blob/Main/SineGaussianDataPrep.ipynb\" target=\"_parent\"><img src=\"https://colab.research.google.com/assets/colab-badge.svg\" alt=\"Open In Colab\"/></a>"
      ]
    },
    {
      "cell_type": "code",
      "metadata": {
        "id": "Z4qJn-uL8or5",
        "colab_type": "code",
        "colab": {
          "base_uri": "https://localhost:8080/",
          "height": 121
        },
        "outputId": "0462f6ab-1c5a-4add-e694-544382553147"
      },
      "source": [
        "from google.colab import drive\n",
        "drive.mount('/content/drive')"
      ],
      "execution_count": 1,
      "outputs": [
        {
          "output_type": "stream",
          "text": [
            "Go to this URL in a browser: https://accounts.google.com/o/oauth2/auth?client_id=947318989803-6bn6qk8qdgf4n4g3pfee6491hc0brc4i.apps.googleusercontent.com&redirect_uri=urn%3Aietf%3Awg%3Aoauth%3A2.0%3Aoob&scope=email%20https%3A%2F%2Fwww.googleapis.com%2Fauth%2Fdocs.test%20https%3A%2F%2Fwww.googleapis.com%2Fauth%2Fdrive%20https%3A%2F%2Fwww.googleapis.com%2Fauth%2Fdrive.photos.readonly%20https%3A%2F%2Fwww.googleapis.com%2Fauth%2Fpeopleapi.readonly&response_type=code\n",
            "\n",
            "Enter your authorization code:\n",
            "··········\n",
            "Mounted at /content/drive\n"
          ],
          "name": "stdout"
        }
      ]
    },
    {
      "cell_type": "code",
      "metadata": {
        "id": "Fg-ub0N0847L",
        "colab_type": "code",
        "colab": {}
      },
      "source": [
        "import os\n",
        "base_dir = \"drive/My Drive/Colab Notebooks/SignalProc/Iteration 3\"\n",
        "seta = 'Signal'\n",
        "setb = 'Noise'\n",
        "\n",
        "data_dir = os.path.join(base_dir, 'data')\n",
        "seta_data_dir = os.path.join(data_dir, seta)\n",
        "seta_data_fnnames = os.listdir(seta_data_dir)\n",
        "\n",
        "setb_data_dir = os.path.join(data_dir, setb)\n",
        "setb_data_fnnames = os.listdir(setb_data_dir)"
      ],
      "execution_count": 0,
      "outputs": []
    },
    {
      "cell_type": "code",
      "metadata": {
        "id": "iZZlQ3L-9vDL",
        "colab_type": "code",
        "colab": {
          "base_uri": "https://localhost:8080/",
          "height": 302
        },
        "outputId": "f04feffe-c4ea-4afc-9d7b-208d52c64fab"
      },
      "source": [
        "import numpy as np\n",
        "from scipy import signal\n",
        "import matplotlib.pyplot as plt\n",
        "\n",
        "t = np.linspace(-3, 3, 2 * 100, endpoint=False)\n",
        "i, q, e = np.array(100*t)*signal.gausspulse(t, fc = 5 , retquad=True, retenv=True)\n",
        "n = (1/20)*np.array(60)*np.random.randn(len(t))\n",
        "xn = i + n\n",
        "plt.plot(t, xn, 'b', t, i, 'r')"
      ],
      "execution_count": 27,
      "outputs": [
        {
          "output_type": "execute_result",
          "data": {
            "text/plain": [
              "[<matplotlib.lines.Line2D at 0x7f62fd904710>,\n",
              " <matplotlib.lines.Line2D at 0x7f62fd904978>]"
            ]
          },
          "metadata": {
            "tags": []
          },
          "execution_count": 27
        },
        {
          "output_type": "display_data",
          "data": {
            "image/png": "[encoded data removed]",
            "text/plain": [
              "<Figure size 432x288 with 1 Axes>"
            ]
          },
          "metadata": {
            "tags": []
          }
        }
      ]
    },
    {
      "cell_type": "code",
      "metadata": {
        "id": "HCTO3GorE75P",
        "colab_type": "code",
        "colab": {
          "base_uri": "https://localhost:8080/",
          "height": 50
        },
        "outputId": "d837646c-2713-4386-ffe2-71d167b1c471"
      },
      "source": [
        "from scipy.fftpack import fft\n",
        "import matplotlib.pyplot as plt\n",
        "import numpy as np\n",
        "from scipy import signal\n",
        "fs = 100\n",
        "\n",
        "alpha = np.linspace(1, 5, num = 500)\n",
        "neu = np.linspace(5, 20, num = 500)\n",
        "\n",
        "t = np.linspace(-3, 3, 2 * 100, endpoint=False)\n",
        "signal_amp = np.array(100*t)\n",
        "#noise_amp = np.array(60)\n",
        "\n",
        "\n",
        "def plot_spectrogram_sig(sig, fs):\n",
        "  from scipy import signal\n",
        "  freqs, times, spectrogram = signal.spectrogram(sig)\n",
        "  plt.imshow(spectrogram, aspect='auto')\n",
        "  plt.ylabel('Frequency band')\n",
        "  plt.xlabel('Time window')\n",
        "  plt.title('Spectrogram for Signal : Iteration %d' %a)\n",
        "  plt.savefig(os.path.join(seta_data_dir,'SPG for Signal%d'%a))\n",
        "  plt.close()\n",
        "  \n",
        "  \n",
        "def plot_spectrogram_ns(noise, fs):\n",
        "  from scipy import signal\n",
        "  freqs, times, spectrogram = signal.spectrogram(noise)\n",
        "  plt.imshow(spectrogram, aspect='auto')\n",
        "  plt.ylabel('Frequency band')\n",
        "  plt.xlabel('Time window')\n",
        "  plt.title('Spectrogram for Noise : Iteration %d' %a)\n",
        "  plt.savefig(os.path.join(setb_data_dir,'SPG for Noise%d'%a))\n",
        "  plt.close()\n",
        "\n",
        "for a in range(0, 500, 1):\n",
        "  i, q, e = signal_amp*signal.gausspulse(t, fc=1*alpha[a], retquad=True, retenv=True)\n",
        "  n = (1/neu[a])*np.array(60)*np.random.randn(len(t)) \n",
        "  xn = i + n # Noise+Signal\n",
        "  plot_spectrogram_sig(xn, fs)\n",
        "\n",
        "for a in range(0, 500, 1):\n",
        "  n = (1/neu[a])*np.array(60)*np.random.randn(len(t)) \n",
        "  plot_spectrogram_ns(n, fs)"
      ],
      "execution_count": 28,
      "outputs": [
        {
          "output_type": "stream",
          "text": [
            "/usr/local/lib/python3.6/dist-packages/scipy/signal/spectral.py:1969: UserWarning: nperseg = 256 is greater than input length  = 200, using nperseg = 200\n",
            "  .format(nperseg, input_length))\n"
          ],
          "name": "stderr"
        }
      ]
    },
    {
      "cell_type": "code",
      "metadata": {
        "id": "Emh-ZGa1J9r4",
        "colab_type": "code",
        "colab": {}
      },
      "source": [
        ""
      ],
      "execution_count": 0,
      "outputs": []
    }
  ]
}