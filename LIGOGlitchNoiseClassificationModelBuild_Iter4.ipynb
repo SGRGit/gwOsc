{
  "nbformat": 4,
  "nbformat_minor": 0,
  "metadata": {
    "colab": {
      "name": "LIGOGlitchNoiseClassificationModelBuild.ipynb",
      "provenance": [],
      "include_colab_link": true
    },
    "kernelspec": {
      "name": "python3",
      "display_name": "Python 3"
    }
  },
  "cells": [
    {
      "cell_type": "markdown",
      "metadata": {
        "id": "view-in-github",
        "colab_type": "text"
      },
      "source": [
        "<a href=\"https://colab.research.google.com/github/SGRGit/gwOsc/blob/FinalCode/LIGOGlitchNoiseClassificationModelBuild_Iter4.ipynb\" target=\"_parent\"><img src=\"https://colab.research.google.com/assets/colab-badge.svg\" alt=\"Open In Colab\"/></a>"
      ]
    },
    {
      "cell_type": "code",
      "metadata": {
        "id": "SWAw1Nq_7K9d",
        "colab_type": "code",
        "outputId": "f48b6baa-420e-498a-f2f2-2b7282adcd8a",
        "colab": {
          "base_uri": "https://localhost:8080/",
          "height": 63
        }
      },
      "source": [
        "import os\n",
        "import matplotlib.pyplot as plt\n",
        "from tensorflow.keras.preprocessing.image import ImageDataGenerator\n",
        "%matplotlib inline\n",
        "import matplotlib.image as mpimg\n",
        "from tensorflow.keras.preprocessing.image import array_to_img, img_to_array, load_img"
      ],
      "execution_count": 1,
      "outputs": [
        {
          "output_type": "display_data",
          "data": {
            "text/html": [
              "<p style=\"color: red;\">\n",
              "The default version of TensorFlow in Colab will soon switch to TensorFlow 2.x.<br>\n",
              "We recommend you <a href=\"https://www.tensorflow.org/guide/migrate\" target=\"_blank\">upgrade</a> now \n",
              "or ensure your notebook will continue to use TensorFlow 1.x via the <code>%tensorflow_version 1.x</code> magic:\n",
              "<a href=\"https://colab.research.google.com/notebooks/tensorflow_version.ipynb\" target=\"_blank\">more info</a>.</p>\n"
            ],
            "text/plain": [
              "<IPython.core.display.HTML object>"
            ]
          },
          "metadata": {
            "tags": []
          }
        }
      ]
    },
    {
      "cell_type": "code",
      "metadata": {
        "id": "bqVQ4YNM7l5K",
        "colab_type": "code",
        "outputId": "977d0a12-1ef9-4829-85a0-06d9041e0066",
        "colab": {
          "base_uri": "https://localhost:8080/",
          "height": 34
        }
      },
      "source": [
        "from google.colab import drive\n",
        "drive.mount('/content/gdrive/')"
      ],
      "execution_count": 2,
      "outputs": [
        {
          "output_type": "stream",
          "text": [
            "Drive already mounted at /content/gdrive/; to attempt to forcibly remount, call drive.mount(\"/content/gdrive/\", force_remount=True).\n"
          ],
          "name": "stdout"
        }
      ]
    },
    {
      "cell_type": "code",
      "metadata": {
        "id": "vqEmQCer8K1q",
        "colab_type": "code",
        "colab": {}
      },
      "source": [
        "import sys\n",
        "sys.path.append('/content/gdrive/My Drive/Colab Notebooks')"
      ],
      "execution_count": 0,
      "outputs": []
    },
    {
      "cell_type": "code",
      "metadata": {
        "id": "naah3nFg8Vj4",
        "colab_type": "code",
        "colab": {}
      },
      "source": [
        "import os\n",
        "base_dir = \"gdrive/My Drive/Colab Notebooks/GlitchNoiseClassification/\"\n",
        "seta = 'Glitch'\n",
        "setb = 'Noise'\n",
        "\n",
        "data_dir = os.path.join(base_dir, 'Data')\n",
        "seta_data_dir = os.path.join(data_dir, seta)\n",
        "seta_data_fnnames = os.listdir(seta_data_dir)\n",
        "\n",
        "setb_data_dir = os.path.join(data_dir, setb)\n",
        "setb_data_fnnames = os.listdir(setb_data_dir)"
      ],
      "execution_count": 0,
      "outputs": []
    },
    {
      "cell_type": "code",
      "metadata": {
        "id": "obJqKPfM8buY",
        "colab_type": "code",
        "outputId": "251eadb7-8e14-4bab-bae5-5d008c3c549b",
        "colab": {
          "base_uri": "https://localhost:8080/",
          "height": 34
        }
      },
      "source": [
        "from sklearn import svm, datasets\n",
        "from sklearn.model_selection import cross_val_score\n",
        "from keras import regularizers\n",
        "import numpy as np"
      ],
      "execution_count": 5,
      "outputs": [
        {
          "output_type": "stream",
          "text": [
            "Using TensorFlow backend.\n"
          ],
          "name": "stderr"
        }
      ]
    },
    {
      "cell_type": "code",
      "metadata": {
        "id": "jMK1rJZAzRS6",
        "colab_type": "code",
        "colab": {}
      },
      "source": [
        "setb_data_fnnames = np.delete(setb_data_fnnames, (762), axis=0)"
      ],
      "execution_count": 0,
      "outputs": []
    },
    {
      "cell_type": "code",
      "metadata": {
        "id": "bFesa2ew9Wmx",
        "colab_type": "code",
        "colab": {}
      },
      "source": [
        "seta_data_fnnames = np.delete(seta_data_fnnames, (1804), axis=0)"
      ],
      "execution_count": 0,
      "outputs": []
    },
    {
      "cell_type": "code",
      "metadata": {
        "id": "8P6aAjxr9eKB",
        "colab_type": "code",
        "outputId": "e9f6408d-f5dc-43a4-8d00-fcb556ef225d",
        "colab": {
          "base_uri": "https://localhost:8080/",
          "height": 34
        }
      },
      "source": [
        "len(seta_data_fnnames)"
      ],
      "execution_count": 8,
      "outputs": [
        {
          "output_type": "execute_result",
          "data": {
            "text/plain": [
              "1804"
            ]
          },
          "metadata": {
            "tags": []
          },
          "execution_count": 8
        }
      ]
    },
    {
      "cell_type": "code",
      "metadata": {
        "id": "CSx5du9S8hy_",
        "colab_type": "code",
        "colab": {}
      },
      "source": [
        "import numpy as np\n",
        "import cv2\n",
        "q1 = np.empty((1, 150, 150, 3))\n",
        "q2 = np.empty((1, 150, 150, 3))\n",
        "for a in range(1, len(seta_data_fnnames), 1):\n",
        "  img_path_a = os.path.join(seta_data_dir, seta_data_fnnames[a])\n",
        "  img_a = cv2.imread(os.path.join(seta_data_dir, seta_data_fnnames[a]))\n",
        "  img_a = cv2.resize(img_a, (150, 150))\n",
        "  q1 = np.vstack((q1, img_to_array(img_a).reshape(1, 150, 150, 3)))\n",
        "  t1 = np.ones([len(seta_data_fnnames),1])\n",
        "  \n",
        "for b in range(1, len(setb_data_fnnames), 1):\n",
        "  img_path_b = os.path.join(setb_data_dir, setb_data_fnnames[b])\n",
        "  img_b = cv2.imread(os.path.join(setb_data_dir, setb_data_fnnames[b]))\n",
        "  img_b = cv2.resize(img_b, (150, 150))\n",
        "  q2 = np.vstack((q2, img_to_array(img_b).reshape(1, 150, 150, 3)))\n",
        "  t2 = np.zeros([len(setb_data_fnnames),1])"
      ],
      "execution_count": 0,
      "outputs": []
    },
    {
      "cell_type": "code",
      "metadata": {
        "id": "LiL7Pjvl8ZAc",
        "colab_type": "code",
        "outputId": "93c33281-5ef4-4b93-e0ca-d7f4b6eb3ec1",
        "colab": {
          "base_uri": "https://localhost:8080/",
          "height": 163
        }
      },
      "source": [
        "len(t)"
      ],
      "execution_count": 10,
      "outputs": [
        {
          "output_type": "error",
          "ename": "NameError",
          "evalue": "ignored",
          "traceback": [
            "\u001b[0;31m---------------------------------------------------------------------------\u001b[0m",
            "\u001b[0;31mNameError\u001b[0m                                 Traceback (most recent call last)",
            "\u001b[0;32m<ipython-input-10-3941e0efbbc0>\u001b[0m in \u001b[0;36m<module>\u001b[0;34m()\u001b[0m\n\u001b[0;32m----> 1\u001b[0;31m \u001b[0mlen\u001b[0m\u001b[0;34m(\u001b[0m\u001b[0mt\u001b[0m\u001b[0;34m)\u001b[0m\u001b[0;34m\u001b[0m\u001b[0;34m\u001b[0m\u001b[0m\n\u001b[0m",
            "\u001b[0;31mNameError\u001b[0m: name 't' is not defined"
          ]
        }
      ]
    },
    {
      "cell_type": "code",
      "metadata": {
        "id": "-j_mG9nW8ldF",
        "colab_type": "code",
        "colab": {}
      },
      "source": [
        "t = np.vstack((t1, t2))\n",
        "q = np.vstack((q1, q2))"
      ],
      "execution_count": 0,
      "outputs": []
    },
    {
      "cell_type": "code",
      "metadata": {
        "id": "2E26vS-G-4BW",
        "colab_type": "code",
        "colab": {}
      },
      "source": [
        "from sklearn.model_selection import train_test_split\n",
        "X_train, X_test, y_train, y_test = train_test_split(q, t, test_size=0.2, shuffle=True)"
      ],
      "execution_count": 0,
      "outputs": []
    },
    {
      "cell_type": "code",
      "metadata": {
        "id": "5wniOVev_fYd",
        "colab_type": "code",
        "colab": {
          "base_uri": "https://localhost:8080/",
          "height": 88
        },
        "outputId": "2217bd16-e52c-4647-f926-d9aa04780fbd"
      },
      "source": [
        "#Import Tensorflow Libraries\n",
        "from tensorflow.keras import layers\n",
        "from tensorflow.keras import Model\n",
        "from keras import regularizers\n",
        "\n",
        "img_input = layers.Input(shape=(150, 150, 3))\n",
        "\n",
        "# 2D Conv Layer with 64 filters of dimension 3x3 and ReLU activation function\n",
        "x = layers.Conv2D(64, 3, activation = 'relu')(img_input)\n",
        "# 2D Max Pooling Layer\n",
        "x = layers.MaxPooling2D(2)(x)\n",
        "\n",
        "# 2D Conv Layer with 128 filters of dimension 3x3 and ReLU activation function\n",
        "x = layers.Conv2D(128, 3, activation = 'relu')(x)\n",
        "# 2D Max Pooling Layer\n",
        "x = layers.MaxPooling2D(2)(x)\n",
        "\n",
        "# 2D Conv Layer with 256 filters of dimension 3x3 and ReLU activation function\n",
        "x = layers.Conv2D(256, 3, activation = 'relu')(x)\n",
        "# 2D Max Pooling Layer\n",
        "x = layers.MaxPooling2D(2)(x)\n",
        "\n",
        "# 2D Conv Layer with 512 filters of dimension 3x3 and ReLU activation function\n",
        "x = layers.Conv2D(512, 3, activation = 'relu')(x)\n",
        "# 2D Max Pooling Layer\n",
        "x = layers.MaxPooling2D(2)(x)\n",
        "\n",
        "# 2D Conv Layer with 512 filters of dimension 3x3 and ReLU activation function\n",
        "x = layers.Conv2D(512, 3, activation = 'relu')(x)\n",
        "\n",
        "# Faltten Layer\n",
        "x = layers.Flatten()(x)\n",
        "\n",
        "# Fully Connected Layers and ReLU activation algoritm\n",
        "x = layers.Dense(4096, activation = 'relu')(x)\n",
        "x = layers.Dense(4096, activation = 'relu')(x)\n",
        "x = layers.Dense(1000, activation = 'relu', kernel_regularizer=regularizers.l2(0.01), activity_regularizer=regularizers.l2(0.01))(x)\n",
        "\n",
        "# Dropout Layer for Optimization\n",
        "x = layers.Dropout(0.5,noise_shape=None, seed=None)(x)\n",
        "\n",
        "# Fully connected layers and sigmoid activation algorithm\n",
        "output = layers.Dense(1, activation = 'sigmoid')(x)\n",
        "\n",
        "model = Model(img_input, output)"
      ],
      "execution_count": 13,
      "outputs": [
        {
          "output_type": "stream",
          "text": [
            "WARNING:tensorflow:From /usr/local/lib/python3.6/dist-packages/tensorflow_core/python/ops/resource_variable_ops.py:1630: calling BaseResourceVariable.__init__ (from tensorflow.python.ops.resource_variable_ops) with constraint is deprecated and will be removed in a future version.\n",
            "Instructions for updating:\n",
            "If using Keras pass *_constraint arguments to layers.\n"
          ],
          "name": "stdout"
        }
      ]
    },
    {
      "cell_type": "code",
      "metadata": {
        "id": "3jKKKiXq_lxl",
        "colab_type": "code",
        "outputId": "1a489c4b-3506-4321-faee-ec47bf53e5ef",
        "colab": {
          "base_uri": "https://localhost:8080/",
          "height": 697
        }
      },
      "source": [
        "model.summary()"
      ],
      "execution_count": 14,
      "outputs": [
        {
          "output_type": "stream",
          "text": [
            "Model: \"model\"\n",
            "_________________________________________________________________\n",
            "Layer (type)                 Output Shape              Param #   \n",
            "=================================================================\n",
            "input_1 (InputLayer)         [(None, 150, 150, 3)]     0         \n",
            "_________________________________________________________________\n",
            "conv2d (Conv2D)              (None, 148, 148, 64)      1792      \n",
            "_________________________________________________________________\n",
            "max_pooling2d (MaxPooling2D) (None, 74, 74, 64)        0         \n",
            "_________________________________________________________________\n",
            "conv2d_1 (Conv2D)            (None, 72, 72, 128)       73856     \n",
            "_________________________________________________________________\n",
            "max_pooling2d_1 (MaxPooling2 (None, 36, 36, 128)       0         \n",
            "_________________________________________________________________\n",
            "conv2d_2 (Conv2D)            (None, 34, 34, 256)       295168    \n",
            "_________________________________________________________________\n",
            "max_pooling2d_2 (MaxPooling2 (None, 17, 17, 256)       0         \n",
            "_________________________________________________________________\n",
            "conv2d_3 (Conv2D)            (None, 15, 15, 512)       1180160   \n",
            "_________________________________________________________________\n",
            "max_pooling2d_3 (MaxPooling2 (None, 7, 7, 512)         0         \n",
            "_________________________________________________________________\n",
            "conv2d_4 (Conv2D)            (None, 5, 5, 512)         2359808   \n",
            "_________________________________________________________________\n",
            "flatten (Flatten)            (None, 12800)             0         \n",
            "_________________________________________________________________\n",
            "dense (Dense)                (None, 4096)              52432896  \n",
            "_________________________________________________________________\n",
            "dense_1 (Dense)              (None, 4096)              16781312  \n",
            "_________________________________________________________________\n",
            "dense_2 (Dense)              (None, 1000)              4097000   \n",
            "_________________________________________________________________\n",
            "dropout (Dropout)            (None, 1000)              0         \n",
            "_________________________________________________________________\n",
            "dense_3 (Dense)              (None, 1)                 1001      \n",
            "=================================================================\n",
            "Total params: 77,222,993\n",
            "Trainable params: 77,222,993\n",
            "Non-trainable params: 0\n",
            "_________________________________________________________________\n"
          ],
          "name": "stdout"
        }
      ]
    },
    {
      "cell_type": "code",
      "metadata": {
        "id": "bXhobHGR_qT0",
        "colab_type": "code",
        "colab": {
          "base_uri": "https://localhost:8080/",
          "height": 68
        },
        "outputId": "e38c1009-1264-4ce1-a6db-a2f46a0cabf2"
      },
      "source": [
        "import tensorflow as tf\n",
        "model.compile(loss = 'binary_crossentropy',\n",
        "             optimizer = tf.train.AdamOptimizer(learning_rate = 0.0003),\n",
        "             metrics = ['accuracy'])"
      ],
      "execution_count": 15,
      "outputs": [
        {
          "output_type": "stream",
          "text": [
            "WARNING:tensorflow:From /usr/local/lib/python3.6/dist-packages/tensorflow_core/python/ops/nn_impl.py:183: where (from tensorflow.python.ops.array_ops) is deprecated and will be removed in a future version.\n",
            "Instructions for updating:\n",
            "Use tf.where in 2.0, which has the same broadcast rule as np.where\n"
          ],
          "name": "stdout"
        }
      ]
    },
    {
      "cell_type": "code",
      "metadata": {
        "id": "vQxFlYiA_ugb",
        "colab_type": "code",
        "outputId": "a8fa6aa6-13fb-4cad-a285-67aa535edcc5",
        "colab": {
          "base_uri": "https://localhost:8080/",
          "height": 170
        }
      },
      "source": [
        "# Train model (use 10% of training set as validation set)\n",
        "#model.fit(X_train, y_train, validation_split=0.1, epochs=5, batch_size=10, verbose=2)\n",
        "\n",
        "history = model.fit(\n",
        "    X_train,\n",
        "    y_train,\n",
        "    epochs=4,\n",
        "    batch_size=32,\n",
        "    validation_split=0.1,\n",
        "    verbose = 1,\n",
        "    shuffle=True\n",
        ")\n",
        "\n",
        "# Train model (use validation data as validation set)\n",
        "#model.fit(X_train, Y_train, validation_data=(X_test, Y_test))"
      ],
      "execution_count": 16,
      "outputs": [
        {
          "output_type": "stream",
          "text": [
            "Train on 2597 samples, validate on 289 samples\n",
            "Epoch 1/4\n",
            "2597/2597 [==============================] - 434s 167ms/sample - loss: 11.5961 - acc: 0.9515 - val_loss: 6.9917 - val_acc: 1.0000\n",
            "Epoch 2/4\n",
            "2597/2597 [==============================] - 433s 167ms/sample - loss: 5.7942 - acc: 0.9996 - val_loss: 4.9504 - val_acc: 1.0000\n",
            "Epoch 3/4\n",
            "2597/2597 [==============================] - 428s 165ms/sample - loss: 4.4003 - acc: 0.9988 - val_loss: 3.9160 - val_acc: 1.0000\n",
            "Epoch 4/4\n",
            "2597/2597 [==============================] - 431s 166ms/sample - loss: 3.5578 - acc: 0.9996 - val_loss: 3.2114 - val_acc: 1.0000\n"
          ],
          "name": "stdout"
        }
      ]
    },
    {
      "cell_type": "code",
      "metadata": {
        "id": "-RB3ZwOikk9o",
        "colab_type": "code",
        "outputId": "85f54fb9-97f4-4fb8-8177-f4e3c0949485",
        "colab": {
          "base_uri": "https://localhost:8080/",
          "height": 282
        }
      },
      "source": [
        "# evaluate the model\n",
        "train_acc = model.evaluate(X_train, y_train, verbose=0)\n",
        "test_acc = model.evaluate(X_test, y_test, verbose=0)\n",
        "print('Train: %.3f, Test: %.3f' % (train_acc[1], test_acc[1]))\n",
        "# plot history\n",
        "plt.plot(history.history['acc'], label='train')\n",
        "plt.plot(history.history['val_acc'], label='test')\n",
        "plt.legend()\n",
        "plt.show()"
      ],
      "execution_count": 17,
      "outputs": [
        {
          "output_type": "stream",
          "text": [
            "Train: 1.000, Test: 0.999\n"
          ],
          "name": "stdout"
        },
        {
          "output_type": "display_data",
          "data": {
            "image/png": "[encoded data removed]",
            "text/plain": [
              "<Figure size 432x288 with 1 Axes>"
            ]
          },
          "metadata": {
            "tags": []
          }
        }
      ]
    },
    {
      "cell_type": "code",
      "metadata": {
        "id": "k6gYh7qk4jUj",
        "colab_type": "code",
        "outputId": "22eae1dc-aa7e-44f2-d636-fe29670cc7d5",
        "colab": {
          "base_uri": "https://localhost:8080/",
          "height": 295
        }
      },
      "source": [
        "loss = history.history['loss']\n",
        "val_loss = history.history['val_loss']\n",
        "epochs = range(1, len(loss) + 1)\n",
        "plt.plot(epochs, loss, 'y', label='Training loss')\n",
        "plt.plot(epochs, val_loss, 'r', label='Validation loss')\n",
        "plt.title('Training and validation loss')\n",
        "plt.xlabel('Epochs')\n",
        "plt.ylabel('Loss')\n",
        "plt.legend()\n",
        "plt.show()"
      ],
      "execution_count": 18,
      "outputs": [
        {
          "output_type": "display_data",
          "data": {
            "image/png": "[encoded data removed]",
            "text/plain": [
              "<Figure size 432x288 with 1 Axes>"
            ]
          },
          "metadata": {
            "tags": []
          }
        }
      ]
    },
    {
      "cell_type": "code",
      "metadata": {
        "id": "zuNqGF5S4riW",
        "colab_type": "code",
        "outputId": "393d9cae-9a28-41dd-f77c-69ee3c5d78c9",
        "colab": {
          "base_uri": "https://localhost:8080/",
          "height": 295
        }
      },
      "source": [
        "acc = history.history['acc']\n",
        "val_acc = history.history['val_acc']\n",
        "plt.plot(epochs, acc, 'y', label='Training acc')\n",
        "plt.plot(epochs, val_acc, 'r', label='Validation acc')\n",
        "plt.title('Training and validation accuracy')\n",
        "plt.xlabel('Epochs')\n",
        "plt.ylabel('acc')\n",
        "plt.legend()\n",
        "plt.show()"
      ],
      "execution_count": 19,
      "outputs": [
        {
          "output_type": "display_data",
          "data": {
            "image/png": "[encoded data removed]",
            "text/plain": [
              "<Figure size 432x288 with 1 Axes>"
            ]
          },
          "metadata": {
            "tags": []
          }
        }
      ]
    },
    {
      "cell_type": "code",
      "metadata": {
        "id": "DwkHnCwMBPug",
        "colab_type": "code",
        "colab": {}
      },
      "source": [
        "from sklearn.metrics import roc_curve\n",
        "y_pred = model.predict(X_test)\n",
        "fpr, tpr, thresholds = roc_curve(y_test, y_pred, pos_label=None)"
      ],
      "execution_count": 0,
      "outputs": []
    },
    {
      "cell_type": "code",
      "metadata": {
        "id": "1Pxj9xoWPCMa",
        "colab_type": "code",
        "colab": {}
      },
      "source": [
        "from sklearn.metrics import auc"
      ],
      "execution_count": 0,
      "outputs": []
    },
    {
      "cell_type": "code",
      "metadata": {
        "id": "ZIzie0AiPGe7",
        "colab_type": "code",
        "outputId": "21f54591-dd41-419d-f2f5-c527418f4201",
        "colab": {
          "base_uri": "https://localhost:8080/",
          "height": 51
        }
      },
      "source": [
        "from sklearn.metrics import auc\n",
        "from sklearn.ensemble import RandomForestClassifier\n",
        "\n",
        "nsamples, nx, ny, nz = X_train.shape\n",
        "nsamplesx, nxx, nyx, nzx = X_test.shape\n",
        "train_dataset = X_train.reshape((nsamples,nx*ny*nz))\n",
        "test_dataset = X_test.reshape((nsamplesx,nxx*nyx*nzx))\n",
        "\n",
        "# Supervised transformation based on random forests\n",
        "rf = RandomForestClassifier(max_depth=3, n_estimators=10)\n",
        "rf.fit(train_dataset, y_train)\n",
        "\n",
        "y_pred_rf = rf.predict_proba(test_dataset)[:, 1]\n",
        "fpr_rf, tpr_rf, thresholds_rf = roc_curve(y_test, y_pred_rf)\n",
        "auc_rf = auc(fpr_rf, tpr_rf)\n",
        "auc = auc(fpr, tpr)"
      ],
      "execution_count": 22,
      "outputs": [
        {
          "output_type": "stream",
          "text": [
            "/usr/local/lib/python3.6/dist-packages/ipykernel_launcher.py:11: DataConversionWarning: A column-vector y was passed when a 1d array was expected. Please change the shape of y to (n_samples,), for example using ravel().\n",
            "  # This is added back by InteractiveShellApp.init_path()\n"
          ],
          "name": "stderr"
        }
      ]
    },
    {
      "cell_type": "code",
      "metadata": {
        "id": "axOBT9MlPSb-",
        "colab_type": "code",
        "outputId": "6b6ce133-dbc2-445f-b389-5826926b9307",
        "colab": {
          "base_uri": "https://localhost:8080/",
          "height": 573
        }
      },
      "source": [
        "plt.figure(1)\n",
        "plt.plot([0, 1], [0, 1], 'k--')\n",
        "plt.plot(fpr, tpr, label='Keras (area = {:.3f})'.format(auc))\n",
        "#plt.plot(fpr_rf, tpr_rf, label='RF (area = {:.3f})'.format(auc_rf))\n",
        "plt.xlabel('False positive rate')\n",
        "plt.ylabel('True positive rate')\n",
        "plt.title('ROC curve')\n",
        "plt.legend(loc='best')\n",
        "plt.show()\n",
        "# Zoom in view of the upper left corner.\n",
        "plt.figure(2)\n",
        "plt.xlim(0, 0.2)\n",
        "plt.ylim(0.2, 1)\n",
        "plt.plot([0, 1], [0, 1], 'k--')\n",
        "plt.plot(fpr, tpr, label='Keras (area = {:.3f})'.format(auc))\n",
        "plt.plot(fpr_rf, tpr_rf, label='RF (area = {:.3f})'.format(auc_rf))\n",
        "plt.xlabel('False positive rate')\n",
        "plt.ylabel('True positive rate')\n",
        "plt.title('ROC curve (zoomed in at top left)')\n",
        "plt.legend(loc='best')\n",
        "plt.show()"
      ],
      "execution_count": 23,
      "outputs": [
        {
          "output_type": "display_data",
          "data": {
            "image/png": "[encoded data removed]",
            "text/plain": [
              "<Figure size 432x288 with 1 Axes>"
            ]
          },
          "metadata": {
            "tags": []
          }
        },
        {
          "output_type": "display_data",
          "data": {
            "image/png": "[encoded data removed]",
            "text/plain": [
              "<Figure size 432x288 with 1 Axes>"
            ]
          },
          "metadata": {
            "tags": []
          }
        }
      ]
    },
    {
      "cell_type": "code",
      "metadata": {
        "id": "DEzVHQ09PZ-Y",
        "colab_type": "code",
        "outputId": "3b688209-fd36-47c1-fb17-c821cbad489e",
        "colab": {
          "base_uri": "https://localhost:8080/",
          "height": 357
        }
      },
      "source": [
        "from sklearn.metrics import accuracy_score, hamming_loss\n",
        "\n",
        "accuracy_score(y_test,  y_pred.round(), normalize=True, sample_weight=None)\n",
        "hamming_loss(y_test, y_pred.round())\n",
        "\n",
        "from sklearn.metrics import confusion_matrix\n",
        "cm = confusion_matrix(y_test, y_pred.round())\n",
        "cm = cm.astype('float') / cm.sum(axis=1)[:, np.newaxis]\n",
        "print('Confusion Matrix :\\n', cm)\n",
        "\n",
        "from sklearn.metrics import classification_report\n",
        "target_names = ['class 0', 'class 1']\n",
        "print('Classioficaton Report :\\n', classification_report(y_test, y_pred.round(), target_names=target_names))\n",
        "\n",
        "from sklearn import metrics\n",
        "print('Precision score:', metrics.precision_score(y_test, y_pred.round()))\n",
        "print('Recall score:', metrics.recall_score(y_test, y_pred.round()))\n",
        "print('f1_score :', metrics.f1_score(y_test, y_pred.round()))  \n",
        "print('fbeta_score_0.5 :', metrics.fbeta_score(y_test, y_pred.round(), beta=0.5))\n",
        "print('fbeta_score_1 :', metrics.fbeta_score(y_test, y_pred.round(), beta=1)) \n",
        "print('fbeta_score_2 :', metrics.fbeta_score(y_test, y_pred.round(), beta=2)) \n",
        "print('precision_recall_fscore_support :', metrics.precision_recall_fscore_support(y_test, y_pred.round(), beta=0.5))"
      ],
      "execution_count": 24,
      "outputs": [
        {
          "output_type": "stream",
          "text": [
            "Confusion Matrix :\n",
            " [[0.99725275 0.00274725]\n",
            " [0.         1.        ]]\n",
            "Classioficaton Report :\n",
            "               precision    recall  f1-score   support\n",
            "\n",
            "     class 0       1.00      1.00      1.00       364\n",
            "     class 1       1.00      1.00      1.00       358\n",
            "\n",
            "    accuracy                           1.00       722\n",
            "   macro avg       1.00      1.00      1.00       722\n",
            "weighted avg       1.00      1.00      1.00       722\n",
            "\n",
            "Precision score: 0.9972144846796658\n",
            "Recall score: 1.0\n",
            "f1_score : 0.99860529986053\n",
            "fbeta_score_0.5 : 0.9977703455964326\n",
            "fbeta_score_1 : 0.99860529986053\n",
            "fbeta_score_2 : 0.9994416527079844\n",
            "precision_recall_fscore_support : (array([1.        , 0.99721448]), array([0.99725275, 1.        ]), array([0.99944934, 0.99777035]), array([364, 358]))\n"
          ],
          "name": "stdout"
        }
      ]
    },
    {
      "cell_type": "code",
      "metadata": {
        "id": "NWpaeNXLP1zQ",
        "colab_type": "code",
        "colab": {}
      },
      "source": [
        "y_pred[53]"
      ],
      "execution_count": 0,
      "outputs": []
    },
    {
      "cell_type": "code",
      "metadata": {
        "id": "vZnnJnPPOXrK",
        "colab_type": "code",
        "colab": {}
      },
      "source": [
        "array_to_img(cv2.resize(X_test[53], (300, 300)))"
      ],
      "execution_count": 0,
      "outputs": []
    },
    {
      "cell_type": "code",
      "metadata": {
        "id": "dNWY7TqlOcE3",
        "colab_type": "code",
        "colab": {}
      },
      "source": [
        "y_pred[103]"
      ],
      "execution_count": 0,
      "outputs": []
    },
    {
      "cell_type": "code",
      "metadata": {
        "id": "r8obACHgOhDc",
        "colab_type": "code",
        "colab": {}
      },
      "source": [
        "array_to_img(cv2.resize(X_test[103], (300, 300)))"
      ],
      "execution_count": 0,
      "outputs": []
    },
    {
      "cell_type": "code",
      "metadata": {
        "id": "4C15qUmYOj-K",
        "colab_type": "code",
        "colab": {}
      },
      "source": [
        "y_pred[y_pred > 0.5].shape"
      ],
      "execution_count": 0,
      "outputs": []
    },
    {
      "cell_type": "code",
      "metadata": {
        "id": "JReiy4BaOo5j",
        "colab_type": "code",
        "colab": {}
      },
      "source": [
        "model.predict(X_test).shape"
      ],
      "execution_count": 0,
      "outputs": []
    },
    {
      "cell_type": "code",
      "metadata": {
        "id": "GeCRw78EQHlg",
        "colab_type": "code",
        "colab": {
          "base_uri": "https://localhost:8080/",
          "height": 119
        },
        "outputId": "85035f1e-b1ad-4a2f-e230-41670292c5c5"
      },
      "source": [
        "import numpy as np\n",
        "cal_glitch = 0\n",
        "cal_noise = 0\n",
        "cal_unconclusive = 0\n",
        "\n",
        "alist=[]\n",
        "for fname in seta_data_fnnames:\n",
        "    if fname.startswith(\".\"):\n",
        "        continue\n",
        "    file_path = os.path.join(seta_data_dir, fname)\n",
        "    load_file = load_img(file_path, target_size = (150, 150))\n",
        "    load_file = (np.expand_dims(load_file, 0))\n",
        "    pred_img = model.predict(load_file)\n",
        "    if(pred_img[0]>0.5):\n",
        "        cal_glitch+=1\n",
        "    elif(pred_img[0]<0.5):\n",
        "        cal_noise+=1\n",
        "    else:\n",
        "        print(pred_img[0], \"\\n\")\n",
        "        cal_unconclusive+=1\n",
        "        alist.append(file_path)\n",
        "#print(alist)\n",
        "\n",
        "print(\"Identified as: \\n\")\n",
        "print(\"Glitch :\", cal_glitch)\n",
        "print(\"Noise :\", cal_noise)\n",
        "print(\"Inconclusive :\", cal_unconclusive)\n",
        "print(\"Percentage :\", (cal_glitch/(cal_glitch+cal_unconclusive+cal_noise))*100)\n",
        "a = (cal_glitch/(cal_glitch+cal_unconclusive+cal_noise))*100"
      ],
      "execution_count": 25,
      "outputs": [
        {
          "output_type": "stream",
          "text": [
            "Identified as: \n",
            "\n",
            "Glitch : 1803\n",
            "Noise : 1\n",
            "Inconclusive : 0\n",
            "Percentage : 99.94456762749445\n"
          ],
          "name": "stdout"
        }
      ]
    },
    {
      "cell_type": "code",
      "metadata": {
        "id": "E6AHCatiOsos",
        "colab_type": "code",
        "colab": {
          "base_uri": "https://localhost:8080/",
          "height": 119
        },
        "outputId": "38c6981b-d932-4e15-abd6-2b003a29b96f"
      },
      "source": [
        "import numpy as np\n",
        "cal_glitch = 0\n",
        "cal_noise = 0\n",
        "cal_unconclusive = 0\n",
        "\n",
        "alist=[]\n",
        "for fname in setb_data_fnnames:\n",
        "    if fname.startswith(\".\"):\n",
        "        continue\n",
        "    file_path = os.path.join(setb_data_dir, fname)\n",
        "    load_file = load_img(file_path, target_size = (150, 150))\n",
        "    load_file = (np.expand_dims(load_file, 0))\n",
        "    pred_img = model.predict(load_file)\n",
        "    if(pred_img[0]<0.5):\n",
        "        cal_noise+=1\n",
        "    elif(pred_img[0]>0.5):\n",
        "        cal_glitch+=1\n",
        "    else:\n",
        "        print(pred_img[0], \"\\n\")\n",
        "        cal_unconclusive+=1\n",
        "        alist.append(file_path)\n",
        "#print(alist)\n",
        "\n",
        "print(\"Identified as: \\n\")\n",
        "print(\"Glitch :\", cal_glitch)\n",
        "print(\"Noise :\", cal_noise)\n",
        "print(\"Inconclusive :\", cal_unconclusive)\n",
        "print(\"Percentage :\", (cal_noise/(cal_glitch+cal_unconclusive+cal_noise))*100)\n",
        "a = (cal_noise/(cal_glitch+cal_unconclusive+cal_noise))*100"
      ],
      "execution_count": 26,
      "outputs": [
        {
          "output_type": "stream",
          "text": [
            "Identified as: \n",
            "\n",
            "Glitch : 0\n",
            "Noise : 1804\n",
            "Inconclusive : 0\n",
            "Percentage : 100.0\n"
          ],
          "name": "stdout"
        }
      ]
    },
    {
      "cell_type": "code",
      "metadata": {
        "id": "uXfg4wbTOukg",
        "colab_type": "code",
        "colab": {}
      },
      "source": [
        ""
      ],
      "execution_count": 0,
      "outputs": []
    }
  ]
}