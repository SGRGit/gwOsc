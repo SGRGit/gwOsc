{
  "nbformat": 4,
  "nbformat_minor": 0,
  "metadata": {
    "colab": {
      "name": "LIGOGlitchNoiseClassificationModelBuild.ipynb",
      "provenance": [],
      "include_colab_link": true
    },
    "kernelspec": {
      "name": "python3",
      "display_name": "Python 3"
    }
  },
  "cells": [
    {
      "cell_type": "markdown",
      "metadata": {
        "id": "view-in-github",
        "colab_type": "text"
      },
      "source": [
        "<a href=\"https://colab.research.google.com/github/SGRGit/gwOsc/blob/FinalCode/LIGOGlitchNoiseClassificationModelBuild_Iter6.ipynb\" target=\"_parent\"><img src=\"https://colab.research.google.com/assets/colab-badge.svg\" alt=\"Open In Colab\"/></a>"
      ]
    },
    {
      "cell_type": "code",
      "metadata": {
        "id": "SWAw1Nq_7K9d",
        "colab_type": "code",
        "outputId": "dd503127-0929-442b-e988-6d3f606376ce",
        "colab": {
          "base_uri": "https://localhost:8080/",
          "height": 63
        }
      },
      "source": [
        "import os\n",
        "import matplotlib.pyplot as plt\n",
        "from tensorflow.keras.preprocessing.image import ImageDataGenerator\n",
        "%matplotlib inline\n",
        "import matplotlib.image as mpimg\n",
        "from tensorflow.keras.preprocessing.image import array_to_img, img_to_array, load_img"
      ],
      "execution_count": 1,
      "outputs": [
        {
          "output_type": "display_data",
          "data": {
            "text/html": [
              "<p style=\"color: red;\">\n",
              "The default version of TensorFlow in Colab will soon switch to TensorFlow 2.x.<br>\n",
              "We recommend you <a href=\"https://www.tensorflow.org/guide/migrate\" target=\"_blank\">upgrade</a> now \n",
              "or ensure your notebook will continue to use TensorFlow 1.x via the <code>%tensorflow_version 1.x</code> magic:\n",
              "<a href=\"https://colab.research.google.com/notebooks/tensorflow_version.ipynb\" target=\"_blank\">more info</a>.</p>\n"
            ],
            "text/plain": [
              "<IPython.core.display.HTML object>"
            ]
          },
          "metadata": {
            "tags": []
          }
        }
      ]
    },
    {
      "cell_type": "code",
      "metadata": {
        "id": "bqVQ4YNM7l5K",
        "colab_type": "code",
        "outputId": "ec00dfaf-23e1-4d4a-d834-95a61120a0dd",
        "colab": {
          "base_uri": "https://localhost:8080/",
          "height": 122
        }
      },
      "source": [
        "from google.colab import drive\n",
        "drive.mount('/content/gdrive/')"
      ],
      "execution_count": 2,
      "outputs": [
        {
          "output_type": "stream",
          "text": [
            "Go to this URL in a browser: https://accounts.google.com/o/oauth2/auth?client_id=947318989803-6bn6qk8qdgf4n4g3pfee6491hc0brc4i.apps.googleusercontent.com&redirect_uri=urn%3Aietf%3Awg%3Aoauth%3A2.0%3Aoob&scope=email%20https%3A%2F%2Fwww.googleapis.com%2Fauth%2Fdocs.test%20https%3A%2F%2Fwww.googleapis.com%2Fauth%2Fdrive%20https%3A%2F%2Fwww.googleapis.com%2Fauth%2Fdrive.photos.readonly%20https%3A%2F%2Fwww.googleapis.com%2Fauth%2Fpeopleapi.readonly&response_type=code\n",
            "\n",
            "Enter your authorization code:\n",
            "··········\n",
            "Mounted at /content/gdrive/\n"
          ],
          "name": "stdout"
        }
      ]
    },
    {
      "cell_type": "code",
      "metadata": {
        "id": "vqEmQCer8K1q",
        "colab_type": "code",
        "colab": {}
      },
      "source": [
        "import sys\n",
        "sys.path.append('/content/gdrive/My Drive/Colab Notebooks')"
      ],
      "execution_count": 0,
      "outputs": []
    },
    {
      "cell_type": "code",
      "metadata": {
        "id": "naah3nFg8Vj4",
        "colab_type": "code",
        "colab": {}
      },
      "source": [
        "import os\n",
        "base_dir = \"gdrive/My Drive/Colab Notebooks/GlitchNoiseClassification/\"\n",
        "seta = 'Glitch'\n",
        "setb = 'Noise'\n",
        "\n",
        "data_dir = os.path.join(base_dir, 'Data')\n",
        "seta_data_dir = os.path.join(data_dir, seta)\n",
        "seta_data_fnnames = os.listdir(seta_data_dir)\n",
        "\n",
        "setb_data_dir = os.path.join(data_dir, setb)\n",
        "setb_data_fnnames = os.listdir(setb_data_dir)"
      ],
      "execution_count": 0,
      "outputs": []
    },
    {
      "cell_type": "code",
      "metadata": {
        "id": "obJqKPfM8buY",
        "colab_type": "code",
        "outputId": "86361e3b-a3ae-43a5-b77e-56cf3ee8246c",
        "colab": {
          "base_uri": "https://localhost:8080/",
          "height": 34
        }
      },
      "source": [
        "from sklearn import svm, datasets\n",
        "from sklearn.model_selection import cross_val_score\n",
        "from keras import regularizers\n",
        "import numpy as np"
      ],
      "execution_count": 5,
      "outputs": [
        {
          "output_type": "stream",
          "text": [
            "Using TensorFlow backend.\n"
          ],
          "name": "stderr"
        }
      ]
    },
    {
      "cell_type": "code",
      "metadata": {
        "id": "jMK1rJZAzRS6",
        "colab_type": "code",
        "colab": {}
      },
      "source": [
        "setb_data_fnnames = np.delete(setb_data_fnnames, (762), axis=0)"
      ],
      "execution_count": 0,
      "outputs": []
    },
    {
      "cell_type": "code",
      "metadata": {
        "id": "bFesa2ew9Wmx",
        "colab_type": "code",
        "colab": {}
      },
      "source": [
        "seta_data_fnnames = np.delete(seta_data_fnnames, (1804), axis=0)"
      ],
      "execution_count": 0,
      "outputs": []
    },
    {
      "cell_type": "code",
      "metadata": {
        "id": "8P6aAjxr9eKB",
        "colab_type": "code",
        "outputId": "c05fa040-593e-4cf6-8bbb-e59cea132150",
        "colab": {
          "base_uri": "https://localhost:8080/",
          "height": 34
        }
      },
      "source": [
        "len(seta_data_fnnames)"
      ],
      "execution_count": 8,
      "outputs": [
        {
          "output_type": "execute_result",
          "data": {
            "text/plain": [
              "1804"
            ]
          },
          "metadata": {
            "tags": []
          },
          "execution_count": 8
        }
      ]
    },
    {
      "cell_type": "code",
      "metadata": {
        "id": "CSx5du9S8hy_",
        "colab_type": "code",
        "colab": {}
      },
      "source": [
        "import numpy as np\n",
        "import cv2\n",
        "q1 = np.empty((1, 150, 150, 3))\n",
        "q2 = np.empty((1, 150, 150, 3))\n",
        "for a in range(1, len(seta_data_fnnames), 1):\n",
        "  img_path_a = os.path.join(seta_data_dir, seta_data_fnnames[a])\n",
        "  img_a = cv2.imread(os.path.join(seta_data_dir, seta_data_fnnames[a]))\n",
        "  img_a = cv2.resize(img_a, (150, 150))\n",
        "  q1 = np.vstack((q1, img_to_array(img_a).reshape(1, 150, 150, 3)))\n",
        "  t1 = np.ones([len(seta_data_fnnames),1])\n",
        "  \n",
        "for b in range(1, len(setb_data_fnnames), 1):\n",
        "  img_path_b = os.path.join(setb_data_dir, setb_data_fnnames[b])\n",
        "  img_b = cv2.imread(os.path.join(setb_data_dir, setb_data_fnnames[b]))\n",
        "  img_b = cv2.resize(img_b, (150, 150))\n",
        "  q2 = np.vstack((q2, img_to_array(img_b).reshape(1, 150, 150, 3)))\n",
        "  t2 = np.zeros([len(setb_data_fnnames),1])"
      ],
      "execution_count": 0,
      "outputs": []
    },
    {
      "cell_type": "code",
      "metadata": {
        "id": "-j_mG9nW8ldF",
        "colab_type": "code",
        "colab": {}
      },
      "source": [
        "t = np.vstack((t1, t2))\n",
        "q = np.vstack((q1, q2))"
      ],
      "execution_count": 0,
      "outputs": []
    },
    {
      "cell_type": "code",
      "metadata": {
        "id": "YMaT1iikOz5p",
        "colab_type": "code",
        "colab": {
          "base_uri": "https://localhost:8080/",
          "height": 1000
        },
        "outputId": "821ee935-5057-43c0-9c02-185d47797c49"
      },
      "source": [
        "#Import Tensorflow Libraries\n",
        "from tensorflow.keras import layers\n",
        "from tensorflow.keras import Model\n",
        "from keras import regularizers\n",
        "import tensorflow as tf\n",
        "from sklearn.metrics import roc_curve\n",
        "\n",
        "\n",
        "from sklearn.metrics import accuracy_score, hamming_loss\n",
        "from sklearn.metrics import confusion_matrix\n",
        "from sklearn import metrics\n",
        "from sklearn.metrics import classification_report\n",
        "\n",
        "# fix random seed for reproducibility\n",
        "seed = 7\n",
        "np.random.seed(seed)\n",
        "\n",
        "from sklearn.model_selection import StratifiedKFold\n",
        "\n",
        "# define 4-fold cross validation test harness\n",
        "kfold = StratifiedKFold(n_splits=4, shuffle=True, random_state=seed)\n",
        "cvscores = []\n",
        "\n",
        "for train, test in kfold.split(q, t):\n",
        "\n",
        "  # create model\n",
        "  img_input = layers.Input(shape=(150, 150, 3))\n",
        "\n",
        "  # 2D Conv Layer with 64 filters of dimension 3x3 and ReLU activation function\n",
        "  x = layers.Conv2D(64, 3, activation = 'relu')(img_input)\n",
        "  # 2D Max Pooling Layer\n",
        "  x = layers.MaxPooling2D(2)(x)\n",
        "\n",
        "  # 2D Conv Layer with 128 filters of dimension 3x3 and ReLU activation function\n",
        "  x = layers.Conv2D(128, 3, activation = 'relu')(x)\n",
        "  # 2D Max Pooling Layer\n",
        "  x = layers.MaxPooling2D(2)(x)\n",
        "\n",
        "  # 2D Conv Layer with 256 filters of dimension 3x3 and ReLU activation function\n",
        "  x = layers.Conv2D(256, 3, activation = 'relu')(x)\n",
        "  # 2D Max Pooling Layer\n",
        "  x = layers.MaxPooling2D(2)(x)\n",
        "\n",
        "  # 2D Conv Layer with 512 filters of dimension 3x3 and ReLU activation function\n",
        "  x = layers.Conv2D(512, 3, activation = 'relu')(x)\n",
        "  # 2D Max Pooling Layer\n",
        "  x = layers.MaxPooling2D(2)(x)\n",
        "\n",
        "  # 2D Conv Layer with 512 filters of dimension 3x3 and ReLU activation function\n",
        "  x = layers.Conv2D(512, 3, activation = 'relu')(x)\n",
        "\n",
        "  # Faltten Layer\n",
        "  x = layers.Flatten()(x)\n",
        "\n",
        "  # Fully Connected Layers and ReLU activation algoritm\n",
        "  #x = layers.Dense(4096, activation = 'relu')(x)\n",
        "  x = layers.Dense(4096, activation = 'relu')(x)\n",
        "  x = layers.Dense(1000, activation = 'relu')(x)\n",
        "\n",
        "  # Dropout Layer for Optimization\n",
        "  x = layers.Dropout(0.5,noise_shape=None, seed=None)(x)\n",
        "\n",
        "  # Fully connected layers and sigmoid activation algorithm\n",
        "  output = layers.Dense(1, activation = 'sigmoid')(x)\n",
        "\n",
        "  model = Model(img_input, output)\n",
        "  \n",
        "  # Compile model\n",
        "  model.compile(loss = 'binary_crossentropy', optimizer = tf.train.AdamOptimizer(learning_rate = 0.0005), metrics = ['accuracy'])\n",
        "  # Fit the model\n",
        "  #model.fit(q[train], t[train], epochs=2, batch_size=32, verbose=1)\n",
        "  history = model.fit(q[train], t[train], epochs=2, batch_size=32, validation_split=0.1, verbose = 1, shuffle=True)\n",
        "  # evaluate the model\n",
        "  scores = model.evaluate(q[test], t[test], verbose=1)\n",
        "  \n",
        "  print(\"%s: %.2f%%\" % (model.metrics_names[1], scores[1]*100))\n",
        "  cvscores.append(scores[1] * 100)\n",
        "  \n",
        "  y_pred = model.predict(q[test])\n",
        "  fpr, tpr, thresholds = roc_curve(t[test], y_pred, pos_label=None)\n",
        "  from sklearn.metrics import auc\n",
        "  auc = auc(fpr, tpr)\n",
        "\n",
        "  nsamples, nx, ny, nz = q[train].shape\n",
        "  nsamplesx, nxx, nyx, nzx = q[test].shape\n",
        "  train_dataset = q[train].reshape((nsamples,nx*ny*nz))\n",
        "  test_dataset = q[test].reshape((nsamplesx,nxx*nyx*nzx))\n",
        "\n",
        "\n",
        "  plt.figure(1)\n",
        "  plt.plot([0, 1], [0, 1], 'k--')\n",
        "  plt.plot(fpr, tpr, label='Keras (area = {:.3f})'.format(auc))\n",
        "  plt.xlabel('False positive rate')\n",
        "  plt.ylabel('True positive rate')\n",
        "  plt.title('ROC curve')\n",
        "  plt.legend(loc='best')\n",
        "  plt.show()\n",
        "  \n",
        "  accuracy_score(t[test],  y_pred.round(), normalize=True, sample_weight=None)\n",
        "  hamming_loss(t[test], y_pred.round())\n",
        "  cm = confusion_matrix(t[test], y_pred.round())\n",
        "  cm = cm.astype('float') / cm.sum(axis=1)[:, np.newaxis]\n",
        "  print('Confusion Matrix :\\n', cm)\n",
        "  target_names = ['class 0', 'class 1']\n",
        "  print('Classioficaton Report :\\n', classification_report(t[test], y_pred.round(), target_names=target_names))\n",
        "  print('Precision score:', metrics.precision_score(t[test], y_pred.round()))\n",
        "  print('Recall score:', metrics.recall_score(t[test], y_pred.round()))\n",
        "  print('f1_score :', metrics.f1_score(t[test], y_pred.round()))  \n",
        "  print('fbeta_score_0.5 :', metrics.fbeta_score(t[test], y_pred.round(), beta=0.5))\n",
        "  print('fbeta_score_1 :', metrics.fbeta_score(t[test], y_pred.round(), beta=1)) \n",
        "  print('fbeta_score_2 :', metrics.fbeta_score(t[test], y_pred.round(), beta=2)) \n",
        "  print('precision_recall_fscore_support :', metrics.precision_recall_fscore_support(t[test], y_pred.round(), beta=0.5))\n",
        "\n",
        " \n",
        "print(\"%.2f%% (+/- %.2f%%)\" % (np.mean(cvscores), np.std(cvscores)))\n"
      ],
      "execution_count": 12,
      "outputs": [
        {
          "output_type": "stream",
          "text": [
            "WARNING:tensorflow:From /usr/local/lib/python3.6/dist-packages/tensorflow_core/python/ops/resource_variable_ops.py:1630: calling BaseResourceVariable.__init__ (from tensorflow.python.ops.resource_variable_ops) with constraint is deprecated and will be removed in a future version.\n",
            "Instructions for updating:\n",
            "If using Keras pass *_constraint arguments to layers.\n",
            "WARNING:tensorflow:From /usr/local/lib/python3.6/dist-packages/tensorflow_core/python/ops/nn_impl.py:183: where (from tensorflow.python.ops.array_ops) is deprecated and will be removed in a future version.\n",
            "Instructions for updating:\n",
            "Use tf.where in 2.0, which has the same broadcast rule as np.where\n",
            "Train on 2435 samples, validate on 271 samples\n",
            "Epoch 1/2\n",
            "2435/2435 [==============================] - 453s 186ms/sample - loss: 3.3859 - acc: 0.9462 - val_loss: 1.1076e-07 - val_acc: 1.0000\n",
            "Epoch 2/2\n",
            "2435/2435 [==============================] - 443s 182ms/sample - loss: 0.0305 - acc: 0.9947 - val_loss: 1.8076e-07 - val_acc: 1.0000\n",
            "902/902 [==============================] - 40s 45ms/sample - loss: 0.0200 - acc: 0.9978\n",
            "acc: 99.78%\n"
          ],
          "name": "stdout"
        },
        {
          "output_type": "display_data",
          "data": {
            "image/png": "[encoded data removed]",
            "text/plain": [
              "<Figure size 432x288 with 1 Axes>"
            ]
          },
          "metadata": {
            "tags": []
          }
        },
        {
          "output_type": "stream",
          "text": [
            "Confusion Matrix :\n",
            " [[1.         0.        ]\n",
            " [0.00443459 0.99556541]]\n",
            "Classioficaton Report :\n",
            "               precision    recall  f1-score   support\n",
            "\n",
            "     class 0       1.00      1.00      1.00       451\n",
            "     class 1       1.00      1.00      1.00       451\n",
            "\n",
            "    accuracy                           1.00       902\n",
            "   macro avg       1.00      1.00      1.00       902\n",
            "weighted avg       1.00      1.00      1.00       902\n",
            "\n",
            "Precision score: 1.0\n",
            "Recall score: 0.9955654101995566\n",
            "f1_score : 0.9977777777777778\n",
            "fbeta_score_0.5 : 0.9991099243435693\n",
            "fbeta_score_1 : 0.9977777777777778\n",
            "fbeta_score_2 : 0.9964491788726143\n",
            "precision_recall_fscore_support : (array([0.99558499, 1.        ]), array([1.        , 0.99556541]), array([0.99646487, 0.99910992]), array([451, 451]))\n",
            "Train on 2435 samples, validate on 271 samples\n",
            "Epoch 1/2\n",
            "2435/2435 [==============================] - 440s 181ms/sample - loss: 2.7876 - acc: 0.9639 - val_loss: 1.1164e-11 - val_acc: 1.0000\n",
            "Epoch 2/2\n",
            "2435/2435 [==============================] - 447s 183ms/sample - loss: 1.3371 - acc: 0.9934 - val_loss: 0.0000e+00 - val_acc: 1.0000\n",
            "902/902 [==============================] - 40s 44ms/sample - loss: 0.2883 - acc: 0.9956\n",
            "acc: 99.56%\n"
          ],
          "name": "stdout"
        },
        {
          "output_type": "display_data",
          "data": {
            "image/png": "[encoded data removed]",
            "text/plain": [
              "<Figure size 432x288 with 1 Axes>"
            ]
          },
          "metadata": {
            "tags": []
          }
        },
        {
          "output_type": "stream",
          "text": [
            "Confusion Matrix :\n",
            " [[1.         0.        ]\n",
            " [0.00886918 0.99113082]]\n",
            "Classioficaton Report :\n",
            "               precision    recall  f1-score   support\n",
            "\n",
            "     class 0       0.99      1.00      1.00       451\n",
            "     class 1       1.00      0.99      1.00       451\n",
            "\n",
            "    accuracy                           1.00       902\n",
            "   macro avg       1.00      1.00      1.00       902\n",
            "weighted avg       1.00      1.00      1.00       902\n",
            "\n",
            "Precision score: 1.0\n",
            "Recall score: 0.991130820399113\n",
            "f1_score : 0.9955456570155902\n",
            "fbeta_score_0.5 : 0.998213488164359\n",
            "fbeta_score_1 : 0.9955456570155902\n",
            "fbeta_score_2 : 0.992892047978676\n",
            "precision_recall_fscore_support : (array([0.99120879, 1.        ]), array([1.        , 0.99113082]), array([0.99295465, 0.99821349]), array([451, 451]))\n",
            "Train on 2435 samples, validate on 271 samples\n",
            "Epoch 1/2\n",
            "2435/2435 [==============================] - 449s 184ms/sample - loss: 1.5746 - acc: 0.9561 - val_loss: 0.0336 - val_acc: 1.0000\n",
            "Epoch 2/2\n",
            "2435/2435 [==============================] - 449s 184ms/sample - loss: 0.0164 - acc: 0.9975 - val_loss: 3.0437e-08 - val_acc: 1.0000\n",
            "902/902 [==============================] - 40s 44ms/sample - loss: 7.0288e-04 - acc: 1.0000\n",
            "acc: 100.00%\n"
          ],
          "name": "stdout"
        },
        {
          "output_type": "display_data",
          "data": {
            "image/png": "[encoded data removed]",
            "text/plain": [
              "<Figure size 432x288 with 1 Axes>"
            ]
          },
          "metadata": {
            "tags": []
          }
        },
        {
          "output_type": "stream",
          "text": [
            "Confusion Matrix :\n",
            " [[1. 0.]\n",
            " [0. 1.]]\n",
            "Classioficaton Report :\n",
            "               precision    recall  f1-score   support\n",
            "\n",
            "     class 0       1.00      1.00      1.00       451\n",
            "     class 1       1.00      1.00      1.00       451\n",
            "\n",
            "    accuracy                           1.00       902\n",
            "   macro avg       1.00      1.00      1.00       902\n",
            "weighted avg       1.00      1.00      1.00       902\n",
            "\n",
            "Precision score: 1.0\n",
            "Recall score: 1.0\n",
            "f1_score : 1.0\n",
            "fbeta_score_0.5 : 1.0\n",
            "fbeta_score_1 : 1.0\n",
            "fbeta_score_2 : 1.0\n",
            "precision_recall_fscore_support : (array([1., 1.]), array([1., 1.]), array([1., 1.]), array([451, 451]))\n",
            "Train on 2435 samples, validate on 271 samples\n",
            "Epoch 1/2\n",
            "2435/2435 [==============================] - 453s 186ms/sample - loss: 3.9612 - acc: 0.9458 - val_loss: 1.7293e-10 - val_acc: 1.0000\n",
            "Epoch 2/2\n",
            "2435/2435 [==============================] - 446s 183ms/sample - loss: 0.0164 - acc: 0.9975 - val_loss: 1.0810e-31 - val_acc: 1.0000\n",
            "902/902 [==============================] - 40s 45ms/sample - loss: 0.0677 - acc: 0.9978\n",
            "acc: 99.78%\n"
          ],
          "name": "stdout"
        },
        {
          "output_type": "display_data",
          "data": {
            "image/png": "[encoded data removed]",
            "text/plain": [
              "<Figure size 432x288 with 1 Axes>"
            ]
          },
          "metadata": {
            "tags": []
          }
        },
        {
          "output_type": "stream",
          "text": [
            "Confusion Matrix :\n",
            " [[1.         0.        ]\n",
            " [0.00443459 0.99556541]]\n",
            "Classioficaton Report :\n",
            "               precision    recall  f1-score   support\n",
            "\n",
            "     class 0       1.00      1.00      1.00       451\n",
            "     class 1       1.00      1.00      1.00       451\n",
            "\n",
            "    accuracy                           1.00       902\n",
            "   macro avg       1.00      1.00      1.00       902\n",
            "weighted avg       1.00      1.00      1.00       902\n",
            "\n",
            "Precision score: 1.0\n",
            "Recall score: 0.9955654101995566\n",
            "f1_score : 0.9977777777777778\n",
            "fbeta_score_0.5 : 0.9991099243435693\n",
            "fbeta_score_1 : 0.9977777777777778\n",
            "fbeta_score_2 : 0.9964491788726143\n",
            "precision_recall_fscore_support : (array([0.99558499, 1.        ]), array([1.        , 0.99556541]), array([0.99646487, 0.99910992]), array([451, 451]))\n",
            "99.78% (+/- 0.16%)\n"
          ],
          "name": "stdout"
        }
      ]
    },
    {
      "cell_type": "code",
      "metadata": {
        "id": "2E26vS-G-4BW",
        "colab_type": "code",
        "colab": {}
      },
      "source": [
        "from sklearn.model_selection import train_test_split\n",
        "X_train, X_test, y_train, y_test = train_test_split(q, t, test_size=0.2, shuffle=True)"
      ],
      "execution_count": 0,
      "outputs": []
    },
    {
      "cell_type": "code",
      "metadata": {
        "id": "NWpaeNXLP1zQ",
        "colab_type": "code",
        "outputId": "b5680f99-b317-4c10-e6a3-1ddf335c545c",
        "colab": {
          "base_uri": "https://localhost:8080/",
          "height": 34
        }
      },
      "source": [
        "y_pred[53]"
      ],
      "execution_count": 13,
      "outputs": [
        {
          "output_type": "execute_result",
          "data": {
            "text/plain": [
              "array([1.], dtype=float32)"
            ]
          },
          "metadata": {
            "tags": []
          },
          "execution_count": 13
        }
      ]
    },
    {
      "cell_type": "code",
      "metadata": {
        "id": "vZnnJnPPOXrK",
        "colab_type": "code",
        "outputId": "ee3b04ae-edfb-4edf-b2b0-0e483fef6995",
        "colab": {
          "base_uri": "https://localhost:8080/",
          "height": 163
        }
      },
      "source": [
        "array_to_img(cv2.resize(X_test[53], (300, 300)))"
      ],
      "execution_count": 14,
      "outputs": [
        {
          "output_type": "error",
          "ename": "NameError",
          "evalue": "ignored",
          "traceback": [
            "\u001b[0;31m---------------------------------------------------------------------------\u001b[0m",
            "\u001b[0;31mNameError\u001b[0m                                 Traceback (most recent call last)",
            "\u001b[0;32m<ipython-input-14-938338962a53>\u001b[0m in \u001b[0;36m<module>\u001b[0;34m()\u001b[0m\n\u001b[0;32m----> 1\u001b[0;31m \u001b[0marray_to_img\u001b[0m\u001b[0;34m(\u001b[0m\u001b[0mcv2\u001b[0m\u001b[0;34m.\u001b[0m\u001b[0mresize\u001b[0m\u001b[0;34m(\u001b[0m\u001b[0mX_test\u001b[0m\u001b[0;34m[\u001b[0m\u001b[0;36m53\u001b[0m\u001b[0;34m]\u001b[0m\u001b[0;34m,\u001b[0m \u001b[0;34m(\u001b[0m\u001b[0;36m300\u001b[0m\u001b[0;34m,\u001b[0m \u001b[0;36m300\u001b[0m\u001b[0;34m)\u001b[0m\u001b[0;34m)\u001b[0m\u001b[0;34m)\u001b[0m\u001b[0;34m\u001b[0m\u001b[0;34m\u001b[0m\u001b[0m\n\u001b[0m",
            "\u001b[0;31mNameError\u001b[0m: name 'X_test' is not defined"
          ]
        }
      ]
    },
    {
      "cell_type": "code",
      "metadata": {
        "id": "GeCRw78EQHlg",
        "colab_type": "code",
        "outputId": "85035f1e-b1ad-4a2f-e230-41670292c5c5",
        "colab": {
          "base_uri": "https://localhost:8080/",
          "height": 119
        }
      },
      "source": [
        "import numpy as np\n",
        "cal_glitch = 0\n",
        "cal_noise = 0\n",
        "cal_unconclusive = 0\n",
        "\n",
        "alist=[]\n",
        "for fname in seta_data_fnnames:\n",
        "    if fname.startswith(\".\"):\n",
        "        continue\n",
        "    file_path = os.path.join(seta_data_dir, fname)\n",
        "    load_file = load_img(file_path, target_size = (150, 150))\n",
        "    load_file = (np.expand_dims(load_file, 0))\n",
        "    pred_img = model.predict(load_file)\n",
        "    if(pred_img[0]>0.5):\n",
        "        cal_glitch+=1\n",
        "    elif(pred_img[0]<0.5):\n",
        "        cal_noise+=1\n",
        "    else:\n",
        "        print(pred_img[0], \"\\n\")\n",
        "        cal_unconclusive+=1\n",
        "        alist.append(file_path)\n",
        "#print(alist)\n",
        "\n",
        "print(\"Identified as: \\n\")\n",
        "print(\"Glitch :\", cal_glitch)\n",
        "print(\"Noise :\", cal_noise)\n",
        "print(\"Inconclusive :\", cal_unconclusive)\n",
        "print(\"Percentage :\", (cal_glitch/(cal_glitch+cal_unconclusive+cal_noise))*100)\n",
        "a = (cal_glitch/(cal_glitch+cal_unconclusive+cal_noise))*100"
      ],
      "execution_count": 0,
      "outputs": [
        {
          "output_type": "stream",
          "text": [
            "Identified as: \n",
            "\n",
            "Glitch : 1803\n",
            "Noise : 1\n",
            "Inconclusive : 0\n",
            "Percentage : 99.94456762749445\n"
          ],
          "name": "stdout"
        }
      ]
    },
    {
      "cell_type": "code",
      "metadata": {
        "id": "E6AHCatiOsos",
        "colab_type": "code",
        "outputId": "ad3e83b0-5c33-495c-8d54-350b2027a747",
        "colab": {
          "base_uri": "https://localhost:8080/",
          "height": 119
        }
      },
      "source": [
        "import numpy as np\n",
        "cal_glitch = 0\n",
        "cal_noise = 0\n",
        "cal_unconclusive = 0\n",
        "\n",
        "alist=[]\n",
        "for fname in setb_data_fnnames:\n",
        "    if fname.startswith(\".\"):\n",
        "        continue\n",
        "    file_path = os.path.join(setb_data_dir, fname)\n",
        "    load_file = load_img(file_path, target_size = (150, 150))\n",
        "    load_file = (np.expand_dims(load_file, 0))\n",
        "    pred_img = model.predict(load_file)\n",
        "    if(pred_img[0]<0.5):\n",
        "        cal_noise+=1\n",
        "    elif(pred_img[0]>0.5):\n",
        "        cal_glitch+=1\n",
        "    else:\n",
        "        print(pred_img[0], \"\\n\")\n",
        "        cal_unconclusive+=1\n",
        "        alist.append(file_path)\n",
        "#print(alist)\n",
        "\n",
        "print(\"Identified as: \\n\")\n",
        "print(\"Glitch :\", cal_glitch)\n",
        "print(\"Noise :\", cal_noise)\n",
        "print(\"Inconclusive :\", cal_unconclusive)\n",
        "print(\"Percentage :\", (cal_noise/(cal_glitch+cal_unconclusive+cal_noise))*100)\n",
        "a = (cal_noise/(cal_glitch+cal_unconclusive+cal_noise))*100"
      ],
      "execution_count": 30,
      "outputs": [
        {
          "output_type": "stream",
          "text": [
            "Identified as: \n",
            "\n",
            "Glitch : 0\n",
            "Noise : 1804\n",
            "Inconclusive : 0\n",
            "Percentage : 100.0\n"
          ],
          "name": "stdout"
        }
      ]
    },
    {
      "cell_type": "code",
      "metadata": {
        "id": "kbJ-QZ533tCP",
        "colab_type": "code",
        "colab": {}
      },
      "source": [
        ""
      ],
      "execution_count": 0,
      "outputs": []
    }
  ]
}