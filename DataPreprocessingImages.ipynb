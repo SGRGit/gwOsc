{
  "nbformat": 4,
  "nbformat_minor": 0,
  "metadata": {
    "colab": {
      "name": "DataPreprocessingImages.ipynb",
      "provenance": [],
      "collapsed_sections": [],
      "include_colab_link": true
    },
    "kernelspec": {
      "name": "python3",
      "display_name": "Python 3"
    }
  },
  "cells": [
    {
      "cell_type": "markdown",
      "metadata": {
        "id": "view-in-github",
        "colab_type": "text"
      },
      "source": [
        "<a href=\"https://colab.research.google.com/github/SGRGit/gwOsc/blob/Main/DataPreprocessingImages.ipynb\" target=\"_parent\"><img src=\"https://colab.research.google.com/assets/colab-badge.svg\" alt=\"Open In Colab\"/></a>"
      ]
    },
    {
      "cell_type": "code",
      "metadata": {
        "id": "UkRC1lMHrAKj",
        "colab_type": "code",
        "colab": {}
      },
      "source": [
        "import os\n",
        "import matplotlib.pyplot as plt\n",
        "from tensorflow.keras.preprocessing.image import ImageDataGenerator"
      ],
      "execution_count": 0,
      "outputs": []
    },
    {
      "cell_type": "code",
      "metadata": {
        "id": "LVx4D7JYyMLI",
        "colab_type": "code",
        "colab": {}
      },
      "source": [
        "%matplotlib inline\n",
        "import matplotlib.image as mpimg\n",
        "from tensorflow.keras.preprocessing.image import array_to_img, img_to_array, load_img"
      ],
      "execution_count": 0,
      "outputs": []
    },
    {
      "cell_type": "code",
      "metadata": {
        "id": "NQ_4UttRyRJA",
        "colab_type": "code",
        "colab": {
          "base_uri": "https://localhost:8080/",
          "height": 121
        },
        "outputId": "1adcef20-056d-42d3-dfa4-85467b3ce367"
      },
      "source": [
        "from google.colab import drive\n",
        "drive.mount('/content/drive')"
      ],
      "execution_count": 3,
      "outputs": [
        {
          "output_type": "stream",
          "text": [
            "Go to this URL in a browser: https://accounts.google.com/o/oauth2/auth?client_id=947318989803-6bn6qk8qdgf4n4g3pfee6491hc0brc4i.apps.googleusercontent.com&redirect_uri=urn%3Aietf%3Awg%3Aoauth%3A2.0%3Aoob&scope=email%20https%3A%2F%2Fwww.googleapis.com%2Fauth%2Fdocs.test%20https%3A%2F%2Fwww.googleapis.com%2Fauth%2Fdrive%20https%3A%2F%2Fwww.googleapis.com%2Fauth%2Fdrive.photos.readonly%20https%3A%2F%2Fwww.googleapis.com%2Fauth%2Fpeopleapi.readonly&response_type=code\n",
            "\n",
            "Enter your authorization code:\n",
            "··········\n",
            "Mounted at /content/drive\n"
          ],
          "name": "stdout"
        }
      ]
    },
    {
      "cell_type": "code",
      "metadata": {
        "id": "i_d5Z9N2yR-J",
        "colab_type": "code",
        "colab": {}
      },
      "source": [
        "from sklearn import svm, datasets\n",
        "from sklearn.model_selection import cross_val_score"
      ],
      "execution_count": 0,
      "outputs": []
    },
    {
      "cell_type": "code",
      "metadata": {
        "id": "ZRsocF6L0ILe",
        "colab_type": "code",
        "colab": {}
      },
      "source": [
        "import os\n",
        "base_dir = \"drive/My Drive/Colab Notebooks/Other\"\n",
        "seta = 'George_W_Bush'\n",
        "setb = 'Collin_Powell'\n",
        "\n",
        "data_dir = os.path.join(base_dir, 'data')\n",
        "seta_data_dir = os.path.join(data_dir, seta)\n",
        "seta_data_fnnames = os.listdir(seta_data_dir)\n",
        "\n",
        "setb_data_dir = os.path.join(data_dir, setb)\n",
        "setb_data_fnnames = os.listdir(setb_data_dir)"
      ],
      "execution_count": 0,
      "outputs": []
    },
    {
      "cell_type": "code",
      "metadata": {
        "id": "SAzuph3rcjyA",
        "colab_type": "code",
        "colab": {}
      },
      "source": [
        "\n",
        "img_path1 = os.path.join(seta_data_dir, seta_data_fnnames[0])\n",
        "img1 = load_img(img_path1, target_size = (150,150))\n",
        "x1 = img_to_array(img1)\n",
        "x1 = x1.reshape(1, 150, 150, 3)\n",
        "\n",
        "img_path2 = os.path.join(seta_data_dir, seta_data_fnnames[1])\n",
        "img2 = load_img(img_path2, target_size = (150,150))\n",
        "x2 = img_to_array(img2)\n",
        "x2 = x2.reshape(1, 150, 150, 3)\n",
        "\n",
        "#np.vstack((x1,x2))"
      ],
      "execution_count": 0,
      "outputs": []
    },
    {
      "cell_type": "code",
      "metadata": {
        "colab_type": "code",
        "id": "htM8CiCcGBpO",
        "colab": {}
      },
      "source": [
        "q1 = np.empty((1, 150, 150, 3))\n",
        "q2 = np.empty((1, 150, 150, 3))\n",
        "for a in range(1, len(seta_data_fnnames), 1):\n",
        "  img_path_a = os.path.join(seta_data_dir, seta_data_fnnames[a])\n",
        "  img_a = load_img(img_path_a, target_size = (150,150))\n",
        "  q1 = np.vstack((q1, img_to_array(img_a).reshape(1, 150, 150, 3)))\n",
        "  t1 = np.ones([len(seta_data_fnnames),1])\n",
        "  \n",
        "for b in range(1, len(setb_data_fnnames), 1):\n",
        "  img_path_b = os.path.join(setb_data_dir, setb_data_fnnames[b])\n",
        "  img_b = load_img(img_path_b, target_size = (150,150))\n",
        "  q2 = np.vstack((q2, img_to_array(img_b).reshape(1, 150, 150, 3)))\n",
        "  t2 = np.zeros([len(setb_data_fnnames),1])"
      ],
      "execution_count": 0,
      "outputs": []
    },
    {
      "cell_type": "code",
      "metadata": {
        "id": "ahxW1JmLGC4U",
        "colab_type": "code",
        "colab": {}
      },
      "source": [
        "t = np.vstack((t1, t2))"
      ],
      "execution_count": 0,
      "outputs": []
    },
    {
      "cell_type": "code",
      "metadata": {
        "id": "nZ9Gm3onGcJj",
        "colab_type": "code",
        "colab": {}
      },
      "source": [
        "q = np.vstack((q1, q2))"
      ],
      "execution_count": 0,
      "outputs": []
    },
    {
      "cell_type": "code",
      "metadata": {
        "colab_type": "code",
        "id": "BFIQYUDpGBBC",
        "colab": {}
      },
      "source": [
        "from sklearn.model_selection import train_test_split"
      ],
      "execution_count": 0,
      "outputs": []
    },
    {
      "cell_type": "code",
      "metadata": {
        "id": "o5g4VBMtp0Nq",
        "colab_type": "code",
        "colab": {}
      },
      "source": [
        "X_train, X_test, y_train, y_test = train_test_split(q, t, test_size=0.2)"
      ],
      "execution_count": 0,
      "outputs": []
    },
    {
      "cell_type": "code",
      "metadata": {
        "id": "u28ZyH0tp9Di",
        "colab_type": "code",
        "colab": {}
      },
      "source": [
        "datagen = ImageDataGenerator(\n",
        "            rotation_range = 40,\n",
        "            width_shift_range = 0.2,\n",
        "            height_shift_range = 0.2,\n",
        "            shear_range = 0.2,\n",
        "            zoom_range = 0.2,\n",
        "            horizontal_flip=True,\n",
        "            fill_mode = 'nearest')"
      ],
      "execution_count": 0,
      "outputs": []
    },
    {
      "cell_type": "code",
      "metadata": {
        "id": "1HcqDZlGqLaC",
        "colab_type": "code",
        "colab": {}
      },
      "source": [
        "#Import Tensorflow Libraries\n",
        "from tensorflow.keras import layers\n",
        "from tensorflow.keras import Model\n",
        "\n",
        "img_input = layers.Input(shape=(150, 150, 3))\n",
        "\n",
        "# 2D Conv Layer with 64 filters of dimension 3x3 and ReLU activation function\n",
        "x = layers.Conv2D(64, 3, activation = 'relu')(img_input)\n",
        "# 2D Max Pooling Layer\n",
        "x = layers.MaxPooling2D(2)(x)\n",
        "\n",
        "# 2D Conv Layer with 128 filters of dimension 3x3 and ReLU activation function\n",
        "x = layers.Conv2D(128, 3, activation = 'relu')(x)\n",
        "# 2D Max Pooling Layer\n",
        "x = layers.MaxPooling2D(2)(x)\n",
        "\n",
        "# 2D Conv Layer with 256 filters of dimension 3x3 and ReLU activation function\n",
        "x = layers.Conv2D(256, 3, activation = 'relu')(x)\n",
        "# 2D Max Pooling Layer\n",
        "x = layers.MaxPooling2D(2)(x)\n",
        "\n",
        "# 2D Conv Layer with 512 filters of dimension 3x3 and ReLU activation function\n",
        "x = layers.Conv2D(512, 3, activation = 'relu')(x)\n",
        "# 2D Max Pooling Layer\n",
        "x = layers.MaxPooling2D(2)(x)\n",
        "\n",
        "# 2D Conv Layer with 512 filters of dimension 3x3 and ReLU activation function\n",
        "x = layers.Conv2D(512, 3, activation = 'relu')(x)\n",
        "# Faltten Layer\n",
        "x = layers.Flatten()(x)\n",
        "\n",
        "# Fully Connected Layers and ReLU activation algoritm\n",
        "x = layers.Dense(4096, activation = 'relu')(x)\n",
        "x = layers.Dense(4096, activation = 'relu')(x)\n",
        "x = layers.Dense(1000, activation = 'relu')(x)\n",
        "\n",
        "# Dropout Layer for Optimization\n",
        "x = layers.Dropout(0,noise_shape=None, seed=None)(x)\n",
        "\n",
        "# Fully connected layers and sigmoid activation algorithm\n",
        "output = layers.Dense(1, activation = 'sigmoid')(x)\n",
        "\n",
        "model = Model(img_input, output)\n"
      ],
      "execution_count": 0,
      "outputs": []
    },
    {
      "cell_type": "code",
      "metadata": {
        "id": "fePQQSikqNaQ",
        "colab_type": "code",
        "colab": {
          "base_uri": "https://localhost:8080/",
          "height": 689
        },
        "outputId": "f96dd47e-f388-42b6-bfc9-78267fa408d0"
      },
      "source": [
        "model.summary()"
      ],
      "execution_count": 270,
      "outputs": [
        {
          "output_type": "stream",
          "text": [
            "Model: \"model_2\"\n",
            "_________________________________________________________________\n",
            "Layer (type)                 Output Shape              Param #   \n",
            "=================================================================\n",
            "input_5 (InputLayer)         [(None, 150, 150, 3)]     0         \n",
            "_________________________________________________________________\n",
            "conv2d_20 (Conv2D)           (None, 148, 148, 64)      1792      \n",
            "_________________________________________________________________\n",
            "max_pooling2d_16 (MaxPooling (None, 74, 74, 64)        0         \n",
            "_________________________________________________________________\n",
            "conv2d_21 (Conv2D)           (None, 72, 72, 128)       73856     \n",
            "_________________________________________________________________\n",
            "max_pooling2d_17 (MaxPooling (None, 36, 36, 128)       0         \n",
            "_________________________________________________________________\n",
            "conv2d_22 (Conv2D)           (None, 34, 34, 256)       295168    \n",
            "_________________________________________________________________\n",
            "max_pooling2d_18 (MaxPooling (None, 17, 17, 256)       0         \n",
            "_________________________________________________________________\n",
            "conv2d_23 (Conv2D)           (None, 15, 15, 512)       1180160   \n",
            "_________________________________________________________________\n",
            "max_pooling2d_19 (MaxPooling (None, 7, 7, 512)         0         \n",
            "_________________________________________________________________\n",
            "conv2d_24 (Conv2D)           (None, 5, 5, 512)         2359808   \n",
            "_________________________________________________________________\n",
            "flatten_4 (Flatten)          (None, 12800)             0         \n",
            "_________________________________________________________________\n",
            "dense_14 (Dense)             (None, 4096)              52432896  \n",
            "_________________________________________________________________\n",
            "dense_15 (Dense)             (None, 4096)              16781312  \n",
            "_________________________________________________________________\n",
            "dense_16 (Dense)             (None, 1000)              4097000   \n",
            "_________________________________________________________________\n",
            "dropout_4 (Dropout)          (None, 1000)              0         \n",
            "_________________________________________________________________\n",
            "dense_17 (Dense)             (None, 1)                 1001      \n",
            "=================================================================\n",
            "Total params: 77,222,993\n",
            "Trainable params: 77,222,993\n",
            "Non-trainable params: 0\n",
            "_________________________________________________________________\n"
          ],
          "name": "stdout"
        }
      ]
    },
    {
      "cell_type": "code",
      "metadata": {
        "id": "Ud53PQqjqnz2",
        "colab_type": "code",
        "colab": {}
      },
      "source": [
        "import tensorflow as tf\n",
        "model.compile(loss = 'binary_crossentropy',\n",
        "             optimizer = tf.train.AdamOptimizer(learning_rate = 0.0005),\n",
        "             metrics = ['acc'])"
      ],
      "execution_count": 0,
      "outputs": []
    },
    {
      "cell_type": "code",
      "metadata": {
        "id": "JphwYF_Tq4xC",
        "colab_type": "code",
        "colab": {
          "base_uri": "https://localhost:8080/",
          "height": 218
        },
        "outputId": "b144169a-0641-42c4-8c42-e841bf99c56f"
      },
      "source": [
        "model.fit(X_train, y_train, epochs=5, batch_size=10, verbose=2)"
      ],
      "execution_count": 272,
      "outputs": [
        {
          "output_type": "stream",
          "text": [
            "Train on 430 samples\n",
            "Epoch 1/5\n",
            "430/430 - 98s - loss: 13.8199 - acc: 0.6512\n",
            "Epoch 2/5\n",
            "430/430 - 97s - loss: 0.6057 - acc: 0.6907\n",
            "Epoch 3/5\n",
            "430/430 - 95s - loss: 0.6070 - acc: 0.7140\n",
            "Epoch 4/5\n",
            "430/430 - 94s - loss: 0.4575 - acc: 0.7930\n",
            "Epoch 5/5\n",
            "430/430 - 94s - loss: 0.3222 - acc: 0.8674\n"
          ],
          "name": "stdout"
        },
        {
          "output_type": "execute_result",
          "data": {
            "text/plain": [
              "<tensorflow.python.keras.callbacks.History at 0x7fbf4ad1ab38>"
            ]
          },
          "metadata": {
            "tags": []
          },
          "execution_count": 272
        }
      ]
    },
    {
      "cell_type": "code",
      "metadata": {
        "id": "UFvKxidBrfAG",
        "colab_type": "code",
        "colab": {}
      },
      "source": [
        "from sklearn.metrics import roc_curve\n",
        "y_pred = model.predict(X_test).ravel()\n",
        "fpr, tpr, thresholds = roc_curve(y_test, y_pred)"
      ],
      "execution_count": 0,
      "outputs": []
    },
    {
      "cell_type": "code",
      "metadata": {
        "id": "CkfANlK2s3Ki",
        "colab_type": "code",
        "colab": {}
      },
      "source": [
        "from sklearn.metrics import auc\n",
        "auc = auc(fpr, tpr)"
      ],
      "execution_count": 0,
      "outputs": []
    },
    {
      "cell_type": "code",
      "metadata": {
        "id": "Jin1Uoj0s97Y",
        "colab_type": "code",
        "colab": {
          "base_uri": "https://localhost:8080/",
          "height": 573
        },
        "outputId": "8626507c-25b4-4f49-a743-f1d61b51d41e"
      },
      "source": [
        "plt.figure(1)\n",
        "plt.plot([0, 1], [0, 1], 'k--')\n",
        "plt.plot(fpr, tpr, label='Keras (area = {:.3f})'.format(auc))\n",
        "#plt.plot(fpr_rf, tpr_rf, label='RF (area = {:.3f})'.format(auc_rf))\n",
        "plt.xlabel('False positive rate')\n",
        "plt.ylabel('True positive rate')\n",
        "plt.title('ROC curve')\n",
        "plt.legend(loc='best')\n",
        "plt.show()\n",
        "# Zoom in view of the upper left corner.\n",
        "plt.figure(2)\n",
        "plt.xlim(0, 0.2)\n",
        "plt.ylim(0.8, 1)\n",
        "plt.plot([0, 1], [0, 1], 'k--')\n",
        "plt.plot(fpr, tpr, label='Keras (area = {:.3f})'.format(auc))\n",
        "#plt.plot(fpr_rf, tpr_rf, label='RF (area = {:.3f})'.format(auc_rf))\n",
        "plt.xlabel('False positive rate')\n",
        "plt.ylabel('True positive rate')\n",
        "plt.title('ROC curve (zoomed in at top left)')\n",
        "plt.legend(loc='best')\n",
        "plt.show()"
      ],
      "execution_count": 275,
      "outputs": [
        {
          "output_type": "display_data",
          "data": {
            "image/png": "[encoded data removed]",
            "text/plain": [
              "<Figure size 432x288 with 1 Axes>"
            ]
          },
          "metadata": {
            "tags": []
          }
        },
        {
          "output_type": "display_data",
          "data": {
            "image/png": "[encoded data removed]",
            "text/plain": [
              "<Figure size 432x288 with 1 Axes>"
            ]
          },
          "metadata": {
            "tags": []
          }
        }
      ]
    },
    {
      "cell_type": "code",
      "metadata": {
        "id": "wJ4xYXz3tN6b",
        "colab_type": "code",
        "colab": {}
      },
      "source": [
        ""
      ],
      "execution_count": 0,
      "outputs": []
    }
  ]
}