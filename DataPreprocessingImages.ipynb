{
  "nbformat": 4,
  "nbformat_minor": 0,
  "metadata": {
    "colab": {
      "name": "DataPreprocessingImages.ipynb",
      "provenance": [],
      "collapsed_sections": [],
      "include_colab_link": true
    },
    "kernelspec": {
      "name": "python3",
      "display_name": "Python 3"
    }
  },
  "cells": [
    {
      "cell_type": "markdown",
      "metadata": {
        "id": "view-in-github",
        "colab_type": "text"
      },
      "source": [
        "<a href=\"https://colab.research.google.com/github/SGRGit/gwOsc/blob/Main/DataPreprocessingImages.ipynb\" target=\"_parent\"><img src=\"https://colab.research.google.com/assets/colab-badge.svg\" alt=\"Open In Colab\"/></a>"
      ]
    },
    {
      "cell_type": "code",
      "metadata": {
        "id": "UkRC1lMHrAKj",
        "colab_type": "code",
        "colab": {}
      },
      "source": [
        "import os\n",
        "import matplotlib.pyplot as plt\n",
        "from tensorflow.keras.preprocessing.image import ImageDataGenerator"
      ],
      "execution_count": 0,
      "outputs": []
    },
    {
      "cell_type": "code",
      "metadata": {
        "id": "LVx4D7JYyMLI",
        "colab_type": "code",
        "colab": {}
      },
      "source": [
        "%matplotlib inline\n",
        "import matplotlib.image as mpimg\n",
        "from tensorflow.keras.preprocessing.image import array_to_img, img_to_array, load_img"
      ],
      "execution_count": 0,
      "outputs": []
    },
    {
      "cell_type": "code",
      "metadata": {
        "id": "NQ_4UttRyRJA",
        "colab_type": "code",
        "outputId": "839d4bc3-37e0-4fed-9450-6f5978c38bca",
        "colab": {
          "base_uri": "https://localhost:8080/",
          "height": 121
        }
      },
      "source": [
        "from google.colab import drive\n",
        "drive.mount('/content/drive')"
      ],
      "execution_count": 3,
      "outputs": [
        {
          "output_type": "stream",
          "text": [
            "Go to this URL in a browser: https://accounts.google.com/o/oauth2/auth?client_id=947318989803-6bn6qk8qdgf4n4g3pfee6491hc0brc4i.apps.googleusercontent.com&redirect_uri=urn%3Aietf%3Awg%3Aoauth%3A2.0%3Aoob&scope=email%20https%3A%2F%2Fwww.googleapis.com%2Fauth%2Fdocs.test%20https%3A%2F%2Fwww.googleapis.com%2Fauth%2Fdrive%20https%3A%2F%2Fwww.googleapis.com%2Fauth%2Fdrive.photos.readonly%20https%3A%2F%2Fwww.googleapis.com%2Fauth%2Fpeopleapi.readonly&response_type=code\n",
            "\n",
            "Enter your authorization code:\n",
            "··········\n",
            "Mounted at /content/drive\n"
          ],
          "name": "stdout"
        }
      ]
    },
    {
      "cell_type": "code",
      "metadata": {
        "id": "i_d5Z9N2yR-J",
        "colab_type": "code",
        "colab": {}
      },
      "source": [
        "from sklearn import svm, datasets\n",
        "from sklearn.model_selection import cross_val_score"
      ],
      "execution_count": 0,
      "outputs": []
    },
    {
      "cell_type": "code",
      "metadata": {
        "id": "ZRsocF6L0ILe",
        "colab_type": "code",
        "colab": {}
      },
      "source": [
        "import os\n",
        "base_dir = \"drive/My Drive/Colab Notebooks/Other\"\n",
        "seta = 'George_W_Bush'\n",
        "setb = 'Collin_Powell'\n",
        "\n",
        "data_dir = os.path.join(base_dir, 'data')\n",
        "seta_data_dir = os.path.join(data_dir, seta)\n",
        "seta_data_fnnames = os.listdir(seta_data_dir)\n",
        "\n",
        "setb_data_dir = os.path.join(data_dir, setb)\n",
        "setb_data_fnnames = os.listdir(setb_data_dir)"
      ],
      "execution_count": 0,
      "outputs": []
    },
    {
      "cell_type": "code",
      "metadata": {
        "colab_type": "code",
        "id": "htM8CiCcGBpO",
        "colab": {}
      },
      "source": [
        "import numpy as np\n",
        "q1 = np.empty((1, 150, 150, 3))\n",
        "q2 = np.empty((1, 150, 150, 3))\n",
        "for a in range(1, len(seta_data_fnnames), 1):\n",
        "  img_path_a = os.path.join(seta_data_dir, seta_data_fnnames[a])\n",
        "  img_a = load_img(img_path_a, target_size = (150,150))\n",
        "  q1 = np.vstack((q1, img_to_array(img_a).reshape(1, 150, 150, 3)))\n",
        "  t1 = np.ones([len(seta_data_fnnames),1])\n",
        "  \n",
        "for b in range(1, len(setb_data_fnnames), 1):\n",
        "  img_path_b = os.path.join(setb_data_dir, setb_data_fnnames[b])\n",
        "  img_b = load_img(img_path_b, target_size = (150,150))\n",
        "  q2 = np.vstack((q2, img_to_array(img_b).reshape(1, 150, 150, 3)))\n",
        "  t2 = np.zeros([len(setb_data_fnnames),1])"
      ],
      "execution_count": 0,
      "outputs": []
    },
    {
      "cell_type": "code",
      "metadata": {
        "id": "ahxW1JmLGC4U",
        "colab_type": "code",
        "colab": {}
      },
      "source": [
        "t = np.vstack((t1, t2))"
      ],
      "execution_count": 0,
      "outputs": []
    },
    {
      "cell_type": "code",
      "metadata": {
        "id": "nZ9Gm3onGcJj",
        "colab_type": "code",
        "colab": {}
      },
      "source": [
        "q = np.vstack((q1, q2))"
      ],
      "execution_count": 0,
      "outputs": []
    },
    {
      "cell_type": "code",
      "metadata": {
        "colab_type": "code",
        "id": "BFIQYUDpGBBC",
        "colab": {}
      },
      "source": [
        "from sklearn.model_selection import train_test_split"
      ],
      "execution_count": 0,
      "outputs": []
    },
    {
      "cell_type": "code",
      "metadata": {
        "id": "o5g4VBMtp0Nq",
        "colab_type": "code",
        "colab": {}
      },
      "source": [
        "X_train, X_test, y_train, y_test = train_test_split(q, t, test_size=0.2)"
      ],
      "execution_count": 0,
      "outputs": []
    },
    {
      "cell_type": "code",
      "metadata": {
        "id": "u28ZyH0tp9Di",
        "colab_type": "code",
        "colab": {}
      },
      "source": [
        "datagen = ImageDataGenerator(\n",
        "            rotation_range = 40,\n",
        "            width_shift_range = 0.2,\n",
        "            height_shift_range = 0.2,\n",
        "            shear_range = 0.2,\n",
        "            zoom_range = 0.2,\n",
        "            horizontal_flip=True,\n",
        "            fill_mode = 'nearest')"
      ],
      "execution_count": 0,
      "outputs": []
    },
    {
      "cell_type": "code",
      "metadata": {
        "id": "1HcqDZlGqLaC",
        "colab_type": "code",
        "outputId": "ff1688d6-b80e-474d-8583-ae40f197dd35",
        "colab": {
          "base_uri": "https://localhost:8080/",
          "height": 87
        }
      },
      "source": [
        "#Import Tensorflow Libraries\n",
        "from tensorflow.keras import layers\n",
        "from tensorflow.keras import Model\n",
        "\n",
        "img_input = layers.Input(shape=(150, 150, 3))\n",
        "\n",
        "# 2D Conv Layer with 64 filters of dimension 3x3 and ReLU activation function\n",
        "x = layers.Conv2D(64, 3, activation = 'relu')(img_input)\n",
        "# 2D Max Pooling Layer\n",
        "x = layers.MaxPooling2D(2)(x)\n",
        "\n",
        "# 2D Conv Layer with 128 filters of dimension 3x3 and ReLU activation function\n",
        "x = layers.Conv2D(128, 3, activation = 'relu')(x)\n",
        "# 2D Max Pooling Layer\n",
        "x = layers.MaxPooling2D(2)(x)\n",
        "\n",
        "# 2D Conv Layer with 256 filters of dimension 3x3 and ReLU activation function\n",
        "x = layers.Conv2D(256, 3, activation = 'relu')(x)\n",
        "# 2D Max Pooling Layer\n",
        "x = layers.MaxPooling2D(2)(x)\n",
        "\n",
        "# 2D Conv Layer with 512 filters of dimension 3x3 and ReLU activation function\n",
        "x = layers.Conv2D(512, 3, activation = 'relu')(x)\n",
        "# 2D Max Pooling Layer\n",
        "x = layers.MaxPooling2D(2)(x)\n",
        "\n",
        "# 2D Conv Layer with 512 filters of dimension 3x3 and ReLU activation function\n",
        "x = layers.Conv2D(512, 3, activation = 'relu')(x)\n",
        "# Faltten Layer\n",
        "x = layers.Flatten()(x)\n",
        "\n",
        "# Fully Connected Layers and ReLU activation algoritm\n",
        "x = layers.Dense(4096, activation = 'relu')(x)\n",
        "x = layers.Dense(4096, activation = 'relu')(x)\n",
        "x = layers.Dense(1000, activation = 'relu')(x)\n",
        "\n",
        "# Dropout Layer for Optimization\n",
        "x = layers.Dropout(0,noise_shape=None, seed=None)(x)\n",
        "\n",
        "# Fully connected layers and sigmoid activation algorithm\n",
        "output = layers.Dense(1, activation = 'sigmoid')(x)\n",
        "\n",
        "model = Model(img_input, output)\n"
      ],
      "execution_count": 12,
      "outputs": [
        {
          "output_type": "stream",
          "text": [
            "WARNING:tensorflow:From /usr/local/lib/python3.6/dist-packages/tensorflow_core/python/ops/resource_variable_ops.py:1630: calling BaseResourceVariable.__init__ (from tensorflow.python.ops.resource_variable_ops) with constraint is deprecated and will be removed in a future version.\n",
            "Instructions for updating:\n",
            "If using Keras pass *_constraint arguments to layers.\n"
          ],
          "name": "stdout"
        }
      ]
    },
    {
      "cell_type": "code",
      "metadata": {
        "id": "fePQQSikqNaQ",
        "colab_type": "code",
        "outputId": "647e1d35-6dd5-479c-f87d-e88de950b996",
        "colab": {
          "base_uri": "https://localhost:8080/",
          "height": 689
        }
      },
      "source": [
        "model.summary()"
      ],
      "execution_count": 13,
      "outputs": [
        {
          "output_type": "stream",
          "text": [
            "Model: \"model\"\n",
            "_________________________________________________________________\n",
            "Layer (type)                 Output Shape              Param #   \n",
            "=================================================================\n",
            "input_1 (InputLayer)         [(None, 150, 150, 3)]     0         \n",
            "_________________________________________________________________\n",
            "conv2d (Conv2D)              (None, 148, 148, 64)      1792      \n",
            "_________________________________________________________________\n",
            "max_pooling2d (MaxPooling2D) (None, 74, 74, 64)        0         \n",
            "_________________________________________________________________\n",
            "conv2d_1 (Conv2D)            (None, 72, 72, 128)       73856     \n",
            "_________________________________________________________________\n",
            "max_pooling2d_1 (MaxPooling2 (None, 36, 36, 128)       0         \n",
            "_________________________________________________________________\n",
            "conv2d_2 (Conv2D)            (None, 34, 34, 256)       295168    \n",
            "_________________________________________________________________\n",
            "max_pooling2d_2 (MaxPooling2 (None, 17, 17, 256)       0         \n",
            "_________________________________________________________________\n",
            "conv2d_3 (Conv2D)            (None, 15, 15, 512)       1180160   \n",
            "_________________________________________________________________\n",
            "max_pooling2d_3 (MaxPooling2 (None, 7, 7, 512)         0         \n",
            "_________________________________________________________________\n",
            "conv2d_4 (Conv2D)            (None, 5, 5, 512)         2359808   \n",
            "_________________________________________________________________\n",
            "flatten (Flatten)            (None, 12800)             0         \n",
            "_________________________________________________________________\n",
            "dense (Dense)                (None, 4096)              52432896  \n",
            "_________________________________________________________________\n",
            "dense_1 (Dense)              (None, 4096)              16781312  \n",
            "_________________________________________________________________\n",
            "dense_2 (Dense)              (None, 1000)              4097000   \n",
            "_________________________________________________________________\n",
            "dropout (Dropout)            (None, 1000)              0         \n",
            "_________________________________________________________________\n",
            "dense_3 (Dense)              (None, 1)                 1001      \n",
            "=================================================================\n",
            "Total params: 77,222,993\n",
            "Trainable params: 77,222,993\n",
            "Non-trainable params: 0\n",
            "_________________________________________________________________\n"
          ],
          "name": "stdout"
        }
      ]
    },
    {
      "cell_type": "code",
      "metadata": {
        "id": "Ud53PQqjqnz2",
        "colab_type": "code",
        "outputId": "c876c625-5f82-4b89-d9f4-1e8183fbbfe3",
        "colab": {
          "base_uri": "https://localhost:8080/",
          "height": 87
        }
      },
      "source": [
        "import tensorflow as tf\n",
        "model.compile(loss = 'binary_crossentropy',\n",
        "             optimizer = tf.train.AdamOptimizer(learning_rate = 0.0005),\n",
        "             metrics = ['acc'])"
      ],
      "execution_count": 14,
      "outputs": [
        {
          "output_type": "stream",
          "text": [
            "WARNING:tensorflow:From /usr/local/lib/python3.6/dist-packages/tensorflow_core/python/ops/nn_impl.py:183: where (from tensorflow.python.ops.array_ops) is deprecated and will be removed in a future version.\n",
            "Instructions for updating:\n",
            "Use tf.where in 2.0, which has the same broadcast rule as np.where\n"
          ],
          "name": "stdout"
        }
      ]
    },
    {
      "cell_type": "code",
      "metadata": {
        "id": "JphwYF_Tq4xC",
        "colab_type": "code",
        "outputId": "da1c082f-b1ca-4fe3-81bc-2e167a6934fc",
        "colab": {
          "base_uri": "https://localhost:8080/",
          "height": 218
        }
      },
      "source": [
        "model.fit(X_train, y_train, epochs=5, batch_size=10, verbose=2)"
      ],
      "execution_count": 15,
      "outputs": [
        {
          "output_type": "stream",
          "text": [
            "Train on 430 samples\n",
            "Epoch 1/5\n",
            "430/430 - 113s - loss: 8.8391 - acc: 0.6372\n",
            "Epoch 2/5\n",
            "430/430 - 111s - loss: 0.6442 - acc: 0.6860\n",
            "Epoch 3/5\n",
            "430/430 - 111s - loss: 0.6319 - acc: 0.6767\n",
            "Epoch 4/5\n",
            "430/430 - 110s - loss: 0.5505 - acc: 0.7349\n",
            "Epoch 5/5\n",
            "430/430 - 111s - loss: 0.5213 - acc: 0.7767\n"
          ],
          "name": "stdout"
        },
        {
          "output_type": "execute_result",
          "data": {
            "text/plain": [
              "<tensorflow.python.keras.callbacks.History at 0x7f1241179f98>"
            ]
          },
          "metadata": {
            "tags": []
          },
          "execution_count": 15
        }
      ]
    },
    {
      "cell_type": "code",
      "metadata": {
        "id": "UFvKxidBrfAG",
        "colab_type": "code",
        "colab": {}
      },
      "source": [
        "from sklearn.metrics import roc_curve\n",
        "y_pred = model.predict(X_test).ravel()\n",
        "fpr, tpr, thresholds = roc_curve(y_test, y_pred)"
      ],
      "execution_count": 0,
      "outputs": []
    },
    {
      "cell_type": "code",
      "metadata": {
        "id": "CkfANlK2s3Ki",
        "colab_type": "code",
        "colab": {}
      },
      "source": [
        "from sklearn.metrics import auc\n",
        "auc = auc(fpr, tpr)"
      ],
      "execution_count": 0,
      "outputs": []
    },
    {
      "cell_type": "code",
      "metadata": {
        "id": "tpjiZqMaSOj6",
        "colab_type": "code",
        "outputId": "bceebc5c-4bc1-4f3f-910e-f27f94e83864",
        "colab": {
          "base_uri": "https://localhost:8080/",
          "height": 70
        }
      },
      "source": [
        "from sklearn.metrics import auc\n",
        "from sklearn.ensemble import RandomForestClassifier\n",
        "\n",
        "nsamples, nx, ny, nz = X_train.shape\n",
        "nsamplesx, nxx, nyx, nzx = X_test.shape\n",
        "train_dataset = X_train.reshape((nsamples,nx*ny*nz))\n",
        "test_dataset = X_test.reshape((nsamplesx,nxx*nyx*nzx))\n",
        "\n",
        "# Supervised transformation based on random forests\n",
        "rf = RandomForestClassifier(max_depth=3, n_estimators=10)\n",
        "rf.fit(train_dataset, y_train)\n",
        "\n",
        "y_pred_rf = rf.predict_proba(test_dataset)[:, 1]\n",
        "fpr_rf, tpr_rf, thresholds_rf = roc_curve(y_test, y_pred_rf)\n",
        "auc_rf = auc(fpr_rf, tpr_rf)"
      ],
      "execution_count": 18,
      "outputs": [
        {
          "output_type": "stream",
          "text": [
            "/usr/local/lib/python3.6/dist-packages/ipykernel_launcher.py:11: DataConversionWarning: A column-vector y was passed when a 1d array was expected. Please change the shape of y to (n_samples,), for example using ravel().\n",
            "  # This is added back by InteractiveShellApp.init_path()\n"
          ],
          "name": "stderr"
        }
      ]
    },
    {
      "cell_type": "code",
      "metadata": {
        "id": "Jin1Uoj0s97Y",
        "colab_type": "code",
        "outputId": "b65f2d77-cd6f-4132-8101-1031c8d654ce",
        "colab": {
          "base_uri": "https://localhost:8080/",
          "height": 573
        }
      },
      "source": [
        "plt.figure(1)\n",
        "plt.plot([0, 1], [0, 1], 'k--')\n",
        "plt.plot(fpr, tpr, label='Keras (area = {:.3f})'.format(auc))\n",
        "plt.plot(fpr_rf, tpr_rf, label='RF (area = {:.3f})'.format(auc_rf))\n",
        "plt.xlabel('False positive rate')\n",
        "plt.ylabel('True positive rate')\n",
        "plt.title('ROC curve')\n",
        "plt.legend(loc='best')\n",
        "plt.show()\n",
        "# Zoom in view of the upper left corner.\n",
        "plt.figure(2)\n",
        "plt.xlim(0, 0.6)\n",
        "plt.ylim(0.2, 0.9)\n",
        "plt.plot([0, 1], [0, 1], 'k--')\n",
        "plt.plot(fpr, tpr, label='Keras (area = {:.3f})'.format(auc))\n",
        "plt.plot(fpr_rf, tpr_rf, label='RF (area = {:.3f})'.format(auc_rf))\n",
        "plt.xlabel('False positive rate')\n",
        "plt.ylabel('True positive rate')\n",
        "plt.title('ROC curve (zoomed in at top left)')\n",
        "plt.legend(loc='best')\n",
        "plt.show()"
      ],
      "execution_count": 23,
      "outputs": [
        {
          "output_type": "display_data",
          "data": {
            "image/png": "[encoded data removed]",
            "text/plain": [
              "<Figure size 432x288 with 1 Axes>"
            ]
          },
          "metadata": {
            "tags": []
          }
        },
        {
          "output_type": "display_data",
          "data": {
            "image/png": "[encoded data removed]",
            "text/plain": [
              "<Figure size 432x288 with 1 Axes>"
            ]
          },
          "metadata": {
            "tags": []
          }
        }
      ]
    },
    {
      "cell_type": "code",
      "metadata": {
        "id": "wEjwVKV9ip-F",
        "colab_type": "code",
        "colab": {
          "base_uri": "https://localhost:8080/",
          "height": 50
        },
        "outputId": "4e01c5a0-496f-45a9-a155-91e17e271c8f"
      },
      "source": [
        "from sklearn.metrics import confusion_matrix\n",
        "confusion_matrix(y_test, y_pred.round())"
      ],
      "execution_count": 34,
      "outputs": [
        {
          "output_type": "execute_result",
          "data": {
            "text/plain": [
              "array([[12, 17],\n",
              "       [ 2, 77]])"
            ]
          },
          "metadata": {
            "tags": []
          },
          "execution_count": 34
        }
      ]
    },
    {
      "cell_type": "code",
      "metadata": {
        "id": "-s-7jG4Ci_cL",
        "colab_type": "code",
        "colab": {}
      },
      "source": [
        "from sklearn.metrics import accuracy_score, hamming_loss"
      ],
      "execution_count": 0,
      "outputs": []
    },
    {
      "cell_type": "code",
      "metadata": {
        "id": "66PHg1TKjuKm",
        "colab_type": "code",
        "colab": {
          "base_uri": "https://localhost:8080/",
          "height": 34
        },
        "outputId": "0ff5d75a-95f8-45ce-fd72-88307dd0ebdf"
      },
      "source": [
        "accuracy_score(y_test,  y_pred.round(), normalize=True, sample_weight=None)"
      ],
      "execution_count": 35,
      "outputs": [
        {
          "output_type": "execute_result",
          "data": {
            "text/plain": [
              "0.8240740740740741"
            ]
          },
          "metadata": {
            "tags": []
          },
          "execution_count": 35
        }
      ]
    },
    {
      "cell_type": "code",
      "metadata": {
        "id": "uGtVWGqZkQZY",
        "colab_type": "code",
        "colab": {
          "base_uri": "https://localhost:8080/",
          "height": 34
        },
        "outputId": "4fd3cd9b-469b-4cde-8e55-f6e1a0b70d40"
      },
      "source": [
        "tn, fp, fn, tp = confusion_matrix(y_test, y_pred.round()).ravel()\n",
        "tn, fp, fn, tp"
      ],
      "execution_count": 40,
      "outputs": [
        {
          "output_type": "execute_result",
          "data": {
            "text/plain": [
              "(12, 17, 2, 77)"
            ]
          },
          "metadata": {
            "tags": []
          },
          "execution_count": 40
        }
      ]
    },
    {
      "cell_type": "code",
      "metadata": {
        "id": "SPWyxDR5klY4",
        "colab_type": "code",
        "colab": {
          "base_uri": "https://localhost:8080/",
          "height": 34
        },
        "outputId": "07000f0a-d830-4feb-f862-35e1ce250b32"
      },
      "source": [
        "hamming_loss(y_test, y_pred.round())"
      ],
      "execution_count": 39,
      "outputs": [
        {
          "output_type": "execute_result",
          "data": {
            "text/plain": [
              "0.17592592592592593"
            ]
          },
          "metadata": {
            "tags": []
          },
          "execution_count": 39
        }
      ]
    },
    {
      "cell_type": "code",
      "metadata": {
        "id": "KyfkO2oEks4j",
        "colab_type": "code",
        "colab": {
          "base_uri": "https://localhost:8080/",
          "height": 168
        },
        "outputId": "960262a0-6c78-470c-f007-820588502a00"
      },
      "source": [
        "from sklearn.metrics import classification_report\n",
        "target_names = ['class 0', 'class 1']\n",
        "print(classification_report(y_test, y_pred.round(), target_names=target_names))"
      ],
      "execution_count": 41,
      "outputs": [
        {
          "output_type": "stream",
          "text": [
            "              precision    recall  f1-score   support\n",
            "\n",
            "     class 0       0.86      0.41      0.56        29\n",
            "     class 1       0.82      0.97      0.89        79\n",
            "\n",
            "    accuracy                           0.82       108\n",
            "   macro avg       0.84      0.69      0.72       108\n",
            "weighted avg       0.83      0.82      0.80       108\n",
            "\n"
          ],
          "name": "stdout"
        }
      ]
    },
    {
      "cell_type": "code",
      "metadata": {
        "id": "a-icEzG4k-kH",
        "colab_type": "code",
        "colab": {
          "base_uri": "https://localhost:8080/",
          "height": 34
        },
        "outputId": "476f5699-d474-4039-bcb0-a2916373eb5b"
      },
      "source": [
        "from sklearn import metrics\n",
        "metrics.precision_score(y_test, y_pred.round())"
      ],
      "execution_count": 45,
      "outputs": [
        {
          "output_type": "execute_result",
          "data": {
            "text/plain": [
              "0.8191489361702128"
            ]
          },
          "metadata": {
            "tags": []
          },
          "execution_count": 45
        }
      ]
    },
    {
      "cell_type": "code",
      "metadata": {
        "id": "SUtzDAthlSMq",
        "colab_type": "code",
        "colab": {
          "base_uri": "https://localhost:8080/",
          "height": 84
        },
        "outputId": "bece8566-450a-4c1d-e4ad-89b8e6a7a1b0"
      },
      "source": [
        "metrics.recall_score(y_test, y_pred.round())\n",
        "metrics.f1_score(y_test, y_pred.round())  \n",
        "metrics.fbeta_score(y_test, y_pred.round(), beta=0.5)  \n",
        "metrics.fbeta_score(y_test, y_pred.round(), beta=1)  \n",
        "metrics.fbeta_score(y_test, y_pred.round(), beta=2) \n",
        "metrics.precision_recall_fscore_support(y_test, y_pred.round(), beta=0.5)  "
      ],
      "execution_count": 46,
      "outputs": [
        {
          "output_type": "execute_result",
          "data": {
            "text/plain": [
              "(array([0.85714286, 0.81914894]),\n",
              " array([0.4137931 , 0.97468354]),\n",
              " array([0.70588235, 0.84615385]),\n",
              " array([29, 79]))"
            ]
          },
          "metadata": {
            "tags": []
          },
          "execution_count": 46
        }
      ]
    },
    {
      "cell_type": "code",
      "metadata": {
        "id": "tN8wZEYHl1X3",
        "colab_type": "code",
        "colab": {
          "base_uri": "https://localhost:8080/",
          "height": 34
        },
        "outputId": "5c02df13-01cc-40ee-d1fb-299bb4202275"
      },
      "source": [
        "from sklearn.metrics import precision_recall_curve\n",
        "from sklearn.metrics import average_precision_score\n",
        "\n",
        "precision, recall, threshold = precision_recall_curve(y_test, y_pred)\n",
        "average_precision_score(y_test, y_pred) "
      ],
      "execution_count": 47,
      "outputs": [
        {
          "output_type": "execute_result",
          "data": {
            "text/plain": [
              "0.9428466731795688"
            ]
          },
          "metadata": {
            "tags": []
          },
          "execution_count": 47
        }
      ]
    },
    {
      "cell_type": "code",
      "metadata": {
        "id": "H92YGSArmeKX",
        "colab_type": "code",
        "colab": {
          "base_uri": "https://localhost:8080/",
          "height": 337
        },
        "outputId": "ed83da13-2fb9-469b-ccbd-ac0f035dfcf6"
      },
      "source": [
        "import numpy as np\n",
        "from sklearn.metrics import roc_curve\n",
        "fpr, tpr, thresholds = roc_curve(y_test, precision.round(), pos_label=2)"
      ],
      "execution_count": 60,
      "outputs": [
        {
          "output_type": "error",
          "ename": "ValueError",
          "evalue": "ignored",
          "traceback": [
            "\u001b[0;31m---------------------------------------------------------------------------\u001b[0m",
            "\u001b[0;31mValueError\u001b[0m                                Traceback (most recent call last)",
            "\u001b[0;32m<ipython-input-60-0b0d9a063e61>\u001b[0m in \u001b[0;36m<module>\u001b[0;34m()\u001b[0m\n\u001b[1;32m      1\u001b[0m \u001b[0;32mimport\u001b[0m \u001b[0mnumpy\u001b[0m \u001b[0;32mas\u001b[0m \u001b[0mnp\u001b[0m\u001b[0;34m\u001b[0m\u001b[0;34m\u001b[0m\u001b[0m\n\u001b[1;32m      2\u001b[0m \u001b[0;32mfrom\u001b[0m \u001b[0msklearn\u001b[0m\u001b[0;34m.\u001b[0m\u001b[0mmetrics\u001b[0m \u001b[0;32mimport\u001b[0m \u001b[0mroc_curve\u001b[0m\u001b[0;34m\u001b[0m\u001b[0;34m\u001b[0m\u001b[0m\n\u001b[0;32m----> 3\u001b[0;31m \u001b[0mfpr\u001b[0m\u001b[0;34m,\u001b[0m \u001b[0mtpr\u001b[0m\u001b[0;34m,\u001b[0m \u001b[0mthresholds\u001b[0m \u001b[0;34m=\u001b[0m \u001b[0mroc_curve\u001b[0m\u001b[0;34m(\u001b[0m\u001b[0my_test\u001b[0m\u001b[0;34m,\u001b[0m \u001b[0mprecision\u001b[0m\u001b[0;34m.\u001b[0m\u001b[0mround\u001b[0m\u001b[0;34m(\u001b[0m\u001b[0;34m)\u001b[0m\u001b[0;34m,\u001b[0m \u001b[0mpos_label\u001b[0m\u001b[0;34m=\u001b[0m\u001b[0;36m2\u001b[0m\u001b[0;34m)\u001b[0m\u001b[0;34m\u001b[0m\u001b[0;34m\u001b[0m\u001b[0m\n\u001b[0m",
            "\u001b[0;32m/usr/local/lib/python3.6/dist-packages/sklearn/metrics/ranking.py\u001b[0m in \u001b[0;36mroc_curve\u001b[0;34m(y_true, y_score, pos_label, sample_weight, drop_intermediate)\u001b[0m\n\u001b[1;32m    620\u001b[0m     \"\"\"\n\u001b[1;32m    621\u001b[0m     fps, tps, thresholds = _binary_clf_curve(\n\u001b[0;32m--> 622\u001b[0;31m         y_true, y_score, pos_label=pos_label, sample_weight=sample_weight)\n\u001b[0m\u001b[1;32m    623\u001b[0m \u001b[0;34m\u001b[0m\u001b[0m\n\u001b[1;32m    624\u001b[0m     \u001b[0;31m# Attempt to drop thresholds corresponding to points in between and\u001b[0m\u001b[0;34m\u001b[0m\u001b[0;34m\u001b[0m\u001b[0;34m\u001b[0m\u001b[0m\n",
            "\u001b[0;32m/usr/local/lib/python3.6/dist-packages/sklearn/metrics/ranking.py\u001b[0m in \u001b[0;36m_binary_clf_curve\u001b[0;34m(y_true, y_score, pos_label, sample_weight)\u001b[0m\n\u001b[1;32m    396\u001b[0m         \u001b[0;32mraise\u001b[0m \u001b[0mValueError\u001b[0m\u001b[0;34m(\u001b[0m\u001b[0;34m\"{0} format is not supported\"\u001b[0m\u001b[0;34m.\u001b[0m\u001b[0mformat\u001b[0m\u001b[0;34m(\u001b[0m\u001b[0my_type\u001b[0m\u001b[0;34m)\u001b[0m\u001b[0;34m)\u001b[0m\u001b[0;34m\u001b[0m\u001b[0;34m\u001b[0m\u001b[0m\n\u001b[1;32m    397\u001b[0m \u001b[0;34m\u001b[0m\u001b[0m\n\u001b[0;32m--> 398\u001b[0;31m     \u001b[0mcheck_consistent_length\u001b[0m\u001b[0;34m(\u001b[0m\u001b[0my_true\u001b[0m\u001b[0;34m,\u001b[0m \u001b[0my_score\u001b[0m\u001b[0;34m,\u001b[0m \u001b[0msample_weight\u001b[0m\u001b[0;34m)\u001b[0m\u001b[0;34m\u001b[0m\u001b[0;34m\u001b[0m\u001b[0m\n\u001b[0m\u001b[1;32m    399\u001b[0m     \u001b[0my_true\u001b[0m \u001b[0;34m=\u001b[0m \u001b[0mcolumn_or_1d\u001b[0m\u001b[0;34m(\u001b[0m\u001b[0my_true\u001b[0m\u001b[0;34m)\u001b[0m\u001b[0;34m\u001b[0m\u001b[0;34m\u001b[0m\u001b[0m\n\u001b[1;32m    400\u001b[0m     \u001b[0my_score\u001b[0m \u001b[0;34m=\u001b[0m \u001b[0mcolumn_or_1d\u001b[0m\u001b[0;34m(\u001b[0m\u001b[0my_score\u001b[0m\u001b[0;34m)\u001b[0m\u001b[0;34m\u001b[0m\u001b[0;34m\u001b[0m\u001b[0m\n",
            "\u001b[0;32m/usr/local/lib/python3.6/dist-packages/sklearn/utils/validation.py\u001b[0m in \u001b[0;36mcheck_consistent_length\u001b[0;34m(*arrays)\u001b[0m\n\u001b[1;32m    203\u001b[0m     \u001b[0;32mif\u001b[0m \u001b[0mlen\u001b[0m\u001b[0;34m(\u001b[0m\u001b[0muniques\u001b[0m\u001b[0;34m)\u001b[0m \u001b[0;34m>\u001b[0m \u001b[0;36m1\u001b[0m\u001b[0;34m:\u001b[0m\u001b[0;34m\u001b[0m\u001b[0;34m\u001b[0m\u001b[0m\n\u001b[1;32m    204\u001b[0m         raise ValueError(\"Found input variables with inconsistent numbers of\"\n\u001b[0;32m--> 205\u001b[0;31m                          \" samples: %r\" % [int(l) for l in lengths])\n\u001b[0m\u001b[1;32m    206\u001b[0m \u001b[0;34m\u001b[0m\u001b[0m\n\u001b[1;32m    207\u001b[0m \u001b[0;34m\u001b[0m\u001b[0m\n",
            "\u001b[0;31mValueError\u001b[0m: Found input variables with inconsistent numbers of samples: [108, 102]"
          ]
        }
      ]
    },
    {
      "cell_type": "code",
      "metadata": {
        "id": "vzBA6qtxmgwM",
        "colab_type": "code",
        "colab": {
          "base_uri": "https://localhost:8080/",
          "height": 286
        },
        "outputId": "5075f618-2ccc-4322-d37f-7954258f8409"
      },
      "source": [
        "plt.figure(1)\n",
        "plt.plot([0, 1], [0, 1], 'k--')\n",
        "plt.plot(fpr, tpr, label='Keras (area = {:.3f})'.format(auc))"
      ],
      "execution_count": 51,
      "outputs": [
        {
          "output_type": "execute_result",
          "data": {
            "text/plain": [
              "[<matplotlib.lines.Line2D at 0x7f1230bbe048>]"
            ]
          },
          "metadata": {
            "tags": []
          },
          "execution_count": 51
        },
        {
          "output_type": "display_data",
          "data": {
            "image/png": "[encoded data removed]",
            "text/plain": [
              "<Figure size 432x288 with 1 Axes>"
            ]
          },
          "metadata": {
            "tags": []
          }
        }
      ]
    },
    {
      "cell_type": "code",
      "metadata": {
        "id": "JOPqZ4AMnDLT",
        "colab_type": "code",
        "colab": {
          "base_uri": "https://localhost:8080/",
          "height": 370
        },
        "outputId": "353acbd5-b693-4a53-893a-02af1b3bc8f5"
      },
      "source": [
        "precision"
      ],
      "execution_count": 58,
      "outputs": [
        {
          "output_type": "execute_result",
          "data": {
            "text/plain": [
              "array([0.78217822, 0.78      , 0.78787879, 0.79591837, 0.80412371,\n",
              "       0.8125    , 0.81052632, 0.81914894, 0.8172043 , 0.81521739,\n",
              "       0.82417582, 0.83333333, 0.84269663, 0.85227273, 0.85057471,\n",
              "       0.86046512, 0.85882353, 0.86904762, 0.86746988, 0.86585366,\n",
              "       0.86419753, 0.875     , 0.87341772, 0.87179487, 0.87012987,\n",
              "       0.88157895, 0.88      , 0.87837838, 0.89041096, 0.88888889,\n",
              "       0.90140845, 0.9       , 0.89855072, 0.89705882, 0.89552239,\n",
              "       0.89393939, 0.89230769, 0.890625  , 0.9047619 , 0.91935484,\n",
              "       0.91803279, 0.91666667, 0.91525424, 0.9137931 , 0.9122807 ,\n",
              "       0.91071429, 0.90909091, 0.92592593, 0.9245283 , 0.92307692,\n",
              "       0.94117647, 0.94      , 0.93877551, 0.9375    , 0.93617021,\n",
              "       0.93478261, 0.93333333, 0.93181818, 0.93023256, 0.95238095,\n",
              "       0.95121951, 0.95      , 0.94871795, 0.94736842, 0.94594595,\n",
              "       0.94444444, 0.97142857, 0.97058824, 0.96969697, 1.        ,\n",
              "       1.        , 1.        , 1.        , 1.        , 1.        ,\n",
              "       1.        , 1.        , 1.        , 1.        , 1.        ,\n",
              "       1.        , 1.        , 1.        , 1.        , 1.        ,\n",
              "       1.        , 1.        , 1.        , 1.        , 1.        ,\n",
              "       1.        , 1.        , 1.        , 1.        , 1.        ,\n",
              "       1.        , 1.        , 1.        , 1.        , 1.        ,\n",
              "       1.        , 1.        ])"
            ]
          },
          "metadata": {
            "tags": []
          },
          "execution_count": 58
        }
      ]
    },
    {
      "cell_type": "code",
      "metadata": {
        "id": "Qo5DqJEjnHcW",
        "colab_type": "code",
        "colab": {}
      },
      "source": [
        ""
      ],
      "execution_count": 0,
      "outputs": []
    }
  ]
}