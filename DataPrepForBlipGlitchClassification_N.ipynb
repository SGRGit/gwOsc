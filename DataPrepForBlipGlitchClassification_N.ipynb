{
  "nbformat": 4,
  "nbformat_minor": 0,
  "metadata": {
    "colab": {
      "name": "DataPrepForBlipGlitchClassification_N.ipynb",
      "provenance": [],
      "include_colab_link": true
    },
    "kernelspec": {
      "name": "python3",
      "display_name": "Python 3"
    }
  },
  "cells": [
    {
      "cell_type": "markdown",
      "metadata": {
        "id": "view-in-github",
        "colab_type": "text"
      },
      "source": [
        "<a href=\"https://colab.research.google.com/github/SGRGit/gwOsc/blob/FinalCode/DataPrepForBlipGlitchClassification_N.ipynb\" target=\"_parent\"><img src=\"https://colab.research.google.com/assets/colab-badge.svg\" alt=\"Open In Colab\"/></a>"
      ]
    },
    {
      "cell_type": "code",
      "metadata": {
        "id": "xBFc04trYOn4",
        "colab_type": "code",
        "colab": {
          "base_uri": "https://localhost:8080/",
          "height": 34
        },
        "outputId": "04cfb3fd-562e-48f8-e1b0-e7dad39c65af"
      },
      "source": [
        "from google.colab import drive\n",
        "drive.mount('/content/gdrive/')"
      ],
      "execution_count": 36,
      "outputs": [
        {
          "output_type": "stream",
          "text": [
            "Drive already mounted at /content/gdrive/; to attempt to forcibly remount, call drive.mount(\"/content/gdrive/\", force_remount=True).\n"
          ],
          "name": "stdout"
        }
      ]
    },
    {
      "cell_type": "code",
      "metadata": {
        "id": "qgjZZNDRYpzf",
        "colab_type": "code",
        "colab": {}
      },
      "source": [
        "import sys\n",
        "sys.path.append('/content/gdrive/My Drive/Colab Notebooks')"
      ],
      "execution_count": 0,
      "outputs": []
    },
    {
      "cell_type": "code",
      "metadata": {
        "id": "l8i-o9NUYuld",
        "colab_type": "code",
        "colab": {}
      },
      "source": [
        "import gwpy\n",
        "import numpy as np\n",
        "import matplotlib.pyplot as plt\n",
        "import math"
      ],
      "execution_count": 0,
      "outputs": []
    },
    {
      "cell_type": "markdown",
      "metadata": {
        "id": "TfZAMGXUYyFc",
        "colab_type": "text"
      },
      "source": [
        "****Analysis with LIGO data for Glitch Recognition using Q-Transforms****"
      ]
    },
    {
      "cell_type": "code",
      "metadata": {
        "id": "WgjTNEDJYz1X",
        "colab_type": "code",
        "colab": {}
      },
      "source": [
        "#Import Blip Glitch o1 Data from gspy in Pandas Dataframe\n",
        "import pandas as pd\n",
        "raw_data = pd.read_csv(\"/content/gdrive/My Drive/gspy_blip_o1.csv\")\n",
        "\n",
        "glitch_data = raw_data[['GPStime','ifo', 'peakFreq', 'snr', 'amplitude', 'centralFreq','duration']]"
      ],
      "execution_count": 0,
      "outputs": []
    },
    {
      "cell_type": "code",
      "metadata": {
        "id": "G5YTQaUlZGW4",
        "colab_type": "code",
        "colab": {}
      },
      "source": [
        "import os\n",
        "base_dir = \"gdrive/My Drive/Colab Notebooks/GlitchNoiseClassification/\"\n",
        "seta = 'Glitch'\n",
        "setb = 'Noise'\n",
        "\n",
        "data_dir = os.path.join(base_dir, 'Data')\n",
        "seta_data_dir = os.path.join(data_dir, seta)\n",
        "seta_data_fnnames = os.listdir(seta_data_dir)\n",
        "\n",
        "setb_data_dir = os.path.join(data_dir, setb)\n",
        "setb_data_fnnames = os.listdir(setb_data_dir)"
      ],
      "execution_count": 0,
      "outputs": []
    },
    {
      "cell_type": "code",
      "metadata": {
        "id": "uTPhjM2tTZzx",
        "colab_type": "code",
        "colab": {}
      },
      "source": [
        "glitch_data_cln =  glitch_data.iloc[460 : ]"
      ],
      "execution_count": 0,
      "outputs": []
    },
    {
      "cell_type": "code",
      "metadata": {
        "id": "jZHjfTR4TaVD",
        "colab_type": "code",
        "colab": {}
      },
      "source": [
        "glitch_data_cln.reset_index(inplace = True)"
      ],
      "execution_count": 0,
      "outputs": []
    },
    {
      "cell_type": "code",
      "metadata": {
        "id": "CtNE8ht1TcSA",
        "colab_type": "code",
        "colab": {
          "base_uri": "https://localhost:8080/",
          "height": 419
        },
        "outputId": "4491deb9-004d-464a-c8c6-4c46d0a1997f"
      },
      "source": [
        "glitch_data_cln"
      ],
      "execution_count": 85,
      "outputs": [
        {
          "output_type": "execute_result",
          "data": {
            "text/html": [
              "<div>\n",
              "<style scoped>\n",
              "    .dataframe tbody tr th:only-of-type {\n",
              "        vertical-align: middle;\n",
              "    }\n",
              "\n",
              "    .dataframe tbody tr th {\n",
              "        vertical-align: top;\n",
              "    }\n",
              "\n",
              "    .dataframe thead th {\n",
              "        text-align: right;\n",
              "    }\n",
              "</style>\n",
              "<table border=\"1\" class=\"dataframe\">\n",
              "  <thead>\n",
              "    <tr style=\"text-align: right;\">\n",
              "      <th></th>\n",
              "      <th>index</th>\n",
              "      <th>GPStime</th>\n",
              "      <th>ifo</th>\n",
              "      <th>peakFreq</th>\n",
              "      <th>snr</th>\n",
              "      <th>amplitude</th>\n",
              "      <th>centralFreq</th>\n",
              "      <th>duration</th>\n",
              "    </tr>\n",
              "  </thead>\n",
              "  <tbody>\n",
              "    <tr>\n",
              "      <th>0</th>\n",
              "      <td>460</td>\n",
              "      <td>1.133913e+09</td>\n",
              "      <td>L1</td>\n",
              "      <td>170.654</td>\n",
              "      <td>26.020</td>\n",
              "      <td>2.540000e-22</td>\n",
              "      <td>370.211</td>\n",
              "      <td>0.250</td>\n",
              "    </tr>\n",
              "    <tr>\n",
              "      <th>1</th>\n",
              "      <td>461</td>\n",
              "      <td>1.129047e+09</td>\n",
              "      <td>L1</td>\n",
              "      <td>225.349</td>\n",
              "      <td>8.792</td>\n",
              "      <td>1.060000e-22</td>\n",
              "      <td>313.670</td>\n",
              "      <td>0.016</td>\n",
              "    </tr>\n",
              "    <tr>\n",
              "      <th>2</th>\n",
              "      <td>462</td>\n",
              "      <td>1.132810e+09</td>\n",
              "      <td>L1</td>\n",
              "      <td>137.711</td>\n",
              "      <td>29.714</td>\n",
              "      <td>2.750000e-22</td>\n",
              "      <td>298.747</td>\n",
              "      <td>0.375</td>\n",
              "    </tr>\n",
              "    <tr>\n",
              "      <th>3</th>\n",
              "      <td>463</td>\n",
              "      <td>1.133160e+09</td>\n",
              "      <td>L1</td>\n",
              "      <td>170.654</td>\n",
              "      <td>10.456</td>\n",
              "      <td>1.000000e-22</td>\n",
              "      <td>384.261</td>\n",
              "      <td>0.188</td>\n",
              "    </tr>\n",
              "    <tr>\n",
              "      <th>4</th>\n",
              "      <td>464</td>\n",
              "      <td>1.133455e+09</td>\n",
              "      <td>H1</td>\n",
              "      <td>262.065</td>\n",
              "      <td>12.123</td>\n",
              "      <td>1.920000e-22</td>\n",
              "      <td>303.810</td>\n",
              "      <td>0.039</td>\n",
              "    </tr>\n",
              "    <tr>\n",
              "      <th>...</th>\n",
              "      <td>...</td>\n",
              "      <td>...</td>\n",
              "      <td>...</td>\n",
              "      <td>...</td>\n",
              "      <td>...</td>\n",
              "      <td>...</td>\n",
              "      <td>...</td>\n",
              "      <td>...</td>\n",
              "    </tr>\n",
              "    <tr>\n",
              "      <th>2655</th>\n",
              "      <td>3115</td>\n",
              "      <td>1.127063e+09</td>\n",
              "      <td>H1</td>\n",
              "      <td>180.507</td>\n",
              "      <td>8.031</td>\n",
              "      <td>1.070000e-22</td>\n",
              "      <td>222.291</td>\n",
              "      <td>0.125</td>\n",
              "    </tr>\n",
              "    <tr>\n",
              "      <th>2656</th>\n",
              "      <td>3116</td>\n",
              "      <td>1.128756e+09</td>\n",
              "      <td>H1</td>\n",
              "      <td>312.908</td>\n",
              "      <td>8.195</td>\n",
              "      <td>1.010000e-22</td>\n",
              "      <td>312.274</td>\n",
              "      <td>0.344</td>\n",
              "    </tr>\n",
              "    <tr>\n",
              "      <th>2657</th>\n",
              "      <td>3117</td>\n",
              "      <td>1.128127e+09</td>\n",
              "      <td>H1</td>\n",
              "      <td>53.485</td>\n",
              "      <td>8.049</td>\n",
              "      <td>1.140000e-21</td>\n",
              "      <td>83.413</td>\n",
              "      <td>0.094</td>\n",
              "    </tr>\n",
              "    <tr>\n",
              "      <th>2658</th>\n",
              "      <td>3118</td>\n",
              "      <td>1.134499e+09</td>\n",
              "      <td>L1</td>\n",
              "      <td>211.477</td>\n",
              "      <td>9.123</td>\n",
              "      <td>8.990000e-23</td>\n",
              "      <td>578.150</td>\n",
              "      <td>0.023</td>\n",
              "    </tr>\n",
              "    <tr>\n",
              "      <th>2659</th>\n",
              "      <td>3119</td>\n",
              "      <td>1.128332e+09</td>\n",
              "      <td>H1</td>\n",
              "      <td>53.485</td>\n",
              "      <td>7.515</td>\n",
              "      <td>1.070000e-21</td>\n",
              "      <td>98.790</td>\n",
              "      <td>0.063</td>\n",
              "    </tr>\n",
              "  </tbody>\n",
              "</table>\n",
              "<p>2660 rows × 8 columns</p>\n",
              "</div>"
            ],
            "text/plain": [
              "      index       GPStime ifo  ...     amplitude  centralFreq  duration\n",
              "0       460  1.133913e+09  L1  ...  2.540000e-22      370.211     0.250\n",
              "1       461  1.129047e+09  L1  ...  1.060000e-22      313.670     0.016\n",
              "2       462  1.132810e+09  L1  ...  2.750000e-22      298.747     0.375\n",
              "3       463  1.133160e+09  L1  ...  1.000000e-22      384.261     0.188\n",
              "4       464  1.133455e+09  H1  ...  1.920000e-22      303.810     0.039\n",
              "...     ...           ...  ..  ...           ...          ...       ...\n",
              "2655   3115  1.127063e+09  H1  ...  1.070000e-22      222.291     0.125\n",
              "2656   3116  1.128756e+09  H1  ...  1.010000e-22      312.274     0.344\n",
              "2657   3117  1.128127e+09  H1  ...  1.140000e-21       83.413     0.094\n",
              "2658   3118  1.134499e+09  L1  ...  8.990000e-23      578.150     0.023\n",
              "2659   3119  1.128332e+09  H1  ...  1.070000e-21       98.790     0.063\n",
              "\n",
              "[2660 rows x 8 columns]"
            ]
          },
          "metadata": {
            "tags": []
          },
          "execution_count": 85
        }
      ]
    },
    {
      "cell_type": "code",
      "metadata": {
        "id": "pAjBv9T5SFBS",
        "colab_type": "code",
        "colab": {
          "base_uri": "https://localhost:8080/",
          "height": 34
        },
        "outputId": "adc59eb2-1665-444d-bf6a-8eb0879c6de3"
      },
      "source": [
        "import os\n",
        "files = os.listdir(seta_data_dir)\n",
        "len(files)"
      ],
      "execution_count": 44,
      "outputs": [
        {
          "output_type": "execute_result",
          "data": {
            "text/plain": [
              "771"
            ]
          },
          "metadata": {
            "tags": []
          },
          "execution_count": 44
        }
      ]
    },
    {
      "cell_type": "code",
      "metadata": {
        "id": "8MizoKuLZHI-",
        "colab_type": "code",
        "colab": {
          "base_uri": "https://localhost:8080/",
          "height": 231
        },
        "outputId": "943965d1-ce35-4b2d-eac8-db35c01abf89"
      },
      "source": [
        "import time\n",
        "from gwpy.timeseries import TimeSeries\n",
        "epoch_noise = np.empty(1001)\n",
        "ifo_noise = []\n",
        "images_noise = []\n",
        "\n",
        "for i in range(0, 1001, 1):\n",
        "  epoch_noise[i] = int(glitch_data_cln['GPStime'][i])\n",
        "  ifo_noise.append(glitch_data_cln['ifo'][i])\n",
        "#print(ifo_noise, epoch_noise)\n",
        "\n",
        "for a in range(0, 1001, 1):\n",
        "  print(a)\n",
        "  I = TimeSeries.fetch_open_data(ifo_noise[a], epoch_noise[a]-4, epoch_noise[a]-1).q_transform()\n",
        "  images_noise.append(I)\n",
        "  fig, ax = plt.subplots(1, 1, figsize = (10, 5))\n",
        "  ax.imshow(I)\n",
        "  ax.set_xscale('seconds')\n",
        "  ax.set_yscale('log')\n",
        "  ax.set_ylabel('Frequency [Hz]')\n",
        "  ax.grid(True, axis='y', which='both')\n",
        "  ax.colorbar(cmap='viridis', label='Normalized energy')\n",
        "  ax.set_title('Q-Transform for Noise at %s on GPS %d' %(ifo_noise[a], epoch_noise[a]))\n",
        "  plt.savefig(os.path.join(setb_data_dir,'Q-Transform for Noise at %s on GPS %d' %(ifo_noise[a], epoch_noise[a])))\n",
        "  plt.close()\n",
        "  time.sleep(0.1)"
      ],
      "execution_count": 42,
      "outputs": [
        {
          "output_type": "error",
          "ename": "NameError",
          "evalue": "ignored",
          "traceback": [
            "\u001b[0;31m---------------------------------------------------------------------------\u001b[0m",
            "\u001b[0;31mNameError\u001b[0m                                 Traceback (most recent call last)",
            "\u001b[0;32m<ipython-input-42-09799f9f5ccf>\u001b[0m in \u001b[0;36m<module>\u001b[0;34m()\u001b[0m\n\u001b[1;32m      6\u001b[0m \u001b[0;34m\u001b[0m\u001b[0m\n\u001b[1;32m      7\u001b[0m \u001b[0;32mfor\u001b[0m \u001b[0mi\u001b[0m \u001b[0;32min\u001b[0m \u001b[0mrange\u001b[0m\u001b[0;34m(\u001b[0m\u001b[0;36m0\u001b[0m\u001b[0;34m,\u001b[0m \u001b[0;36m1001\u001b[0m\u001b[0;34m,\u001b[0m \u001b[0;36m1\u001b[0m\u001b[0;34m)\u001b[0m\u001b[0;34m:\u001b[0m\u001b[0;34m\u001b[0m\u001b[0;34m\u001b[0m\u001b[0m\n\u001b[0;32m----> 8\u001b[0;31m   \u001b[0mepoch_noise\u001b[0m\u001b[0;34m[\u001b[0m\u001b[0mi\u001b[0m\u001b[0;34m]\u001b[0m \u001b[0;34m=\u001b[0m \u001b[0mint\u001b[0m\u001b[0;34m(\u001b[0m\u001b[0mglitch_data_cln\u001b[0m\u001b[0;34m[\u001b[0m\u001b[0;34m'GPStime'\u001b[0m\u001b[0;34m]\u001b[0m\u001b[0;34m[\u001b[0m\u001b[0mi\u001b[0m\u001b[0;34m]\u001b[0m\u001b[0;34m)\u001b[0m\u001b[0;34m\u001b[0m\u001b[0;34m\u001b[0m\u001b[0m\n\u001b[0m\u001b[1;32m      9\u001b[0m   \u001b[0mifo_noise\u001b[0m\u001b[0;34m.\u001b[0m\u001b[0mappend\u001b[0m\u001b[0;34m(\u001b[0m\u001b[0mglitch_data_cln\u001b[0m\u001b[0;34m[\u001b[0m\u001b[0;34m'ifo'\u001b[0m\u001b[0;34m]\u001b[0m\u001b[0;34m[\u001b[0m\u001b[0mi\u001b[0m\u001b[0;34m]\u001b[0m\u001b[0;34m)\u001b[0m\u001b[0;34m\u001b[0m\u001b[0;34m\u001b[0m\u001b[0m\n\u001b[1;32m     10\u001b[0m \u001b[0;31m#print(ifo_noise, epoch_noise)\u001b[0m\u001b[0;34m\u001b[0m\u001b[0;34m\u001b[0m\u001b[0;34m\u001b[0m\u001b[0m\n",
            "\u001b[0;31mNameError\u001b[0m: name 'glitch_data_cln' is not defined"
          ]
        }
      ]
    },
    {
      "cell_type": "code",
      "metadata": {
        "id": "rhGwhAjQ6Zw2",
        "colab_type": "code",
        "colab": {}
      },
      "source": [
        ""
      ],
      "execution_count": 0,
      "outputs": []
    }
  ]
}