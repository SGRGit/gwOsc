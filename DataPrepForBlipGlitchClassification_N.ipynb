{
  "nbformat": 4,
  "nbformat_minor": 0,
  "metadata": {
    "colab": {
      "name": "DataPrepForBlipGlitchClassification_N.ipynb",
      "provenance": [],
      "include_colab_link": true
    },
    "kernelspec": {
      "name": "python3",
      "display_name": "Python 3"
    }
  },
  "cells": [
    {
      "cell_type": "markdown",
      "metadata": {
        "id": "view-in-github",
        "colab_type": "text"
      },
      "source": [
        "<a href=\"https://colab.research.google.com/github/SGRGit/gwOsc/blob/FinalCode/DataPrepForBlipGlitchClassification_N.ipynb\" target=\"_parent\"><img src=\"https://colab.research.google.com/assets/colab-badge.svg\" alt=\"Open In Colab\"/></a>"
      ]
    },
    {
      "cell_type": "code",
      "metadata": {
        "id": "xBFc04trYOn4",
        "colab_type": "code",
        "outputId": "d66e511a-862c-4ec5-dff5-ec561ce92be5",
        "colab": {
          "base_uri": "https://localhost:8080/",
          "height": 122
        }
      },
      "source": [
        "from google.colab import drive\n",
        "drive.mount('/content/gdrive/')"
      ],
      "execution_count": 1,
      "outputs": [
        {
          "output_type": "stream",
          "text": [
            "Go to this URL in a browser: https://accounts.google.com/o/oauth2/auth?client_id=947318989803-6bn6qk8qdgf4n4g3pfee6491hc0brc4i.apps.googleusercontent.com&redirect_uri=urn%3Aietf%3Awg%3Aoauth%3A2.0%3Aoob&scope=email%20https%3A%2F%2Fwww.googleapis.com%2Fauth%2Fdocs.test%20https%3A%2F%2Fwww.googleapis.com%2Fauth%2Fdrive%20https%3A%2F%2Fwww.googleapis.com%2Fauth%2Fdrive.photos.readonly%20https%3A%2F%2Fwww.googleapis.com%2Fauth%2Fpeopleapi.readonly&response_type=code\n",
            "\n",
            "Enter your authorization code:\n",
            "··········\n",
            "Mounted at /content/gdrive/\n"
          ],
          "name": "stdout"
        }
      ]
    },
    {
      "cell_type": "code",
      "metadata": {
        "id": "qgjZZNDRYpzf",
        "colab_type": "code",
        "colab": {}
      },
      "source": [
        "import sys\n",
        "sys.path.append('/content/gdrive/My Drive/Colab Notebooks')"
      ],
      "execution_count": 0,
      "outputs": []
    },
    {
      "cell_type": "code",
      "metadata": {
        "id": "l8i-o9NUYuld",
        "colab_type": "code",
        "colab": {}
      },
      "source": [
        "import gwpy\n",
        "import numpy as np\n",
        "import matplotlib.pyplot as plt\n",
        "import math"
      ],
      "execution_count": 0,
      "outputs": []
    },
    {
      "cell_type": "markdown",
      "metadata": {
        "id": "TfZAMGXUYyFc",
        "colab_type": "text"
      },
      "source": [
        "****Analysis with LIGO data for Glitch Recognition using Q-Transforms****"
      ]
    },
    {
      "cell_type": "code",
      "metadata": {
        "id": "WgjTNEDJYz1X",
        "colab_type": "code",
        "colab": {}
      },
      "source": [
        "#Import Blip Glitch o1 Data from gspy in Pandas Dataframe\n",
        "import pandas as pd\n",
        "raw_data = pd.read_csv(\"/content/gdrive/My Drive/gspy_blip_o1.csv\")\n",
        "\n",
        "glitch_data = raw_data[['GPStime','ifo', 'peakFreq', 'snr', 'amplitude', 'centralFreq','duration']]"
      ],
      "execution_count": 0,
      "outputs": []
    },
    {
      "cell_type": "code",
      "metadata": {
        "id": "G5YTQaUlZGW4",
        "colab_type": "code",
        "colab": {}
      },
      "source": [
        "import os\n",
        "base_dir = \"gdrive/My Drive/Colab Notebooks/GlitchNoiseClassification/\"\n",
        "seta = 'Glitch'\n",
        "setb = 'Noise'\n",
        "\n",
        "data_dir = os.path.join(base_dir, 'Data')\n",
        "seta_data_dir = os.path.join(data_dir, seta)\n",
        "seta_data_fnnames = os.listdir(seta_data_dir)\n",
        "\n",
        "setb_data_dir = os.path.join(data_dir, setb)\n",
        "setb_data_fnnames = os.listdir(setb_data_dir)"
      ],
      "execution_count": 0,
      "outputs": []
    },
    {
      "cell_type": "code",
      "metadata": {
        "id": "uTPhjM2tTZzx",
        "colab_type": "code",
        "colab": {}
      },
      "source": [
        "noise_data_cln =  glitch_data.iloc[2750 : ]"
      ],
      "execution_count": 0,
      "outputs": []
    },
    {
      "cell_type": "code",
      "metadata": {
        "id": "jZHjfTR4TaVD",
        "colab_type": "code",
        "colab": {}
      },
      "source": [
        "noise_data_cln.reset_index(inplace = True)"
      ],
      "execution_count": 0,
      "outputs": []
    },
    {
      "cell_type": "code",
      "metadata": {
        "id": "CtNE8ht1TcSA",
        "colab_type": "code",
        "outputId": "02844e5c-1012-4ba1-ccd2-24250d120acc",
        "colab": {
          "base_uri": "https://localhost:8080/",
          "height": 419
        }
      },
      "source": [
        "noise_data_cln"
      ],
      "execution_count": 20,
      "outputs": [
        {
          "output_type": "execute_result",
          "data": {
            "text/html": [
              "<div>\n",
              "<style scoped>\n",
              "    .dataframe tbody tr th:only-of-type {\n",
              "        vertical-align: middle;\n",
              "    }\n",
              "\n",
              "    .dataframe tbody tr th {\n",
              "        vertical-align: top;\n",
              "    }\n",
              "\n",
              "    .dataframe thead th {\n",
              "        text-align: right;\n",
              "    }\n",
              "</style>\n",
              "<table border=\"1\" class=\"dataframe\">\n",
              "  <thead>\n",
              "    <tr style=\"text-align: right;\">\n",
              "      <th></th>\n",
              "      <th>index</th>\n",
              "      <th>GPStime</th>\n",
              "      <th>ifo</th>\n",
              "      <th>peakFreq</th>\n",
              "      <th>snr</th>\n",
              "      <th>amplitude</th>\n",
              "      <th>centralFreq</th>\n",
              "      <th>duration</th>\n",
              "    </tr>\n",
              "  </thead>\n",
              "  <tbody>\n",
              "    <tr>\n",
              "      <th>0</th>\n",
              "      <td>2750</td>\n",
              "      <td>1.129458e+09</td>\n",
              "      <td>L1</td>\n",
              "      <td>512.608</td>\n",
              "      <td>58.620</td>\n",
              "      <td>1.990000e-19</td>\n",
              "      <td>1521.968</td>\n",
              "      <td>0.250</td>\n",
              "    </tr>\n",
              "    <tr>\n",
              "      <th>1</th>\n",
              "      <td>2751</td>\n",
              "      <td>1.129511e+09</td>\n",
              "      <td>H1</td>\n",
              "      <td>276.750</td>\n",
              "      <td>26.288</td>\n",
              "      <td>4.600000e-22</td>\n",
              "      <td>1212.732</td>\n",
              "      <td>0.250</td>\n",
              "    </tr>\n",
              "    <tr>\n",
              "      <th>2</th>\n",
              "      <td>2752</td>\n",
              "      <td>1.129564e+09</td>\n",
              "      <td>H1</td>\n",
              "      <td>121.663</td>\n",
              "      <td>22.528</td>\n",
              "      <td>2.310000e-22</td>\n",
              "      <td>204.324</td>\n",
              "      <td>0.281</td>\n",
              "    </tr>\n",
              "    <tr>\n",
              "      <th>3</th>\n",
              "      <td>2753</td>\n",
              "      <td>1.135883e+09</td>\n",
              "      <td>H1</td>\n",
              "      <td>262.065</td>\n",
              "      <td>9.676</td>\n",
              "      <td>1.550000e-22</td>\n",
              "      <td>488.121</td>\n",
              "      <td>0.016</td>\n",
              "    </tr>\n",
              "    <tr>\n",
              "      <th>4</th>\n",
              "      <td>2754</td>\n",
              "      <td>1.132347e+09</td>\n",
              "      <td>H1</td>\n",
              "      <td>170.654</td>\n",
              "      <td>9.030</td>\n",
              "      <td>6.190000e-23</td>\n",
              "      <td>3268.060</td>\n",
              "      <td>0.105</td>\n",
              "    </tr>\n",
              "    <tr>\n",
              "      <th>...</th>\n",
              "      <td>...</td>\n",
              "      <td>...</td>\n",
              "      <td>...</td>\n",
              "      <td>...</td>\n",
              "      <td>...</td>\n",
              "      <td>...</td>\n",
              "      <td>...</td>\n",
              "      <td>...</td>\n",
              "    </tr>\n",
              "    <tr>\n",
              "      <th>365</th>\n",
              "      <td>3115</td>\n",
              "      <td>1.127063e+09</td>\n",
              "      <td>H1</td>\n",
              "      <td>180.507</td>\n",
              "      <td>8.031</td>\n",
              "      <td>1.070000e-22</td>\n",
              "      <td>222.291</td>\n",
              "      <td>0.125</td>\n",
              "    </tr>\n",
              "    <tr>\n",
              "      <th>366</th>\n",
              "      <td>3116</td>\n",
              "      <td>1.128756e+09</td>\n",
              "      <td>H1</td>\n",
              "      <td>312.908</td>\n",
              "      <td>8.195</td>\n",
              "      <td>1.010000e-22</td>\n",
              "      <td>312.274</td>\n",
              "      <td>0.344</td>\n",
              "    </tr>\n",
              "    <tr>\n",
              "      <th>367</th>\n",
              "      <td>3117</td>\n",
              "      <td>1.128127e+09</td>\n",
              "      <td>H1</td>\n",
              "      <td>53.485</td>\n",
              "      <td>8.049</td>\n",
              "      <td>1.140000e-21</td>\n",
              "      <td>83.413</td>\n",
              "      <td>0.094</td>\n",
              "    </tr>\n",
              "    <tr>\n",
              "      <th>368</th>\n",
              "      <td>3118</td>\n",
              "      <td>1.134499e+09</td>\n",
              "      <td>L1</td>\n",
              "      <td>211.477</td>\n",
              "      <td>9.123</td>\n",
              "      <td>8.990000e-23</td>\n",
              "      <td>578.150</td>\n",
              "      <td>0.023</td>\n",
              "    </tr>\n",
              "    <tr>\n",
              "      <th>369</th>\n",
              "      <td>3119</td>\n",
              "      <td>1.128332e+09</td>\n",
              "      <td>H1</td>\n",
              "      <td>53.485</td>\n",
              "      <td>7.515</td>\n",
              "      <td>1.070000e-21</td>\n",
              "      <td>98.790</td>\n",
              "      <td>0.063</td>\n",
              "    </tr>\n",
              "  </tbody>\n",
              "</table>\n",
              "<p>370 rows × 8 columns</p>\n",
              "</div>"
            ],
            "text/plain": [
              "     index       GPStime ifo  ...     amplitude  centralFreq  duration\n",
              "0     2750  1.129458e+09  L1  ...  1.990000e-19     1521.968     0.250\n",
              "1     2751  1.129511e+09  H1  ...  4.600000e-22     1212.732     0.250\n",
              "2     2752  1.129564e+09  H1  ...  2.310000e-22      204.324     0.281\n",
              "3     2753  1.135883e+09  H1  ...  1.550000e-22      488.121     0.016\n",
              "4     2754  1.132347e+09  H1  ...  6.190000e-23     3268.060     0.105\n",
              "..     ...           ...  ..  ...           ...          ...       ...\n",
              "365   3115  1.127063e+09  H1  ...  1.070000e-22      222.291     0.125\n",
              "366   3116  1.128756e+09  H1  ...  1.010000e-22      312.274     0.344\n",
              "367   3117  1.128127e+09  H1  ...  1.140000e-21       83.413     0.094\n",
              "368   3118  1.134499e+09  L1  ...  8.990000e-23      578.150     0.023\n",
              "369   3119  1.128332e+09  H1  ...  1.070000e-21       98.790     0.063\n",
              "\n",
              "[370 rows x 8 columns]"
            ]
          },
          "metadata": {
            "tags": []
          },
          "execution_count": 20
        }
      ]
    },
    {
      "cell_type": "code",
      "metadata": {
        "id": "pAjBv9T5SFBS",
        "colab_type": "code",
        "outputId": "17d6ee92-06be-4c61-edcb-d88f3747ee74",
        "colab": {
          "base_uri": "https://localhost:8080/",
          "height": 34
        }
      },
      "source": [
        "import os\n",
        "files = os.listdir(seta_data_dir)\n",
        "len(files)"
      ],
      "execution_count": 71,
      "outputs": [
        {
          "output_type": "execute_result",
          "data": {
            "text/plain": [
              "2501"
            ]
          },
          "metadata": {
            "tags": []
          },
          "execution_count": 71
        }
      ]
    },
    {
      "cell_type": "code",
      "metadata": {
        "id": "8MizoKuLZHI-",
        "colab_type": "code",
        "outputId": "ce1d67fb-9cf4-45b5-806d-03e23cf77945",
        "colab": {
          "base_uri": "https://localhost:8080/",
          "height": 782
        }
      },
      "source": [
        "import time\n",
        "from gwpy.timeseries import TimeSeries\n",
        "epoch_noise = np.empty(370)\n",
        "ifo_noise = []\n",
        "images_noise = []\n",
        "\n",
        "for i in range(0, 370, 1):\n",
        "  epoch_noise[i] = int(noise_data_cln['GPStime'][i])\n",
        "  ifo_noise.append(noise_data_cln['ifo'][i])\n",
        "#print(ifo_noise, epoch_noise)\n",
        "\n",
        "for a in range(0, 370, 1):\n",
        "  print(a)\n",
        "  I = TimeSeries.fetch_open_data(ifo_noise[a], epoch_noise[a]-4, epoch_noise[a]-1).q_transform()\n",
        "  images_noise.append(I)\n",
        "  fig, ax = plt.subplots(1, 1, figsize = (10, 5))\n",
        "  ax.imshow(I)\n",
        "  ax.set_xscale('seconds')\n",
        "  ax.set_yscale('log')\n",
        "  ax.set_ylabel('Frequency [Hz]')\n",
        "  ax.grid(True, axis='y', which='both')\n",
        "  ax.colorbar(cmap='viridis', label='Normalized energy')\n",
        "  ax.set_title('Q-Transform for Noise at %s on GPS %d' %(ifo_noise[a], epoch_noise[a]))\n",
        "  plt.savefig(os.path.join(setb_data_dir,'Q-Transform for Noise at %s on GPS %d' %(ifo_noise[a], epoch_noise[a])))\n",
        "  plt.close()\n",
        "  time.sleep(0.1)"
      ],
      "execution_count": 21,
      "outputs": [
        {
          "output_type": "stream",
          "text": [
            "0\n",
            "1\n",
            "2\n",
            "3\n",
            "4\n",
            "5\n",
            "6\n",
            "7\n",
            "8\n",
            "9\n",
            "10\n",
            "11\n",
            "12\n",
            "13\n",
            "14\n",
            "15\n",
            "16\n",
            "17\n",
            "18\n",
            "19\n",
            "20\n",
            "21\n",
            "22\n",
            "23\n"
          ],
          "name": "stdout"
        },
        {
          "output_type": "error",
          "ename": "UnboundLocalError",
          "evalue": "ignored",
          "traceback": [
            "\u001b[0;31m---------------------------------------------------------------------------\u001b[0m",
            "\u001b[0;31mUnboundLocalError\u001b[0m                         Traceback (most recent call last)",
            "\u001b[0;32m<ipython-input-21-7f8e455fc6fb>\u001b[0m in \u001b[0;36m<module>\u001b[0;34m()\u001b[0m\n\u001b[1;32m     12\u001b[0m \u001b[0;32mfor\u001b[0m \u001b[0ma\u001b[0m \u001b[0;32min\u001b[0m \u001b[0mrange\u001b[0m\u001b[0;34m(\u001b[0m\u001b[0;36m0\u001b[0m\u001b[0;34m,\u001b[0m \u001b[0;36m370\u001b[0m\u001b[0;34m,\u001b[0m \u001b[0;36m1\u001b[0m\u001b[0;34m)\u001b[0m\u001b[0;34m:\u001b[0m\u001b[0;34m\u001b[0m\u001b[0;34m\u001b[0m\u001b[0m\n\u001b[1;32m     13\u001b[0m   \u001b[0mprint\u001b[0m\u001b[0;34m(\u001b[0m\u001b[0ma\u001b[0m\u001b[0;34m)\u001b[0m\u001b[0;34m\u001b[0m\u001b[0;34m\u001b[0m\u001b[0m\n\u001b[0;32m---> 14\u001b[0;31m   \u001b[0mI\u001b[0m \u001b[0;34m=\u001b[0m \u001b[0mTimeSeries\u001b[0m\u001b[0;34m.\u001b[0m\u001b[0mfetch_open_data\u001b[0m\u001b[0;34m(\u001b[0m\u001b[0mifo_noise\u001b[0m\u001b[0;34m[\u001b[0m\u001b[0ma\u001b[0m\u001b[0;34m]\u001b[0m\u001b[0;34m,\u001b[0m \u001b[0mepoch_noise\u001b[0m\u001b[0;34m[\u001b[0m\u001b[0ma\u001b[0m\u001b[0;34m]\u001b[0m\u001b[0;34m-\u001b[0m\u001b[0;36m4\u001b[0m\u001b[0;34m,\u001b[0m \u001b[0mepoch_noise\u001b[0m\u001b[0;34m[\u001b[0m\u001b[0ma\u001b[0m\u001b[0;34m]\u001b[0m\u001b[0;34m-\u001b[0m\u001b[0;36m1\u001b[0m\u001b[0;34m)\u001b[0m\u001b[0;34m.\u001b[0m\u001b[0mq_transform\u001b[0m\u001b[0;34m(\u001b[0m\u001b[0;34m)\u001b[0m\u001b[0;34m\u001b[0m\u001b[0;34m\u001b[0m\u001b[0m\n\u001b[0m\u001b[1;32m     15\u001b[0m   \u001b[0mimages_noise\u001b[0m\u001b[0;34m.\u001b[0m\u001b[0mappend\u001b[0m\u001b[0;34m(\u001b[0m\u001b[0mI\u001b[0m\u001b[0;34m)\u001b[0m\u001b[0;34m\u001b[0m\u001b[0;34m\u001b[0m\u001b[0m\n\u001b[1;32m     16\u001b[0m   \u001b[0mfig\u001b[0m\u001b[0;34m,\u001b[0m \u001b[0max\u001b[0m \u001b[0;34m=\u001b[0m \u001b[0mplt\u001b[0m\u001b[0;34m.\u001b[0m\u001b[0msubplots\u001b[0m\u001b[0;34m(\u001b[0m\u001b[0;36m1\u001b[0m\u001b[0;34m,\u001b[0m \u001b[0;36m1\u001b[0m\u001b[0;34m,\u001b[0m \u001b[0mfigsize\u001b[0m \u001b[0;34m=\u001b[0m \u001b[0;34m(\u001b[0m\u001b[0;36m10\u001b[0m\u001b[0;34m,\u001b[0m \u001b[0;36m5\u001b[0m\u001b[0;34m)\u001b[0m\u001b[0;34m)\u001b[0m\u001b[0;34m\u001b[0m\u001b[0;34m\u001b[0m\u001b[0m\n",
            "\u001b[0;32m/content/gdrive/My Drive/Colab Notebooks/gwpy/timeseries/timeseries.py\u001b[0m in \u001b[0;36mq_transform\u001b[0;34m(self, qrange, frange, gps, search, tres, fres, logf, norm, mismatch, outseg, whiten, fduration, highpass, **asd_kw)\u001b[0m\n\u001b[1;32m   2106\u001b[0m         qgram, _ = qtransform.q_scan(\n\u001b[1;32m   2107\u001b[0m             \u001b[0mdata\u001b[0m\u001b[0;34m,\u001b[0m \u001b[0mfrange\u001b[0m\u001b[0;34m=\u001b[0m\u001b[0mfrange\u001b[0m\u001b[0;34m,\u001b[0m \u001b[0mqrange\u001b[0m\u001b[0;34m=\u001b[0m\u001b[0mqrange\u001b[0m\u001b[0;34m,\u001b[0m \u001b[0mnorm\u001b[0m\u001b[0;34m=\u001b[0m\u001b[0mnorm\u001b[0m\u001b[0;34m,\u001b[0m\u001b[0;34m\u001b[0m\u001b[0;34m\u001b[0m\u001b[0m\n\u001b[0;32m-> 2108\u001b[0;31m             mismatch=mismatch, search=search)\n\u001b[0m\u001b[1;32m   2109\u001b[0m         return qgram.interpolate(\n\u001b[1;32m   2110\u001b[0m             tres=tres, fres=fres, logf=logf, outseg=outseg)\n",
            "\u001b[0;32m/content/gdrive/My Drive/Colab Notebooks/gwpy/signal/qtransform.py\u001b[0m in \u001b[0;36mq_scan\u001b[0;34m(data, mismatch, qrange, frange, duration, sampling, **kwargs)\u001b[0m\n\u001b[1;32m    684\u001b[0m     \u001b[0;31m# return a raw Q-transform and its significance\u001b[0m\u001b[0;34m\u001b[0m\u001b[0;34m\u001b[0m\u001b[0;34m\u001b[0m\u001b[0m\n\u001b[1;32m    685\u001b[0m     qgram, N = QTiling(duration, sampling, mismatch=mismatch, qrange=qrange,\n\u001b[0;32m--> 686\u001b[0;31m                        frange=frange).transform(data, **kwargs)\n\u001b[0m\u001b[1;32m    687\u001b[0m     \u001b[0mfar\u001b[0m \u001b[0;34m=\u001b[0m \u001b[0;36m1.5\u001b[0m \u001b[0;34m*\u001b[0m \u001b[0mN\u001b[0m \u001b[0;34m*\u001b[0m \u001b[0mnumpy\u001b[0m\u001b[0;34m.\u001b[0m\u001b[0mexp\u001b[0m\u001b[0;34m(\u001b[0m\u001b[0;34m-\u001b[0m\u001b[0mqgram\u001b[0m\u001b[0;34m.\u001b[0m\u001b[0mpeak\u001b[0m\u001b[0;34m[\u001b[0m\u001b[0;34m'energy'\u001b[0m\u001b[0;34m]\u001b[0m\u001b[0;34m)\u001b[0m \u001b[0;34m/\u001b[0m \u001b[0mduration\u001b[0m\u001b[0;34m\u001b[0m\u001b[0;34m\u001b[0m\u001b[0m\n\u001b[1;32m    688\u001b[0m     \u001b[0;32mreturn\u001b[0m \u001b[0;34m(\u001b[0m\u001b[0mqgram\u001b[0m\u001b[0;34m,\u001b[0m \u001b[0mfar\u001b[0m\u001b[0;34m)\u001b[0m\u001b[0;34m\u001b[0m\u001b[0;34m\u001b[0m\u001b[0m\n",
            "\u001b[0;32m/content/gdrive/My Drive/Colab Notebooks/gwpy/signal/qtransform.py\u001b[0m in \u001b[0;36mtransform\u001b[0;34m(self, fseries, **kwargs)\u001b[0m\n\u001b[1;32m    200\u001b[0m                 \u001b[0mout\u001b[0m \u001b[0;34m=\u001b[0m \u001b[0mresult\u001b[0m\u001b[0;34m\u001b[0m\u001b[0;34m\u001b[0m\u001b[0m\n\u001b[1;32m    201\u001b[0m                 \u001b[0mpeak\u001b[0m \u001b[0;34m=\u001b[0m \u001b[0mout\u001b[0m\u001b[0;34m.\u001b[0m\u001b[0mpeak\u001b[0m\u001b[0;34m[\u001b[0m\u001b[0;34m'energy'\u001b[0m\u001b[0;34m]\u001b[0m\u001b[0;34m\u001b[0m\u001b[0;34m\u001b[0m\u001b[0m\n\u001b[0;32m--> 202\u001b[0;31m         \u001b[0;32mreturn\u001b[0m \u001b[0;34m(\u001b[0m\u001b[0mout\u001b[0m\u001b[0;34m,\u001b[0m \u001b[0mnind\u001b[0m \u001b[0;34m*\u001b[0m \u001b[0mweight\u001b[0m \u001b[0;34m/\u001b[0m \u001b[0mnplanes\u001b[0m\u001b[0;34m)\u001b[0m\u001b[0;34m\u001b[0m\u001b[0;34m\u001b[0m\u001b[0m\n\u001b[0m\u001b[1;32m    203\u001b[0m \u001b[0;34m\u001b[0m\u001b[0m\n\u001b[1;32m    204\u001b[0m \u001b[0;34m\u001b[0m\u001b[0m\n",
            "\u001b[0;31mUnboundLocalError\u001b[0m: local variable 'out' referenced before assignment"
          ]
        }
      ]
    },
    {
      "cell_type": "code",
      "metadata": {
        "id": "rhGwhAjQ6Zw2",
        "colab_type": "code",
        "colab": {}
      },
      "source": [
        ""
      ],
      "execution_count": 0,
      "outputs": []
    }
  ]
}