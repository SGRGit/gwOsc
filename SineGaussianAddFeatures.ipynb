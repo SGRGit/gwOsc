{
  "nbformat": 4,
  "nbformat_minor": 0,
  "metadata": {
    "colab": {
      "name": "SineGaussianAddFeatures.ipynb",
      "provenance": [],
      "include_colab_link": true
    },
    "kernelspec": {
      "name": "python3",
      "display_name": "Python 3"
    }
  },
  "cells": [
    {
      "cell_type": "markdown",
      "metadata": {
        "id": "view-in-github",
        "colab_type": "text"
      },
      "source": [
        "<a href=\"https://colab.research.google.com/github/SGRGit/gwOsc/blob/Main/SineGaussianAddFeatures.ipynb\" target=\"_parent\"><img src=\"https://colab.research.google.com/assets/colab-badge.svg\" alt=\"Open In Colab\"/></a>"
      ]
    },
    {
      "cell_type": "code",
      "metadata": {
        "id": "A8zQq6LuJiQ1",
        "colab_type": "code",
        "colab": {
          "base_uri": "https://localhost:8080/",
          "height": 122
        },
        "outputId": "2650d412-935f-4bd0-cad0-a881b72bca82"
      },
      "source": [
        "from google.colab import drive\n",
        "drive.mount('/content/drive')"
      ],
      "execution_count": 1,
      "outputs": [
        {
          "output_type": "stream",
          "text": [
            "Go to this URL in a browser: https://accounts.google.com/o/oauth2/auth?client_id=947318989803-6bn6qk8qdgf4n4g3pfee6491hc0brc4i.apps.googleusercontent.com&redirect_uri=urn%3Aietf%3Awg%3Aoauth%3A2.0%3Aoob&scope=email%20https%3A%2F%2Fwww.googleapis.com%2Fauth%2Fdocs.test%20https%3A%2F%2Fwww.googleapis.com%2Fauth%2Fdrive%20https%3A%2F%2Fwww.googleapis.com%2Fauth%2Fdrive.photos.readonly%20https%3A%2F%2Fwww.googleapis.com%2Fauth%2Fpeopleapi.readonly&response_type=code\n",
            "\n",
            "Enter your authorization code:\n",
            "··········\n",
            "Mounted at /content/drive\n"
          ],
          "name": "stdout"
        }
      ]
    },
    {
      "cell_type": "code",
      "metadata": {
        "id": "dZMdjqe3J25k",
        "colab_type": "code",
        "colab": {}
      },
      "source": [
        "import os\n",
        "base_dir = \"drive/My Drive/Colab Notebooks/SignalProc/Iteration 3\"\n",
        "seta = 'Signal'\n",
        "setb = 'Noise'\n",
        "\n",
        "data_dir = os.path.join(base_dir, 'data')\n",
        "seta_data_dir = os.path.join(data_dir, seta)\n",
        "seta_data_fnnames = os.listdir(seta_data_dir)\n",
        "\n",
        "setb_data_dir = os.path.join(data_dir, setb)\n",
        "setb_data_fnnames = os.listdir(setb_data_dir)"
      ],
      "execution_count": 0,
      "outputs": []
    },
    {
      "cell_type": "code",
      "metadata": {
        "id": "LzY7CwjJKibS",
        "colab_type": "code",
        "colab": {}
      },
      "source": [
        "import os\n",
        "import matplotlib.pyplot as plt\n",
        "from tensorflow.keras.preprocessing.image import ImageDataGenerator\n",
        "%matplotlib inline\n",
        "import matplotlib.image as mpimg\n",
        "from tensorflow.keras.preprocessing.image import array_to_img, img_to_array, load_img"
      ],
      "execution_count": 0,
      "outputs": []
    },
    {
      "cell_type": "code",
      "metadata": {
        "id": "hC9utzFmJ_6P",
        "colab_type": "code",
        "colab": {
          "base_uri": "https://localhost:8080/",
          "height": 238
        },
        "outputId": "9a9519a6-8ce6-4007-8079-e7cff19729ef"
      },
      "source": [
        "from scipy.fftpack import fft\n",
        "import matplotlib.pyplot as plt\n",
        "import numpy as np\n",
        "from scipy import signal\n",
        "fs = 100\n",
        "\n",
        "alpha = np.linspace(1, 5, num = 300)\n",
        "neu = np.linspace(5, 20, num = 300)\n",
        "\n",
        "t = np.linspace(-3, 3, 2 * 100, endpoint=False)\n",
        "signal_amp = np.array(100*t)\n",
        "amp = np.zeros(shape = (0, 1))\n",
        "freq = np.zeros(shape = (0 , 1))\n",
        "\n",
        "#import cv2\n",
        "#q1 = np.empty((1, 150, 150, 3))\n",
        "#q2 = np.empty((1, 150, 150, 3))\n",
        "for a in range(0, 4):\n",
        "  #img_path_a = os.path.join(seta_data_dir, seta_data_fnnames[a])\n",
        "  #img_a = cv2.imread(os.path.join(seta_data_dir, seta_data_fnnames[a]))\n",
        "  #img_a = cv2.resize(img_a, (150, 150))\n",
        "  #q1 = np.vstack((q1, img_to_array(img_a).reshape(1, 150, 150, 3)))\n",
        "  #t1 = np.ones([len(seta_data_fnnames),1]) \n",
        "  #i, q, e = signal_amp*signal.gausspulse(t, fc=1*alpha[a], retquad=True, retenv=True)\n",
        "  #n = (1/neu[a])*np.array(60)*np.random.randn(len(t)) \n",
        "  #xn = i + n # Noise+Signal \n",
        "  #amp.reshape(1, 3, 200)\n",
        "  amp = np.vstack((amp, (1/neu[a])*np.array(60)))\n",
        "  #freq.reshape(1, 1, 1)\n",
        "  #freq = np.append(freq, alpha[a])\n",
        "  freq = np.vstack((freq, alpha[a]))\n",
        "print(amp)\n",
        "print(freq)\n",
        "\n",
        "features = np.concatenate((amp, freq), axis= 1)\n",
        "print(features)\n",
        "#for b in range(0, len(setb_data_fnnames)-1, 1):\n",
        "#  img_path_b = os.path.join(setb_data_dir, setb_data_fnnames[b])\n",
        "#  img_b = cv2.imread(os.path.join(setb_data_dir, setb_data_fnnames[b]))\n",
        "#  img_b = cv2.resize(img_b, (150, 150))\n",
        "#  q2 = np.vstack((q2, img_to_array(img_b).reshape(1, 150, 150, 3)))\n",
        "#  t2 = np.zeros([len(setb_data_fnnames),1])"
      ],
      "execution_count": 71,
      "outputs": [
        {
          "output_type": "stream",
          "text": [
            "[[12.        ]\n",
            " [11.8807947 ]\n",
            " [11.76393443]\n",
            " [11.64935065]]\n",
            "[[1.        ]\n",
            " [1.01337793]\n",
            " [1.02675585]\n",
            " [1.04013378]]\n",
            "[[12.          1.        ]\n",
            " [11.8807947   1.01337793]\n",
            " [11.76393443  1.02675585]\n",
            " [11.64935065  1.04013378]]\n"
          ],
          "name": "stdout"
        },
        {
          "output_type": "execute_result",
          "data": {
            "text/plain": [
              "array([1.        , 1.01337793, 1.02675585, 1.04013378])"
            ]
          },
          "metadata": {
            "tags": []
          },
          "execution_count": 71
        }
      ]
    },
    {
      "cell_type": "code",
      "metadata": {
        "id": "69WzmllVV3js",
        "colab_type": "code",
        "colab": {
          "base_uri": "https://localhost:8080/",
          "height": 85
        },
        "outputId": "0d0c85b7-65dd-44fa-b683-c6be97161716"
      },
      "source": [
        "np.zeros(shape = (4, 1))"
      ],
      "execution_count": 32,
      "outputs": [
        {
          "output_type": "execute_result",
          "data": {
            "text/plain": [
              "array([[0.],\n",
              "       [0.],\n",
              "       [0.],\n",
              "       [0.]])"
            ]
          },
          "metadata": {
            "tags": []
          },
          "execution_count": 32
        }
      ]
    },
    {
      "cell_type": "code",
      "metadata": {
        "id": "ZuvFnU6hWA_Q",
        "colab_type": "code",
        "colab": {
          "base_uri": "https://localhost:8080/",
          "height": 102
        },
        "outputId": "ae246c5f-d513-459f-906b-8deacbf56abd"
      },
      "source": [
        "freq"
      ],
      "execution_count": 9,
      "outputs": [
        {
          "output_type": "execute_result",
          "data": {
            "text/plain": [
              "array([[0.        ],\n",
              "       [0.        ],\n",
              "       [0.        ],\n",
              "       [0.        ],\n",
              "       [1.04013378]])"
            ]
          },
          "metadata": {
            "tags": []
          },
          "execution_count": 9
        }
      ]
    },
    {
      "cell_type": "code",
      "metadata": {
        "id": "M3YpalQxjXjx",
        "colab_type": "code",
        "colab": {}
      },
      "source": [
        ""
      ],
      "execution_count": 0,
      "outputs": []
    }
  ]
}