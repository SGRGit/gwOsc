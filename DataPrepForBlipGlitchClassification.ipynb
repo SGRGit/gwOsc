{
  "nbformat": 4,
  "nbformat_minor": 0,
  "metadata": {
    "colab": {
      "name": "DataPrepForBlipGlitchClassification.ipynb",
      "provenance": [],
      "include_colab_link": true
    },
    "kernelspec": {
      "name": "python3",
      "display_name": "Python 3"
    }
  },
  "cells": [
    {
      "cell_type": "markdown",
      "metadata": {
        "id": "view-in-github",
        "colab_type": "text"
      },
      "source": [
        "<a href=\"https://colab.research.google.com/github/SGRGit/gwOsc/blob/FinalCode/DataPrepForBlipGlitchClassification.ipynb\" target=\"_parent\"><img src=\"https://colab.research.google.com/assets/colab-badge.svg\" alt=\"Open In Colab\"/></a>"
      ]
    },
    {
      "cell_type": "code",
      "metadata": {
        "id": "xBFc04trYOn4",
        "colab_type": "code",
        "colab": {}
      },
      "source": [
        "from google.colab import drive\n",
        "drive.mount('/content/gdrive/')"
      ],
      "execution_count": 0,
      "outputs": []
    },
    {
      "cell_type": "code",
      "metadata": {
        "id": "qgjZZNDRYpzf",
        "colab_type": "code",
        "colab": {}
      },
      "source": [
        "import sys\n",
        "sys.path.append('/content/gdrive/My Drive/Colab Notebooks')"
      ],
      "execution_count": 0,
      "outputs": []
    },
    {
      "cell_type": "code",
      "metadata": {
        "id": "l8i-o9NUYuld",
        "colab_type": "code",
        "colab": {}
      },
      "source": [
        "import gwpy\n",
        "import numpy as np\n",
        "import matplotlib.pyplot as plt\n",
        "import math"
      ],
      "execution_count": 0,
      "outputs": []
    },
    {
      "cell_type": "markdown",
      "metadata": {
        "id": "TfZAMGXUYyFc",
        "colab_type": "text"
      },
      "source": [
        "****Analysis with LIGO data for Glitch Recognition using Q-Transforms****"
      ]
    },
    {
      "cell_type": "code",
      "metadata": {
        "id": "WgjTNEDJYz1X",
        "colab_type": "code",
        "colab": {}
      },
      "source": [
        "#Import Blip Glitch o1 Data from gspy in Pandas Dataframe\n",
        "import pandas as pd\n",
        "raw_data = pd.read_csv(\"/content/gdrive/My Drive/gspy_blip_o1.csv\")\n",
        "\n",
        "glitch_data = raw_data[['GPStime','ifo', 'peakFreq', 'snr', 'amplitude', 'centralFreq','duration']]"
      ],
      "execution_count": 0,
      "outputs": []
    },
    {
      "cell_type": "code",
      "metadata": {
        "id": "G5YTQaUlZGW4",
        "colab_type": "code",
        "colab": {}
      },
      "source": [
        "import os\n",
        "base_dir = \"gdrive/My Drive/Colab Notebooks/GlitchNoiseClassification/\"\n",
        "seta = 'Glitch'\n",
        "setb = 'Noise'\n",
        "\n",
        "data_dir = os.path.join(base_dir, 'Data')\n",
        "seta_data_dir = os.path.join(data_dir, seta)\n",
        "seta_data_fnnames = os.listdir(seta_data_dir)\n",
        "\n",
        "setb_data_dir = os.path.join(data_dir, setb)\n",
        "setb_data_fnnames = os.listdir(setb_data_dir)"
      ],
      "execution_count": 0,
      "outputs": []
    },
    {
      "cell_type": "code",
      "metadata": {
        "id": "8MizoKuLZHI-",
        "colab_type": "code",
        "colab": {}
      },
      "source": [
        "import time\n",
        "from gwpy.timeseries import TimeSeries\n",
        "epoch_noise = np.empty(3)\n",
        "ifo_noise = []\n",
        "images_noise = []\n",
        "\n",
        "for i in range(0, 3, 1):\n",
        "  epoch_noise[i] = int(glitch_data['GPStime'][i])\n",
        "  ifo_noise.append(glitch_data['ifo'][i])\n",
        "print(ifo_noise, epoch_noise)\n",
        "\n",
        "for a in range(0, 3, 1):\n",
        "  I = TimeSeries.fetch_open_data(ifo_noise[a], epoch_noise[a]-5, epoch_noise[a]-1).q_transform()\n",
        "  images_noise.append(I)\n",
        "  fig, ax = plt.subplots(1, 1, figsize = (10, 5))\n",
        "  ax.imshow(I)\n",
        "  ax.set_xscale('seconds')\n",
        "  ax.set_yscale('log')\n",
        "  ax.set_ylabel('Frequency [Hz]')\n",
        "  ax.grid(True, axis='y', which='both')\n",
        "  ax.colorbar(cmap='viridis', label='Normalized energy')\n",
        "  ax.set_title('Q-Transform for Noise at %s on GPS %d' %(ifo_noise[a], epoch_noise[a]))\n",
        "  plt.savefig(os.path.join(setb_data_dir,'Q-Transform for Noise at %s on GPS %d' %(ifo_noise[a], epoch_noise[a])))\n",
        "  time.sleep(0.01)"
      ],
      "execution_count": 0,
      "outputs": []
    },
    {
      "cell_type": "code",
      "metadata": {
        "id": "qErbuFjTZMUq",
        "colab_type": "code",
        "colab": {}
      },
      "source": [
        "import time\n",
        "from gwpy.timeseries import TimeSeries\n",
        "epoch_glitch= np.empty(3)\n",
        "ifo_glitch = []\n",
        "interval = np.empty(3)\n",
        "images_glitch = []\n",
        "\n",
        "for i in range(0, 3, 1):\n",
        "  epoch_glitch[i] = int(glitch_data['GPStime'][i])\n",
        "  ifo_glitch.append(glitch_data['ifo'][i])\n",
        "  interval[i] = round((glitch_data['GPStime'][i] %1), 3)\n",
        "print(ifo_glitch, epoch_glitch, interval)\n",
        "\n",
        "for a in range(0, 3, 1):\n",
        "  I = TimeSeries.fetch_open_data(ifo_glitch[a], epoch_glitch[a]-2, epoch_glitch[a]+2).q_transform(outseg = (epoch_glitch[a]+interval[a]-0.1 , epoch_glitch[a] +interval[a]+ 0.1))\n",
        "  images_glitch.append(I)\n",
        "  fig, ax = plt.subplots(1, 1, figsize = (10, 5))\n",
        "  ax = plt.gca()\n",
        "  ax.imshow(I)\n",
        "  #ax.set_epoch(epoch_glitch[a])\n",
        "  ax.set_xscale('seconds')\n",
        "  ax.set_yscale('log')\n",
        "  ax.set_ylabel('Frequency [Hz]')\n",
        "  ax.grid(True, axis='y', which='both')\n",
        "  ax.colorbar(cmap='viridis', label='Normalized energy', clim=[0, 40])\n",
        "  ax.set_title('Q-Transform for Glitch at %s on GPS %d' %(ifo_glitch[a], epoch_glitch[a]))\n",
        "  plt.savefig(os.path.join(seta_data_dir,'Q-Transform for Glitch at %s on GPS %d' %(ifo_noise[a], epoch_noise[a])))\n",
        "  time.sleep(0.01)"
      ],
      "execution_count": 0,
      "outputs": []
    }
  ]
}