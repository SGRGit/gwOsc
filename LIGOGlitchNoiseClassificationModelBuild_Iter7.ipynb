{
  "nbformat": 4,
  "nbformat_minor": 0,
  "metadata": {
    "colab": {
      "name": "LIGOGlitchNoiseClassificationModelBuild.ipynb",
      "provenance": [],
      "include_colab_link": true
    },
    "kernelspec": {
      "name": "python3",
      "display_name": "Python 3"
    }
  },
  "cells": [
    {
      "cell_type": "markdown",
      "metadata": {
        "id": "view-in-github",
        "colab_type": "text"
      },
      "source": [
        "<a href=\"https://colab.research.google.com/github/SGRGit/gwOsc/blob/FinalCode/LIGOGlitchNoiseClassificationModelBuild_Iter7.ipynb\" target=\"_parent\"><img src=\"https://colab.research.google.com/assets/colab-badge.svg\" alt=\"Open In Colab\"/></a>"
      ]
    },
    {
      "cell_type": "code",
      "metadata": {
        "id": "SWAw1Nq_7K9d",
        "colab_type": "code",
        "colab": {}
      },
      "source": [
        "import os\n",
        "import matplotlib.pyplot as plt\n",
        "from tensorflow.keras.preprocessing.image import ImageDataGenerator\n",
        "%matplotlib inline\n",
        "import matplotlib.image as mpimg\n",
        "from tensorflow.keras.preprocessing.image import array_to_img, img_to_array, load_img"
      ],
      "execution_count": 0,
      "outputs": []
    },
    {
      "cell_type": "code",
      "metadata": {
        "id": "bqVQ4YNM7l5K",
        "colab_type": "code",
        "outputId": "c6cc8fb2-401a-4782-e2a4-b77fa135c3bd",
        "colab": {
          "base_uri": "https://localhost:8080/",
          "height": 34
        }
      },
      "source": [
        "from google.colab import drive\n",
        "drive.mount('/content/gdrive/')"
      ],
      "execution_count": 3,
      "outputs": [
        {
          "output_type": "stream",
          "text": [
            "Drive already mounted at /content/gdrive/; to attempt to forcibly remount, call drive.mount(\"/content/gdrive/\", force_remount=True).\n"
          ],
          "name": "stdout"
        }
      ]
    },
    {
      "cell_type": "code",
      "metadata": {
        "id": "vqEmQCer8K1q",
        "colab_type": "code",
        "colab": {}
      },
      "source": [
        "import sys\n",
        "sys.path.append('/content/gdrive/My Drive/Colab Notebooks')"
      ],
      "execution_count": 0,
      "outputs": []
    },
    {
      "cell_type": "code",
      "metadata": {
        "id": "naah3nFg8Vj4",
        "colab_type": "code",
        "colab": {}
      },
      "source": [
        "import os\n",
        "base_dir = \"gdrive/My Drive/Colab Notebooks/GlitchNoiseClassification/\"\n",
        "seta = 'Glitch'\n",
        "setb = 'Noise'\n",
        "\n",
        "data_dir = os.path.join(base_dir, 'Data')\n",
        "seta_data_dir = os.path.join(data_dir, seta)\n",
        "seta_data_fnnames = os.listdir(seta_data_dir)\n",
        "\n",
        "setb_data_dir = os.path.join(data_dir, setb)\n",
        "setb_data_fnnames = os.listdir(setb_data_dir)"
      ],
      "execution_count": 0,
      "outputs": []
    },
    {
      "cell_type": "code",
      "metadata": {
        "id": "obJqKPfM8buY",
        "colab_type": "code",
        "colab": {}
      },
      "source": [
        "from sklearn import svm, datasets\n",
        "from sklearn.model_selection import cross_val_score\n",
        "from keras import regularizers\n",
        "import numpy as np"
      ],
      "execution_count": 0,
      "outputs": []
    },
    {
      "cell_type": "code",
      "metadata": {
        "id": "jMK1rJZAzRS6",
        "colab_type": "code",
        "colab": {}
      },
      "source": [
        "setb_data_fnnames = np.delete(setb_data_fnnames, (762), axis=0)"
      ],
      "execution_count": 0,
      "outputs": []
    },
    {
      "cell_type": "code",
      "metadata": {
        "id": "TlCNcLG49O-2",
        "colab_type": "code",
        "colab": {}
      },
      "source": [
        "setb_data_fnnames = np.delete(setb_data_fnnames, (67), axis=0)"
      ],
      "execution_count": 0,
      "outputs": []
    },
    {
      "cell_type": "code",
      "metadata": {
        "id": "J4_sefz69w_y",
        "colab_type": "code",
        "colab": {}
      },
      "source": [
        "seta_data_fnnames = np.delete(seta_data_fnnames, (2499), axis=0)"
      ],
      "execution_count": 0,
      "outputs": []
    },
    {
      "cell_type": "code",
      "metadata": {
        "id": "bFesa2ew9Wmx",
        "colab_type": "code",
        "colab": {}
      },
      "source": [
        "seta_data_fnnames = np.delete(seta_data_fnnames, (2498), axis=0)"
      ],
      "execution_count": 0,
      "outputs": []
    },
    {
      "cell_type": "code",
      "metadata": {
        "id": "8P6aAjxr9eKB",
        "colab_type": "code",
        "outputId": "03781616-ee23-45e4-c3cc-4d57d24a00b3",
        "colab": {
          "base_uri": "https://localhost:8080/",
          "height": 163
        }
      },
      "source": [
        "len(q)"
      ],
      "execution_count": 1,
      "outputs": [
        {
          "output_type": "error",
          "ename": "NameError",
          "evalue": "ignored",
          "traceback": [
            "\u001b[0;31m---------------------------------------------------------------------------\u001b[0m",
            "\u001b[0;31mNameError\u001b[0m                                 Traceback (most recent call last)",
            "\u001b[0;32m<ipython-input-1-cefc24a8c104>\u001b[0m in \u001b[0;36m<module>\u001b[0;34m()\u001b[0m\n\u001b[0;32m----> 1\u001b[0;31m \u001b[0mlen\u001b[0m\u001b[0;34m(\u001b[0m\u001b[0mq\u001b[0m\u001b[0;34m)\u001b[0m\u001b[0;34m\u001b[0m\u001b[0;34m\u001b[0m\u001b[0m\n\u001b[0m",
            "\u001b[0;31mNameError\u001b[0m: name 'q' is not defined"
          ]
        }
      ]
    },
    {
      "cell_type": "code",
      "metadata": {
        "id": "CSx5du9S8hy_",
        "colab_type": "code",
        "colab": {}
      },
      "source": [
        "import numpy as np\n",
        "import cv2\n",
        "q1 = np.empty((1, 150, 150, 3))\n",
        "q2 = np.empty((1, 150, 150, 3))\n",
        "for a in range(1, len(seta_data_fnnames), 1):\n",
        "  img_path_a = os.path.join(seta_data_dir, seta_data_fnnames[a])\n",
        "  img_a = cv2.imread(os.path.join(seta_data_dir, seta_data_fnnames[a]))\n",
        "  img_a = cv2.resize(img_a, (150, 150))\n",
        "  q1 = np.vstack((q1, img_to_array(img_a).reshape(1, 150, 150, 3)))\n",
        "  t1 = np.ones([len(seta_data_fnnames),1])\n",
        "  \n",
        "for b in range(1, len(setb_data_fnnames), 1):\n",
        "  img_path_b = os.path.join(setb_data_dir, setb_data_fnnames[b])\n",
        "  img_b = cv2.imread(os.path.join(setb_data_dir, setb_data_fnnames[b]))\n",
        "  img_b = cv2.resize(img_b, (150, 150))\n",
        "  q2 = np.vstack((q2, img_to_array(img_b).reshape(1, 150, 150, 3)))\n",
        "  t2 = np.zeros([len(setb_data_fnnames),1])"
      ],
      "execution_count": 0,
      "outputs": []
    },
    {
      "cell_type": "code",
      "metadata": {
        "id": "-j_mG9nW8ldF",
        "colab_type": "code",
        "colab": {}
      },
      "source": [
        "t = np.vstack((t1, t2))\n",
        "q = np.vstack((q1, q2))"
      ],
      "execution_count": 0,
      "outputs": []
    },
    {
      "cell_type": "code",
      "metadata": {
        "id": "YMaT1iikOz5p",
        "colab_type": "code",
        "outputId": "eff10c06-bc09-497e-bfa5-f6c93ca64780",
        "colab": {
          "base_uri": "https://localhost:8080/",
          "height": 910
        }
      },
      "source": [
        "#Import Tensorflow Libraries\n",
        "from tensorflow.keras import layers\n",
        "from tensorflow.keras import Model\n",
        "from keras import regularizers\n",
        "import tensorflow as tf\n",
        "from sklearn.metrics import roc_curve\n",
        "from sklearn.metrics import accuracy_score, hamming_loss\n",
        "from sklearn.metrics import confusion_matrix\n",
        "from sklearn import metrics\n",
        "from sklearn.metrics import classification_report"
      ],
      "execution_count": 0,
      "outputs": [
        {
          "output_type": "stream",
          "text": [
            "WARNING:tensorflow:From /usr/local/lib/python3.6/dist-packages/tensorflow_core/python/ops/resource_variable_ops.py:1630: calling BaseResourceVariable.__init__ (from tensorflow.python.ops.resource_variable_ops) with constraint is deprecated and will be removed in a future version.\n",
            "Instructions for updating:\n",
            "If using Keras pass *_constraint arguments to layers.\n",
            "WARNING:tensorflow:From /usr/local/lib/python3.6/dist-packages/tensorflow_core/python/ops/nn_impl.py:183: where (from tensorflow.python.ops.array_ops) is deprecated and will be removed in a future version.\n",
            "Instructions for updating:\n",
            "Use tf.where in 2.0, which has the same broadcast rule as np.where\n",
            "Train on 3371 samples, validate on 375 samples\n",
            "Epoch 1/2\n",
            "3371/3371 [==============================] - 555s 165ms/sample - loss: 1.2625 - acc: 0.9508 - val_loss: 4.2663e-06 - val_acc: 1.0000\n",
            "Epoch 2/2\n",
            "3371/3371 [==============================] - 549s 163ms/sample - loss: 0.0277 - acc: 0.9973 - val_loss: 3.9593e-04 - val_acc: 1.0000\n",
            "1250/1250 [==============================] - 53s 42ms/sample - loss: 8.3482e-04 - acc: 1.0000\n",
            "acc: 100.00%\n"
          ],
          "name": "stdout"
        },
        {
          "output_type": "display_data",
          "data": {
            "image/png": "[encoded data removed]",
            "text/plain": [
              "<Figure size 432x288 with 1 Axes>"
            ]
          },
          "metadata": {
            "tags": []
          }
        },
        {
          "output_type": "stream",
          "text": [
            "Confusion Matrix :\n",
            " [[1. 0.]\n",
            " [0. 1.]]\n",
            "Classioficaton Report :\n",
            "               precision    recall  f1-score   support\n",
            "\n",
            "     class 0       1.00      1.00      1.00       625\n",
            "     class 1       1.00      1.00      1.00       625\n",
            "\n",
            "    accuracy                           1.00      1250\n",
            "   macro avg       1.00      1.00      1.00      1250\n",
            "weighted avg       1.00      1.00      1.00      1250\n",
            "\n",
            "Precision score: 1.0\n",
            "Recall score: 1.0\n",
            "f1_score : 1.0\n",
            "fbeta_score_0.5 : 1.0\n",
            "fbeta_score_1 : 1.0\n",
            "fbeta_score_2 : 1.0\n",
            "precision_recall_fscore_support : (array([1., 1.]), array([1., 1.]), array([1., 1.]), array([625, 625]))\n",
            "Train on 3371 samples, validate on 375 samples\n",
            "Epoch 1/2\n"
          ],
          "name": "stdout"
        }
      ]
    },
    {
      "cell_type": "code",
      "metadata": {
        "id": "q8kCjl0sA88O",
        "colab_type": "code",
        "colab": {}
      },
      "source": [
        "# create model\n",
        "img_input = layers.Input(shape=(150, 150, 3))\n",
        "\n",
        "# 2D Conv Layer with 64 filters of dimension 3x3 and ReLU activation function\n",
        "x = layers.Conv2D(64, 3, activation = 'relu')(img_input)\n",
        "# 2D Max Pooling Layer\n",
        "x = layers.MaxPooling2D(2)(x)\n",
        "\n",
        "# 2D Conv Layer with 128 filters of dimension 3x3 and ReLU activation function\n",
        "x = layers.Conv2D(128, 3, activation = 'relu')(x)\n",
        "# 2D Max Pooling Layer\n",
        "x = layers.MaxPooling2D(2)(x)\n",
        "\n",
        "# 2D Conv Layer with 256 filters of dimension 3x3 and ReLU activation function\n",
        "x = layers.Conv2D(256, 3, activation = 'relu')(x)\n",
        "# 2D Max Pooling Layer\n",
        "x = layers.MaxPooling2D(2)(x)\n",
        "\n",
        "# 2D Conv Layer with 512 filters of dimension 3x3 and ReLU activation function\n",
        "x = layers.Conv2D(512, 3, activation = 'relu')(x)\n",
        "# 2D Max Pooling Layer\n",
        "x = layers.MaxPooling2D(2)(x)\n",
        "\n",
        "# 2D Conv Layer with 512 filters of dimension 3x3 and ReLU activation function\n",
        "x = layers.Conv2D(512, 3, activation = 'relu')(x)\n",
        "\n",
        "# Faltten Layer\n",
        "x = layers.Flatten()(x)\n",
        "\n",
        "# Fully Connected Layers and ReLU activation algoritm\n",
        "#x = layers.Dense(4096, activation = 'relu')(x)\n",
        "x = layers.Dense(4096, activation = 'relu')(x)\n",
        "\n",
        "# Dropout Layer for Optimization\n",
        "x = layers.Dropout(0.5,noise_shape=None, seed=None)(x)\n",
        "  \n",
        "x = layers.Dense(1000, activation = 'relu')(x)\n",
        "\n",
        "# Dropout Layer for Optimization\n",
        "x = layers.Dropout(0.5,noise_shape=None, seed=None)(x)\n",
        "\n",
        "# Fully connected layers and sigmoid activation algorithm\n",
        "output = layers.Dense(1, activation = 'sigmoid')(x)\n",
        "\n",
        "model = Model(img_input, output)"
      ],
      "execution_count": 0,
      "outputs": []
    },
    {
      "cell_type": "code",
      "metadata": {
        "id": "ORJ6AHBbDo7W",
        "colab_type": "code",
        "colab": {}
      },
      "source": [
        "from sklearn.model_selection import train_test_split\n",
        "X_train, X_test, y_train, y_test = train_test_split(q, t, test_size=0.2, shuffle=True)"
      ],
      "execution_count": 0,
      "outputs": []
    },
    {
      "cell_type": "code",
      "metadata": {
        "id": "sCGZGsoYA-PT",
        "colab_type": "code",
        "colab": {}
      },
      "source": [
        "# Compile model\n",
        "model.compile(loss = 'binary_crossentropy', optimizer = tf.train.AdamOptimizer(learning_rate = 0.0005), metrics = ['accuracy'])\n",
        "# Fit the model\n",
        "#model.fit(q[train], t[train], epochs=2, batch_size=32, verbose=1)\n",
        "history = model.fit(X_train, y_train, epochs=2, batch_size=32, validation_split=0.1, verbose = 1, shuffle=True)"
      ],
      "execution_count": 0,
      "outputs": []
    },
    {
      "cell_type": "code",
      "metadata": {
        "id": "TLJzAyAwBFF9",
        "colab_type": "code",
        "colab": {}
      },
      "source": [
        "y_pred = model.predict(q[test])\n",
        "fpr, tpr, thresholds = roc_curve(y_test, y_pred, pos_label=None)\n",
        "from sklearn.metrics import auc\n",
        "auc = auc(fpr, tpr)\n",
        "\n",
        "nsamples, nx, ny, nz = X_train.shape\n",
        "nsamplesx, nxx, nyx, nzx = X_test.shape\n",
        "train_dataset = X_train.reshape((nsamples,nx*ny*nz))\n",
        "test_dataset = X_test.reshape((nsamplesx,nxx*nyx*nzx))\n",
        "\n",
        "plt.figure(1)\n",
        "plt.plot([0, 1], [0, 1], 'k--')\n",
        "plt.plot(fpr, tpr, label='Keras (area = {:.3f})'.format(auc))\n",
        "plt.xlabel('False positive rate')\n",
        "plt.ylabel('True positive rate')\n",
        "plt.title('ROC curve')\n",
        "plt.legend(loc='best')\n",
        "plt.show()\n",
        "  \n",
        "accuracy_score(y_test,  y_pred.round(), normalize=True, sample_weight=None)\n",
        "hamming_loss(y_test, y_pred.round())\n",
        "cm = confusion_matrix(y_test, y_pred.round())\n",
        "cm = cm.astype('float') / cm.sum(axis=1)[:, np.newaxis]\n",
        "print('Confusion Matrix :\\n', cm)\n",
        "target_names = ['class 0', 'class 1']\n",
        "print('Classioficaton Report :\\n', classification_report(y_test, y_pred.round(), target_names=target_names))\n",
        "print('Precision score:', metrics.precision_score(y_test, y_pred.round()))\n",
        "print('Recall score:', metrics.recall_score(y_test, y_pred.round()))\n",
        "print('f1_score :', metrics.f1_score(y_test, y_pred.round()))  \n",
        "print('fbeta_score_0.5 :', metrics.fbeta_score(y_test, y_pred.round(), beta=0.5))\n",
        "print('fbeta_score_1 :', metrics.fbeta_score(y_test, y_pred.round(), beta=1)) \n",
        "print('fbeta_score_2 :', metrics.fbeta_score(y_test, y_pred.round(), beta=2)) \n",
        "print('precision_recall_fscore_support :', metrics.precision_recall_fscore_support(y_test, y_pred.round(), beta=0.5))"
      ],
      "execution_count": 0,
      "outputs": []
    },
    {
      "cell_type": "code",
      "metadata": {
        "id": "NWpaeNXLP1zQ",
        "colab_type": "code",
        "outputId": "b5680f99-b317-4c10-e6a3-1ddf335c545c",
        "colab": {
          "base_uri": "https://localhost:8080/",
          "height": 34
        }
      },
      "source": [
        "y_pred[53]"
      ],
      "execution_count": 0,
      "outputs": [
        {
          "output_type": "execute_result",
          "data": {
            "text/plain": [
              "array([1.], dtype=float32)"
            ]
          },
          "metadata": {
            "tags": []
          },
          "execution_count": 13
        }
      ]
    },
    {
      "cell_type": "code",
      "metadata": {
        "id": "vZnnJnPPOXrK",
        "colab_type": "code",
        "outputId": "ee3b04ae-edfb-4edf-b2b0-0e483fef6995",
        "colab": {
          "base_uri": "https://localhost:8080/",
          "height": 163
        }
      },
      "source": [
        "array_to_img(cv2.resize(X_test[53], (300, 300)))"
      ],
      "execution_count": 0,
      "outputs": [
        {
          "output_type": "error",
          "ename": "NameError",
          "evalue": "ignored",
          "traceback": [
            "\u001b[0;31m---------------------------------------------------------------------------\u001b[0m",
            "\u001b[0;31mNameError\u001b[0m                                 Traceback (most recent call last)",
            "\u001b[0;32m<ipython-input-14-938338962a53>\u001b[0m in \u001b[0;36m<module>\u001b[0;34m()\u001b[0m\n\u001b[0;32m----> 1\u001b[0;31m \u001b[0marray_to_img\u001b[0m\u001b[0;34m(\u001b[0m\u001b[0mcv2\u001b[0m\u001b[0;34m.\u001b[0m\u001b[0mresize\u001b[0m\u001b[0;34m(\u001b[0m\u001b[0mX_test\u001b[0m\u001b[0;34m[\u001b[0m\u001b[0;36m53\u001b[0m\u001b[0;34m]\u001b[0m\u001b[0;34m,\u001b[0m \u001b[0;34m(\u001b[0m\u001b[0;36m300\u001b[0m\u001b[0;34m,\u001b[0m \u001b[0;36m300\u001b[0m\u001b[0;34m)\u001b[0m\u001b[0;34m)\u001b[0m\u001b[0;34m)\u001b[0m\u001b[0;34m\u001b[0m\u001b[0;34m\u001b[0m\u001b[0m\n\u001b[0m",
            "\u001b[0;31mNameError\u001b[0m: name 'X_test' is not defined"
          ]
        }
      ]
    },
    {
      "cell_type": "code",
      "metadata": {
        "id": "GeCRw78EQHlg",
        "colab_type": "code",
        "outputId": "85035f1e-b1ad-4a2f-e230-41670292c5c5",
        "colab": {
          "base_uri": "https://localhost:8080/",
          "height": 119
        }
      },
      "source": [
        "import numpy as np\n",
        "cal_glitch = 0\n",
        "cal_noise = 0\n",
        "cal_unconclusive = 0\n",
        "\n",
        "alist=[]\n",
        "for fname in seta_data_fnnames:\n",
        "    if fname.startswith(\".\"):\n",
        "        continue\n",
        "    file_path = os.path.join(seta_data_dir, fname)\n",
        "    load_file = load_img(file_path, target_size = (150, 150))\n",
        "    load_file = (np.expand_dims(load_file, 0))\n",
        "    pred_img = model.predict(load_file)\n",
        "    if(pred_img[0]>0.5):\n",
        "        cal_glitch+=1\n",
        "    elif(pred_img[0]<0.5):\n",
        "        cal_noise+=1\n",
        "    else:\n",
        "        print(pred_img[0], \"\\n\")\n",
        "        cal_unconclusive+=1\n",
        "        alist.append(file_path)\n",
        "#print(alist)\n",
        "\n",
        "print(\"Identified as: \\n\")\n",
        "print(\"Glitch :\", cal_glitch)\n",
        "print(\"Noise :\", cal_noise)\n",
        "print(\"Inconclusive :\", cal_unconclusive)\n",
        "print(\"Percentage :\", (cal_glitch/(cal_glitch+cal_unconclusive+cal_noise))*100)\n",
        "a = (cal_glitch/(cal_glitch+cal_unconclusive+cal_noise))*100"
      ],
      "execution_count": 0,
      "outputs": [
        {
          "output_type": "stream",
          "text": [
            "Identified as: \n",
            "\n",
            "Glitch : 1803\n",
            "Noise : 1\n",
            "Inconclusive : 0\n",
            "Percentage : 99.94456762749445\n"
          ],
          "name": "stdout"
        }
      ]
    },
    {
      "cell_type": "code",
      "metadata": {
        "id": "E6AHCatiOsos",
        "colab_type": "code",
        "outputId": "ad3e83b0-5c33-495c-8d54-350b2027a747",
        "colab": {
          "base_uri": "https://localhost:8080/",
          "height": 119
        }
      },
      "source": [
        "import numpy as np\n",
        "cal_glitch = 0\n",
        "cal_noise = 0\n",
        "cal_unconclusive = 0\n",
        "\n",
        "alist=[]\n",
        "for fname in setb_data_fnnames:\n",
        "    if fname.startswith(\".\"):\n",
        "        continue\n",
        "    file_path = os.path.join(setb_data_dir, fname)\n",
        "    load_file = load_img(file_path, target_size = (150, 150))\n",
        "    load_file = (np.expand_dims(load_file, 0))\n",
        "    pred_img = model.predict(load_file)\n",
        "    if(pred_img[0]<0.5):\n",
        "        cal_noise+=1\n",
        "    elif(pred_img[0]>0.5):\n",
        "        cal_glitch+=1\n",
        "    else:\n",
        "        print(pred_img[0], \"\\n\")\n",
        "        cal_unconclusive+=1\n",
        "        alist.append(file_path)\n",
        "#print(alist)\n",
        "\n",
        "print(\"Identified as: \\n\")\n",
        "print(\"Glitch :\", cal_glitch)\n",
        "print(\"Noise :\", cal_noise)\n",
        "print(\"Inconclusive :\", cal_unconclusive)\n",
        "print(\"Percentage :\", (cal_noise/(cal_glitch+cal_unconclusive+cal_noise))*100)\n",
        "a = (cal_noise/(cal_glitch+cal_unconclusive+cal_noise))*100"
      ],
      "execution_count": 0,
      "outputs": [
        {
          "output_type": "stream",
          "text": [
            "Identified as: \n",
            "\n",
            "Glitch : 0\n",
            "Noise : 1804\n",
            "Inconclusive : 0\n",
            "Percentage : 100.0\n"
          ],
          "name": "stdout"
        }
      ]
    },
    {
      "cell_type": "code",
      "metadata": {
        "id": "kbJ-QZ533tCP",
        "colab_type": "code",
        "colab": {}
      },
      "source": [
        ""
      ],
      "execution_count": 0,
      "outputs": []
    }
  ]
}