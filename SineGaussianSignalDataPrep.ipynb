{
  "nbformat": 4,
  "nbformat_minor": 0,
  "metadata": {
    "colab": {
      "name": "SineGaussianSignalDataPrep.ipynb",
      "provenance": [],
      "collapsed_sections": [],
      "include_colab_link": true
    },
    "kernelspec": {
      "name": "python3",
      "display_name": "Python 3"
    }
  },
  "cells": [
    {
      "cell_type": "markdown",
      "metadata": {
        "id": "view-in-github",
        "colab_type": "text"
      },
      "source": [
        "<a href=\"https://colab.research.google.com/github/SGRGit/gwOsc/blob/Main/SineGaussianSignalDataPrep.ipynb\" target=\"_parent\"><img src=\"https://colab.research.google.com/assets/colab-badge.svg\" alt=\"Open In Colab\"/></a>"
      ]
    },
    {
      "cell_type": "code",
      "metadata": {
        "id": "COtwwXCiAb_p",
        "colab_type": "code",
        "colab": {}
      },
      "source": [
        "import numpy as np\n",
        "from scipy import signal\n",
        "import matplotlib.pyplot as plt\n",
        "#t = np.linspace(-1, 1, 2 * 100, endpoint=False)\n",
        "#i, q, e = signal.gausspulse(t, fc=5, retquad=True, retenv=True)\n",
        "#plt.plot(t, i, t, q, t, e, '--')"
      ],
      "execution_count": 0,
      "outputs": []
    },
    {
      "cell_type": "code",
      "metadata": {
        "id": "DcbkBZ8xJCmi",
        "colab_type": "code",
        "outputId": "2f2b9ac7-f418-4153-af0c-9d992a2d59a4",
        "colab": {
          "base_uri": "https://localhost:8080/",
          "height": 34
        }
      },
      "source": [
        "from google.colab import drive\n",
        "drive.mount('/content/drive')"
      ],
      "execution_count": 0,
      "outputs": [
        {
          "output_type": "stream",
          "text": [
            "Drive already mounted at /content/drive; to attempt to forcibly remount, call drive.mount(\"/content/drive\", force_remount=True).\n"
          ],
          "name": "stdout"
        }
      ]
    },
    {
      "cell_type": "code",
      "metadata": {
        "id": "iHZEOX8XCRQL",
        "colab_type": "code",
        "outputId": "73cff669-d208-436d-cf33-91f10bda2433",
        "colab": {
          "base_uri": "https://localhost:8080/",
          "height": 302
        }
      },
      "source": [
        "t = np.linspace(-3, 3, 2 * 100, endpoint=False)\n",
        "i, q, e = np.array(20)*signal.gausspulse(t, fc = 1 , retquad=True, retenv=True)\n",
        "n = (1/20)*np.array(60)*np.random.randn(len(t))\n",
        "xn = i + n\n",
        "plt.plot(t, xn, 'b', t, i, 'r')"
      ],
      "execution_count": 104,
      "outputs": [
        {
          "output_type": "execute_result",
          "data": {
            "text/plain": [
              "[<matplotlib.lines.Line2D at 0x7f1e418e6eb8>,\n",
              " <matplotlib.lines.Line2D at 0x7f1e418e0080>]"
            ]
          },
          "metadata": {
            "tags": []
          },
          "execution_count": 104
        },
        {
          "output_type": "display_data",
          "data": {
            "image/png": "[encoded data removed]",
            "text/plain": [
              "<Figure size 432x288 with 1 Axes>"
            ]
          },
          "metadata": {
            "tags": []
          }
        }
      ]
    },
    {
      "cell_type": "code",
      "metadata": {
        "id": "t64GP5yJIoVb",
        "colab_type": "code",
        "colab": {}
      },
      "source": [
        "import os\n",
        "base_dir = \"drive/My Drive/Colab Notebooks/SignalProc/Iteration 2\"\n",
        "seta = 'actual'\n",
        "setb = 'noise'\n",
        "\n",
        "train_dir = os.path.join(base_dir, 'train')\n",
        "validation_dir = os.path.join(base_dir, 'validation')\n",
        "test_dir = os.path.join(base_dir, 'test')\n",
        "\n",
        "def prepare_data(base_dir, seta, setb):\n",
        "    seta_train_dir = os.path.join(train_dir, seta)\n",
        "    setb_train_dir = os.path.join(train_dir, setb)\n",
        "    \n",
        "    seta_valid_dir = os.path.join(validation_dir, seta)\n",
        "    setb_valid_dir = os.path.join(validation_dir, setb)\n",
        "    \n",
        "    seta_train_fnnames = os.listdir(seta_train_dir)\n",
        "    setb_train_fnnames = os.listdir(setb_train_dir)\n",
        "    \n",
        "    return seta_train_dir, setb_train_dir, seta_valid_dir, setb_valid_dir, seta_train_fnnames, setb_train_fnnames\n",
        "\n",
        "seta_train_dir, setb_train_dir, seta_valid_dir, setb_valid_dir, seta_train_fnnames, setb_train_fnnames = prepare_data(base_dir, seta, setb)\n",
        "\n",
        "seta_test_dir = os.path.join(test_dir, seta)\n",
        "setb_test_dir = os.path.join(test_dir, setb)\n",
        "test_fnnames_seta = os.listdir(seta_test_dir)\n",
        "test_fnnames_setb = os.listdir(setb_test_dir)"
      ],
      "execution_count": 0,
      "outputs": []
    },
    {
      "cell_type": "code",
      "metadata": {
        "id": "92SIKu_HAhVI",
        "colab_type": "code",
        "outputId": "84e2b8fc-6b2a-4fda-fbf6-e7d9ee9511c7",
        "colab": {
          "base_uri": "https://localhost:8080/",
          "height": 51
        }
      },
      "source": [
        "from scipy.fftpack import fft\n",
        "import matplotlib.pyplot as plt\n",
        "import numpy as np\n",
        "from scipy import signal\n",
        "fs = 100\n",
        "\n",
        "alpha = np.linspace(1, 5, num = 500)\n",
        "neu = np.linspace(5, 20, num = 500)\n",
        "\n",
        "t = np.linspace(-3, 3, 2 * 100, endpoint=False)\n",
        "amp = np.linespace(1, 200, num = 500)\n",
        "\n",
        "\n",
        "def plot_spectrogram_sig(sig, fs):\n",
        "  from scipy import signal\n",
        "  freqs, times, spectrogram = signal.spectrogram(sig)\n",
        "  plt.imshow(spectrogram, aspect='auto')\n",
        "  plt.ylabel('Frequency band')\n",
        "  plt.xlabel('Time window')\n",
        "  plt.title('Spectrogram for Signal : Iteration %d' %a)\n",
        "  plt.savefig(os.path.join(seta_train_dir,'SPG for Signal%d'%a))\n",
        "  plt.close()\n",
        "  \n",
        "  \n",
        "def plot_spectrogram_ns(noise, fs):\n",
        "  from scipy import signal\n",
        "  freqs, times, spectrogram = signal.spectrogram(noise)\n",
        "  plt.imshow(spectrogram, aspect='auto')\n",
        "  plt.ylabel('Frequency band')\n",
        "  plt.xlabel('Time window')\n",
        "  plt.title('Spectrogram for Noise : Iteration %d' %a)\n",
        "  plt.savefig(os.path.join(setb_train_dir,'SPG for Noise%d'%a))\n",
        "  plt.close()\n",
        "\n",
        "for a in range(0, 500, 1):\n",
        "  i, q, e = signal.gausspulse(t, fc=1*alpha[a], retquad=True, retenv=True)\n",
        "  n = (1/neu[a])*alpha[a]*np.random.randn(len(t)) \n",
        "  xn = i + n # Noise+Signal\n",
        "  plot_spectrogram_sig(xn, fs)\n",
        "\n",
        "for a in range(0, 500, 1):\n",
        "  n = (1/neu[a])*alpha[a]*np.random.randn(len(t)) \n",
        "  plot_spectrogram_ns(n, fs)"
      ],
      "execution_count": 0,
      "outputs": [
        {
          "output_type": "stream",
          "text": [
            "/usr/local/lib/python3.6/dist-packages/scipy/signal/spectral.py:1969: UserWarning: nperseg = 256 is greater than input length  = 200, using nperseg = 200\n",
            "  .format(nperseg, input_length))\n"
          ],
          "name": "stderr"
        }
      ]
    },
    {
      "cell_type": "code",
      "metadata": {
        "id": "zLL2HgP1hinm",
        "colab_type": "code",
        "colab": {}
      },
      "source": [
        ""
      ],
      "execution_count": 0,
      "outputs": []
    }
  ]
}